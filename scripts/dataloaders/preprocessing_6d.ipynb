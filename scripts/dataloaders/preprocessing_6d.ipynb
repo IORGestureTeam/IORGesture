{
 "cells": [
  {
   "cell_type": "code",
   "execution_count": 1,
   "metadata": {},
   "outputs": [],
   "source": [
    "import json\n",
    "import os, sys\n",
    "import pandas as pd\n",
    "import pickle\n",
    "import math\n",
    "import shutil\n",
    "import numpy as np\n",
    "import glob\n",
    "import librosa\n",
    "from tqdm import tqdm\n",
    "\n",
    "from sklearn.pipeline import Pipeline\n",
    "from pymo.parsers import BVHParser\n",
    "from pymo.preprocessing import *\n",
    "from pymo.viz_tools import *"
   ]
  },
  {
   "cell_type": "code",
   "execution_count": 1,
   "metadata": {},
   "outputs": [],
   "source": [
    "joint_list = {\n",
    "    \"beat_joints\" : {\n",
    "        'Hips':         [6,6],\n",
    "        'Spine':        [3,9],\n",
    "        'Spine1':       [3,12],\n",
    "        'Spine2':       [3,15],\n",
    "        'Spine3':       [3,18],\n",
    "        'Neck':         [3,21],\n",
    "        'Neck1':        [3,24],\n",
    "        'Head':         [3,27],\n",
    "        'HeadEnd':      [3,30],\n",
    "\n",
    "        'RShoulder':    [3,33], \n",
    "        'RArm':         [3,36],\n",
    "        'RArm1':        [3,39],\n",
    "        'RHand':        [3,42],    \n",
    "        'RHandM1':      [3,45],\n",
    "        'RHandM2':      [3,48],\n",
    "        'RHandM3':      [3,51],\n",
    "        'RHandM4':      [3,54],\n",
    "\n",
    "        'RHandR':       [3,57],\n",
    "        'RHandR1':      [3,60],\n",
    "        'RHandR2':      [3,63],\n",
    "        'RHandR3':      [3,66],\n",
    "        'RHandR4':      [3,69],\n",
    "\n",
    "        'RHandP':       [3,72],\n",
    "        'RHandP1':      [3,75],\n",
    "        'RHandP2':      [3,78],\n",
    "        'RHandP3':      [3,81],\n",
    "        'RHandP4':      [3,84],\n",
    "\n",
    "        'RHandI':       [3,87],\n",
    "        'RHandI1':      [3,90],\n",
    "        'RHandI2':      [3,93],\n",
    "        'RHandI3':      [3,96],\n",
    "        'RHandI4':      [3,99],\n",
    "\n",
    "        'RHandT1':      [3,102],\n",
    "        'RHandT2':      [3,105],\n",
    "        'RHandT3':      [3,108],\n",
    "        'RHandT4':      [3,111],\n",
    "\n",
    "        'LShoulder':    [3,114], \n",
    "        'LArm':         [3,117],\n",
    "        'LArm1':        [3,120],\n",
    "        'LHand':        [3,123],    \n",
    "        'LHandM1':      [3,126],\n",
    "        'LHandM2':      [3,129],\n",
    "        'LHandM3':      [3,132],\n",
    "        'LHandM4':      [3,135],\n",
    "\n",
    "        'LHandR':       [3,138],\n",
    "        'LHandR1':      [3,141],\n",
    "        'LHandR2':      [3,144],\n",
    "        'LHandR3':      [3,147],\n",
    "        'LHandR4':      [3,150],\n",
    "\n",
    "        'LHandP':       [3,153],\n",
    "        'LHandP1':      [3,156],\n",
    "        'LHandP2':      [3,159],\n",
    "        'LHandP3':      [3,162],\n",
    "        'LHandP4':      [3,165],\n",
    "\n",
    "        'LHandI':       [3,168],\n",
    "        'LHandI1':      [3,171],\n",
    "        'LHandI2':      [3,174],\n",
    "        'LHandI3':      [3,177],\n",
    "        'LHandI4':      [3,180],\n",
    "\n",
    "        'LHandT1':      [3,183],\n",
    "        'LHandT2':      [3,186],\n",
    "        'LHandT3':      [3,189],\n",
    "        'LHandT4':      [3,192],\n",
    "\n",
    "        'RUpLeg':       [3,195],\n",
    "        'RLeg':         [3,198],\n",
    "        'RFoot':        [3,201],\n",
    "        'RFootF':       [3,204],\n",
    "        'RToeBase':     [3,207],\n",
    "        'RToeBaseEnd':  [3,210],\n",
    "\n",
    "        'LUpLeg':       [3,213],\n",
    "        'LLeg':         [3,216],\n",
    "        'LFoot':        [3,219],\n",
    "        'LFootF':       [3,222],\n",
    "        'LToeBase':     [3,225],\n",
    "        'LToeBaseEnd':  [3,228],\n",
    "        },\n",
    "    \n",
    "    \"beat_141\" : {\n",
    "            'Spine':       3 ,\n",
    "            'Neck':        3 ,\n",
    "            'Neck1':       3 ,\n",
    "            'RShoulder':   3 , \n",
    "            'RArm':        3 ,\n",
    "            'RArm1':       3 ,\n",
    "            'RHand':       3 ,    \n",
    "            'RHandM1':     3 ,\n",
    "            'RHandM2':     3 ,\n",
    "            'RHandM3':     3 ,\n",
    "            'RHandR':      3 ,\n",
    "            'RHandR1':     3 ,\n",
    "            'RHandR2':     3 ,\n",
    "            'RHandR3':     3 ,\n",
    "            'RHandP':      3 ,\n",
    "            'RHandP1':     3 ,\n",
    "            'RHandP2':     3 ,\n",
    "            'RHandP3':     3 ,\n",
    "            'RHandI':      3 ,\n",
    "            'RHandI1':     3 ,\n",
    "            'RHandI2':     3 ,\n",
    "            'RHandI3':     3 ,\n",
    "            'RHandT1':     3 ,\n",
    "            'RHandT2':     3 ,\n",
    "            'RHandT3':     3 ,\n",
    "            'LShoulder':   3 , \n",
    "            'LArm':        3 ,\n",
    "            'LArm1':       3 ,\n",
    "            'LHand':       3 ,    \n",
    "            'LHandM1':     3 ,\n",
    "            'LHandM2':     3 ,\n",
    "            'LHandM3':     3 ,\n",
    "            'LHandR':      3 ,\n",
    "            'LHandR1':     3 ,\n",
    "            'LHandR2':     3 ,\n",
    "            'LHandR3':     3 ,\n",
    "            'LHandP':      3 ,\n",
    "            'LHandP1':     3 ,\n",
    "            'LHandP2':     3 ,\n",
    "            'LHandP3':     3 ,\n",
    "            'LHandI':      3 ,\n",
    "            'LHandI1':     3 ,\n",
    "            'LHandI2':     3 ,\n",
    "            'LHandI3':     3 ,\n",
    "            'LHandT1':     3 ,\n",
    "            'LHandT2':     3 ,\n",
    "            'LHandT3':     3 ,\n",
    "        },\n",
    "    \n",
    "    \"beat_27\" : {\n",
    "            'Spine':       3 ,\n",
    "            'Neck':        3 ,\n",
    "            'Neck1':       3 ,\n",
    "            'RShoulder':   3 , \n",
    "            'RArm':        3 ,\n",
    "            'RArm1':       3 ,\n",
    "            'LShoulder':   3 , \n",
    "            'LArm':        3 ,\n",
    "            'LArm1':       3 ,\n",
    "        },\n",
    "}\n",
    "target_fps = 15\n",
    "ori_data_path = f\"./datasets/beat_rawdata_english\"\n",
    "cache_path = f\"./datasets/beat_cache/beat_4english_{target_fps}_141/train\""
   ]
  },
  {
   "cell_type": "code",
   "execution_count": 3,
   "metadata": {},
   "outputs": [
    {
     "name": "stdout",
     "output_type": "stream",
     "text": [
      "[2, 4, 6, 8]\n"
     ]
    }
   ],
   "source": [
    "#define which speakers included in current train\n",
    "#speakers = list(map(int, sorted(os.listdir(ori_data_path),key=str,)))\n",
    "speakers = [2, 4, 6, 8]\n",
    "print(speakers)"
   ]
  },
  {
   "cell_type": "code",
   "execution_count": null,
   "metadata": {},
   "outputs": [
    {
     "name": "stdout",
     "output_type": "stream",
     "text": [
      "61.08784103393555\n"
     ]
    }
   ],
   "source": [
    "#transform all .wav to .npm using librosa\n",
    "import time\n",
    "audio_load_start_time = time.time()\n",
    "for file in glob.glob(f\"{ori_data_path}/**/*.wav\", recursive=True):\n",
    "    #print(f\"making cache for {file} to {file[:-4]}.npy\")\n",
    "    audio, sr = librosa.load(f\"{file}\", sr=16000)\n",
    "    #np.save(f\"{file[:-4]}.npy\", audio)\n",
    "print(f\"{time.time() - audio_load_start_time}\")"
   ]
  },
  {
   "cell_type": "code",
   "execution_count": 5,
   "metadata": {},
   "outputs": [],
   "source": [
    "#makedirs for cache data\n",
    "os.makedirs(f\"{cache_path}/\")\n",
    "os.mkdir(f\"{cache_path}/bvh_rot/\")\n",
    "os.mkdir(f\"{cache_path}/bvh_rot_6d/\")\n",
    "#os.mkdir(f\"{cache_path}/bvh_full/\")\n",
    "os.mkdir(f\"{cache_path}/bvh_rot_vis/\")\n",
    "os.mkdir(f\"{cache_path}/head_rot/\")\n",
    "os.mkdir(f\"{cache_path}/wave16k/\")\n",
    "os.mkdir(f\"{cache_path}/facial52/\")\n",
    "os.mkdir(f\"{cache_path}/text/\")\n",
    "os.mkdir(f\"{cache_path}/emo/\")\n",
    "os.mkdir(f\"{cache_path}/sem/\")"
   ]
  },
  {
   "cell_type": "code",
   "execution_count": 8,
   "metadata": {},
   "outputs": [
    {
     "name": "stdout",
     "output_type": "stream",
     "text": [
      "target_fps: 15, reduce json 4, reduce bvh 8\n"
     ]
    },
    {
     "name": "stderr",
     "output_type": "stream",
     "text": [
      "  0%|          | 0/4 [00:00<?, ?it/s]"
     ]
    },
    {
     "name": "stdout",
     "output_type": "stream",
     "text": [
      "file: 2_scott_0_91_91\n"
     ]
    },
    {
     "name": "stderr",
     "output_type": "stream",
     "text": [
      "/tmp/ipykernel_2504227/1142981413.py:59: DeprecationWarning: string or file could not be read to its end due to unmatched data; this will raise a ValueError in the future.\n",
      "  data = np.fromstring(line_data, dtype=float, sep=' ')\n"
     ]
    },
    {
     "name": "stdout",
     "output_type": "stream",
     "text": [
      "file: 2_scott_0_6_6\n"
     ]
    },
    {
     "name": "stderr",
     "output_type": "stream",
     "text": []
    },
    {
     "name": "stdout",
     "output_type": "stream",
     "text": [
      "file: 2_scott_0_114_114\n"
     ]
    },
    {
     "name": "stderr",
     "output_type": "stream",
     "text": []
    },
    {
     "name": "stdout",
     "output_type": "stream",
     "text": [
      "file: 2_scott_0_85_85\n"
     ]
    },
    {
     "name": "stderr",
     "output_type": "stream",
     "text": []
    },
    {
     "name": "stdout",
     "output_type": "stream",
     "text": [
      "file: 2_scott_0_16_16\n"
     ]
    },
    {
     "name": "stderr",
     "output_type": "stream",
     "text": []
    },
    {
     "name": "stdout",
     "output_type": "stream",
     "text": [
      "file: 2_scott_1_10_10\n"
     ]
    },
    {
     "name": "stderr",
     "output_type": "stream",
     "text": []
    },
    {
     "name": "stdout",
     "output_type": "stream",
     "text": [
      "file: 2_scott_0_93_93\n"
     ]
    },
    {
     "name": "stderr",
     "output_type": "stream",
     "text": []
    },
    {
     "name": "stdout",
     "output_type": "stream",
     "text": [
      "file: 2_scott_0_98_98\n"
     ]
    },
    {
     "name": "stderr",
     "output_type": "stream",
     "text": []
    },
    {
     "name": "stdout",
     "output_type": "stream",
     "text": [
      "file: 2_scott_0_27_27\n"
     ]
    },
    {
     "name": "stderr",
     "output_type": "stream",
     "text": []
    },
    {
     "name": "stdout",
     "output_type": "stream",
     "text": [
      "file: 2_scott_0_61_61\n"
     ]
    },
    {
     "name": "stderr",
     "output_type": "stream",
     "text": []
    },
    {
     "name": "stdout",
     "output_type": "stream",
     "text": [
      "file: 2_scott_0_57_57\n"
     ]
    },
    {
     "name": "stderr",
     "output_type": "stream",
     "text": []
    },
    {
     "name": "stdout",
     "output_type": "stream",
     "text": [
      "file: 2_scott_0_88_88\n"
     ]
    },
    {
     "name": "stderr",
     "output_type": "stream",
     "text": []
    },
    {
     "name": "stdout",
     "output_type": "stream",
     "text": [
      "file: 2_scott_0_46_46\n"
     ]
    },
    {
     "name": "stderr",
     "output_type": "stream",
     "text": []
    },
    {
     "name": "stdout",
     "output_type": "stream",
     "text": [
      "file: 2_scott_0_72_72\n"
     ]
    },
    {
     "name": "stderr",
     "output_type": "stream",
     "text": []
    },
    {
     "name": "stdout",
     "output_type": "stream",
     "text": [
      "file: 2_scott_0_1_1\n"
     ]
    },
    {
     "name": "stderr",
     "output_type": "stream",
     "text": []
    },
    {
     "name": "stdout",
     "output_type": "stream",
     "text": [
      "file: 2_scott_0_110_110\n"
     ]
    },
    {
     "name": "stderr",
     "output_type": "stream",
     "text": []
    },
    {
     "name": "stdout",
     "output_type": "stream",
     "text": [
      "file: 2_scott_0_95_95\n"
     ]
    },
    {
     "name": "stderr",
     "output_type": "stream",
     "text": []
    },
    {
     "name": "stdout",
     "output_type": "stream",
     "text": [
      "file: 2_scott_0_67_67\n"
     ]
    },
    {
     "name": "stderr",
     "output_type": "stream",
     "text": []
    },
    {
     "name": "stdout",
     "output_type": "stream",
     "text": [
      "file: 2_scott_0_36_36\n"
     ]
    },
    {
     "name": "stderr",
     "output_type": "stream",
     "text": []
    },
    {
     "name": "stdout",
     "output_type": "stream",
     "text": [
      "file: 2_scott_0_25_25\n"
     ]
    },
    {
     "name": "stderr",
     "output_type": "stream",
     "text": []
    },
    {
     "name": "stdout",
     "output_type": "stream",
     "text": [
      "file: 2_scott_0_32_32\n"
     ]
    },
    {
     "name": "stderr",
     "output_type": "stream",
     "text": []
    },
    {
     "name": "stdout",
     "output_type": "stream",
     "text": [
      "file: 2_scott_0_66_66\n"
     ]
    },
    {
     "name": "stderr",
     "output_type": "stream",
     "text": []
    },
    {
     "name": "stdout",
     "output_type": "stream",
     "text": [
      "file: 2_scott_0_19_19\n"
     ]
    },
    {
     "name": "stderr",
     "output_type": "stream",
     "text": []
    },
    {
     "name": "stdout",
     "output_type": "stream",
     "text": [
      "file: 2_scott_0_3_3\n"
     ]
    },
    {
     "name": "stderr",
     "output_type": "stream",
     "text": []
    },
    {
     "name": "stdout",
     "output_type": "stream",
     "text": [
      "file: 2_scott_0_39_39\n"
     ]
    },
    {
     "name": "stderr",
     "output_type": "stream",
     "text": []
    },
    {
     "name": "stdout",
     "output_type": "stream",
     "text": [
      "file: 2_scott_0_9_9\n"
     ]
    },
    {
     "name": "stderr",
     "output_type": "stream",
     "text": []
    },
    {
     "name": "stdout",
     "output_type": "stream",
     "text": [
      "file: 2_scott_0_69_69\n"
     ]
    },
    {
     "name": "stderr",
     "output_type": "stream",
     "text": []
    },
    {
     "name": "stdout",
     "output_type": "stream",
     "text": [
      "file: 2_scott_0_52_52\n"
     ]
    },
    {
     "name": "stderr",
     "output_type": "stream",
     "text": []
    },
    {
     "name": "stdout",
     "output_type": "stream",
     "text": [
      "file: 2_scott_0_11_11\n"
     ]
    },
    {
     "name": "stderr",
     "output_type": "stream",
     "text": []
    },
    {
     "name": "stdout",
     "output_type": "stream",
     "text": [
      "file: 2_scott_0_107_107\n"
     ]
    },
    {
     "name": "stderr",
     "output_type": "stream",
     "text": []
    },
    {
     "name": "stdout",
     "output_type": "stream",
     "text": [
      "file: 2_scott_0_73_73\n"
     ]
    },
    {
     "name": "stderr",
     "output_type": "stream",
     "text": []
    },
    {
     "name": "stdout",
     "output_type": "stream",
     "text": [
      "file: 2_scott_0_80_80\n"
     ]
    },
    {
     "name": "stderr",
     "output_type": "stream",
     "text": []
    },
    {
     "name": "stdout",
     "output_type": "stream",
     "text": [
      "file: 2_scott_0_49_49\n"
     ]
    },
    {
     "name": "stderr",
     "output_type": "stream",
     "text": []
    },
    {
     "name": "stdout",
     "output_type": "stream",
     "text": [
      "file: 2_scott_1_6_6\n"
     ]
    },
    {
     "name": "stderr",
     "output_type": "stream",
     "text": []
    },
    {
     "name": "stdout",
     "output_type": "stream",
     "text": [
      "file: 2_scott_0_108_108\n"
     ]
    },
    {
     "name": "stderr",
     "output_type": "stream",
     "text": []
    },
    {
     "name": "stdout",
     "output_type": "stream",
     "text": [
      "file: 2_scott_0_118_118\n"
     ]
    },
    {
     "name": "stderr",
     "output_type": "stream",
     "text": []
    },
    {
     "name": "stdout",
     "output_type": "stream",
     "text": [
      "file: 2_scott_0_86_86\n"
     ]
    },
    {
     "name": "stderr",
     "output_type": "stream",
     "text": []
    },
    {
     "name": "stdout",
     "output_type": "stream",
     "text": [
      "file: 2_scott_0_103_103\n"
     ]
    },
    {
     "name": "stderr",
     "output_type": "stream",
     "text": []
    },
    {
     "name": "stdout",
     "output_type": "stream",
     "text": [
      "file: 2_scott_0_102_102\n"
     ]
    },
    {
     "name": "stderr",
     "output_type": "stream",
     "text": []
    },
    {
     "name": "stdout",
     "output_type": "stream",
     "text": [
      "file: 2_scott_0_47_47\n"
     ]
    },
    {
     "name": "stderr",
     "output_type": "stream",
     "text": []
    },
    {
     "name": "stdout",
     "output_type": "stream",
     "text": [
      "file: 2_scott_0_71_71\n"
     ]
    },
    {
     "name": "stderr",
     "output_type": "stream",
     "text": []
    },
    {
     "name": "stdout",
     "output_type": "stream",
     "text": [
      "file: 2_scott_1_5_5\n"
     ]
    },
    {
     "name": "stderr",
     "output_type": "stream",
     "text": []
    },
    {
     "name": "stdout",
     "output_type": "stream",
     "text": [
      "file: 2_scott_0_77_77\n"
     ]
    },
    {
     "name": "stderr",
     "output_type": "stream",
     "text": []
    },
    {
     "name": "stdout",
     "output_type": "stream",
     "text": [
      "file: 2_scott_0_117_117\n"
     ]
    },
    {
     "name": "stderr",
     "output_type": "stream",
     "text": []
    },
    {
     "name": "stdout",
     "output_type": "stream",
     "text": [
      "file: 2_scott_0_79_79\n"
     ]
    },
    {
     "name": "stderr",
     "output_type": "stream",
     "text": []
    },
    {
     "name": "stdout",
     "output_type": "stream",
     "text": [
      "file: 2_scott_0_92_92\n"
     ]
    },
    {
     "name": "stderr",
     "output_type": "stream",
     "text": []
    },
    {
     "name": "stdout",
     "output_type": "stream",
     "text": [
      "file: 2_scott_0_53_53\n"
     ]
    },
    {
     "name": "stderr",
     "output_type": "stream",
     "text": []
    },
    {
     "name": "stdout",
     "output_type": "stream",
     "text": [
      "file: 2_scott_0_62_62\n"
     ]
    },
    {
     "name": "stderr",
     "output_type": "stream",
     "text": []
    },
    {
     "name": "stdout",
     "output_type": "stream",
     "text": [
      "file: 2_scott_0_111_111\n"
     ]
    },
    {
     "name": "stderr",
     "output_type": "stream",
     "text": []
    },
    {
     "name": "stdout",
     "output_type": "stream",
     "text": [
      "file: 2_scott_0_40_40\n"
     ]
    },
    {
     "name": "stderr",
     "output_type": "stream",
     "text": []
    },
    {
     "name": "stdout",
     "output_type": "stream",
     "text": [
      "file: 2_scott_0_90_90\n"
     ]
    },
    {
     "name": "stderr",
     "output_type": "stream",
     "text": []
    },
    {
     "name": "stdout",
     "output_type": "stream",
     "text": [
      "file: 2_scott_0_83_83\n"
     ]
    },
    {
     "name": "stderr",
     "output_type": "stream",
     "text": []
    },
    {
     "name": "stdout",
     "output_type": "stream",
     "text": [
      "file: 2_scott_0_4_4\n"
     ]
    },
    {
     "name": "stderr",
     "output_type": "stream",
     "text": []
    },
    {
     "name": "stdout",
     "output_type": "stream",
     "text": [
      "file: 2_scott_0_41_41\n"
     ]
    },
    {
     "name": "stderr",
     "output_type": "stream",
     "text": []
    },
    {
     "name": "stdout",
     "output_type": "stream",
     "text": [
      "file: 2_scott_0_10_10\n"
     ]
    },
    {
     "name": "stderr",
     "output_type": "stream",
     "text": []
    },
    {
     "name": "stdout",
     "output_type": "stream",
     "text": [
      "file: 2_scott_0_44_44\n"
     ]
    },
    {
     "name": "stderr",
     "output_type": "stream",
     "text": []
    },
    {
     "name": "stdout",
     "output_type": "stream",
     "text": [
      "file: 2_scott_0_76_76\n"
     ]
    },
    {
     "name": "stderr",
     "output_type": "stream",
     "text": []
    },
    {
     "name": "stdout",
     "output_type": "stream",
     "text": [
      "file: 2_scott_0_28_28\n"
     ]
    },
    {
     "name": "stderr",
     "output_type": "stream",
     "text": []
    },
    {
     "name": "stdout",
     "output_type": "stream",
     "text": [
      "file: 2_scott_0_29_29\n"
     ]
    },
    {
     "name": "stderr",
     "output_type": "stream",
     "text": []
    },
    {
     "name": "stdout",
     "output_type": "stream",
     "text": [
      "file: 2_scott_1_1_1\n"
     ]
    },
    {
     "name": "stderr",
     "output_type": "stream",
     "text": []
    },
    {
     "name": "stdout",
     "output_type": "stream",
     "text": [
      "file: 2_scott_0_105_105\n"
     ]
    },
    {
     "name": "stderr",
     "output_type": "stream",
     "text": []
    },
    {
     "name": "stdout",
     "output_type": "stream",
     "text": [
      "file: 2_scott_0_55_55\n"
     ]
    },
    {
     "name": "stderr",
     "output_type": "stream",
     "text": []
    },
    {
     "name": "stdout",
     "output_type": "stream",
     "text": [
      "file: 2_scott_0_65_65\n"
     ]
    },
    {
     "name": "stderr",
     "output_type": "stream",
     "text": []
    },
    {
     "name": "stdout",
     "output_type": "stream",
     "text": [
      "file: 2_scott_0_35_35\n"
     ]
    },
    {
     "name": "stderr",
     "output_type": "stream",
     "text": []
    },
    {
     "name": "stdout",
     "output_type": "stream",
     "text": [
      "file: 2_scott_0_18_18\n"
     ]
    },
    {
     "name": "stderr",
     "output_type": "stream",
     "text": []
    },
    {
     "name": "stdout",
     "output_type": "stream",
     "text": [
      "file: 2_scott_0_63_63\n"
     ]
    },
    {
     "name": "stderr",
     "output_type": "stream",
     "text": []
    },
    {
     "name": "stdout",
     "output_type": "stream",
     "text": [
      "file: 2_scott_0_43_43\n"
     ]
    },
    {
     "name": "stderr",
     "output_type": "stream",
     "text": []
    },
    {
     "name": "stdout",
     "output_type": "stream",
     "text": [
      "file: 2_scott_0_68_68\n"
     ]
    },
    {
     "name": "stderr",
     "output_type": "stream",
     "text": []
    },
    {
     "name": "stdout",
     "output_type": "stream",
     "text": [
      "file: 2_scott_0_54_54\n"
     ]
    },
    {
     "name": "stderr",
     "output_type": "stream",
     "text": []
    },
    {
     "name": "stdout",
     "output_type": "stream",
     "text": [
      "file: 2_scott_0_112_112\n"
     ]
    },
    {
     "name": "stderr",
     "output_type": "stream",
     "text": []
    },
    {
     "name": "stdout",
     "output_type": "stream",
     "text": [
      "file: 2_scott_1_9_9\n"
     ]
    },
    {
     "name": "stderr",
     "output_type": "stream",
     "text": []
    },
    {
     "name": "stdout",
     "output_type": "stream",
     "text": [
      "file: 2_scott_0_20_20\n"
     ]
    },
    {
     "name": "stderr",
     "output_type": "stream",
     "text": []
    },
    {
     "name": "stdout",
     "output_type": "stream",
     "text": [
      "file: 2_scott_0_104_104\n"
     ]
    },
    {
     "name": "stderr",
     "output_type": "stream",
     "text": []
    },
    {
     "name": "stdout",
     "output_type": "stream",
     "text": [
      "file: 2_scott_0_31_31\n"
     ]
    },
    {
     "name": "stderr",
     "output_type": "stream",
     "text": []
    },
    {
     "name": "stdout",
     "output_type": "stream",
     "text": [
      "file: 2_scott_1_7_7\n"
     ]
    },
    {
     "name": "stderr",
     "output_type": "stream",
     "text": []
    },
    {
     "name": "stdout",
     "output_type": "stream",
     "text": [
      "file: 2_scott_0_59_59\n"
     ]
    },
    {
     "name": "stderr",
     "output_type": "stream",
     "text": []
    },
    {
     "name": "stdout",
     "output_type": "stream",
     "text": [
      "file: 2_scott_0_26_26\n"
     ]
    },
    {
     "name": "stderr",
     "output_type": "stream",
     "text": []
    },
    {
     "name": "stdout",
     "output_type": "stream",
     "text": [
      "file: 2_scott_0_82_82\n"
     ]
    },
    {
     "name": "stderr",
     "output_type": "stream",
     "text": []
    },
    {
     "name": "stdout",
     "output_type": "stream",
     "text": [
      "file: 2_scott_0_50_50\n"
     ]
    },
    {
     "name": "stderr",
     "output_type": "stream",
     "text": []
    },
    {
     "name": "stdout",
     "output_type": "stream",
     "text": [
      "file: 2_scott_0_75_75\n"
     ]
    },
    {
     "name": "stderr",
     "output_type": "stream",
     "text": []
    },
    {
     "name": "stdout",
     "output_type": "stream",
     "text": [
      "file: 2_scott_0_106_106\n"
     ]
    },
    {
     "name": "stderr",
     "output_type": "stream",
     "text": []
    },
    {
     "name": "stdout",
     "output_type": "stream",
     "text": [
      "file: 2_scott_0_87_87\n"
     ]
    },
    {
     "name": "stderr",
     "output_type": "stream",
     "text": []
    },
    {
     "name": "stdout",
     "output_type": "stream",
     "text": [
      "file: 2_scott_0_48_48\n"
     ]
    },
    {
     "name": "stderr",
     "output_type": "stream",
     "text": []
    },
    {
     "name": "stdout",
     "output_type": "stream",
     "text": [
      "file: 2_scott_0_115_115\n"
     ]
    },
    {
     "name": "stderr",
     "output_type": "stream",
     "text": []
    },
    {
     "name": "stdout",
     "output_type": "stream",
     "text": [
      "file: 2_scott_0_56_56\n"
     ]
    },
    {
     "name": "stderr",
     "output_type": "stream",
     "text": []
    },
    {
     "name": "stdout",
     "output_type": "stream",
     "text": [
      "file: 2_scott_0_97_97\n"
     ]
    },
    {
     "name": "stderr",
     "output_type": "stream",
     "text": []
    },
    {
     "name": "stdout",
     "output_type": "stream",
     "text": [
      "file: 2_scott_1_11_11\n"
     ]
    },
    {
     "name": "stderr",
     "output_type": "stream",
     "text": []
    },
    {
     "name": "stdout",
     "output_type": "stream",
     "text": [
      "file: 2_scott_0_8_8\n"
     ]
    },
    {
     "name": "stderr",
     "output_type": "stream",
     "text": []
    },
    {
     "name": "stdout",
     "output_type": "stream",
     "text": [
      "file: 2_scott_1_4_4\n"
     ]
    },
    {
     "name": "stderr",
     "output_type": "stream",
     "text": []
    },
    {
     "name": "stdout",
     "output_type": "stream",
     "text": [
      "file: 2_scott_0_30_30\n"
     ]
    },
    {
     "name": "stderr",
     "output_type": "stream",
     "text": []
    },
    {
     "name": "stdout",
     "output_type": "stream",
     "text": [
      "file: 2_scott_0_33_33\n"
     ]
    },
    {
     "name": "stderr",
     "output_type": "stream",
     "text": []
    },
    {
     "name": "stdout",
     "output_type": "stream",
     "text": [
      "file: 2_scott_0_60_60\n"
     ]
    },
    {
     "name": "stderr",
     "output_type": "stream",
     "text": []
    },
    {
     "name": "stdout",
     "output_type": "stream",
     "text": [
      "file: 2_scott_0_109_109\n"
     ]
    },
    {
     "name": "stderr",
     "output_type": "stream",
     "text": []
    },
    {
     "name": "stdout",
     "output_type": "stream",
     "text": [
      "file: 2_scott_0_5_5\n"
     ]
    },
    {
     "name": "stderr",
     "output_type": "stream",
     "text": []
    },
    {
     "name": "stdout",
     "output_type": "stream",
     "text": [
      "file: 2_scott_0_96_96\n"
     ]
    },
    {
     "name": "stderr",
     "output_type": "stream",
     "text": []
    },
    {
     "name": "stdout",
     "output_type": "stream",
     "text": [
      "file: 2_scott_0_74_74\n"
     ]
    },
    {
     "name": "stderr",
     "output_type": "stream",
     "text": []
    },
    {
     "name": "stdout",
     "output_type": "stream",
     "text": [
      "file: 2_scott_0_34_34\n"
     ]
    },
    {
     "name": "stderr",
     "output_type": "stream",
     "text": []
    },
    {
     "name": "stdout",
     "output_type": "stream",
     "text": [
      "file: 2_scott_1_3_3\n"
     ]
    },
    {
     "name": "stderr",
     "output_type": "stream",
     "text": []
    },
    {
     "name": "stdout",
     "output_type": "stream",
     "text": [
      "file: 2_scott_0_37_37\n"
     ]
    },
    {
     "name": "stderr",
     "output_type": "stream",
     "text": []
    },
    {
     "name": "stdout",
     "output_type": "stream",
     "text": [
      "file: 2_scott_0_51_51\n"
     ]
    },
    {
     "name": "stderr",
     "output_type": "stream",
     "text": []
    },
    {
     "name": "stdout",
     "output_type": "stream",
     "text": [
      "file: 2_scott_0_58_58\n"
     ]
    },
    {
     "name": "stderr",
     "output_type": "stream",
     "text": []
    },
    {
     "name": "stdout",
     "output_type": "stream",
     "text": [
      "file: 2_scott_0_42_42\n"
     ]
    },
    {
     "name": "stderr",
     "output_type": "stream",
     "text": []
    },
    {
     "name": "stdout",
     "output_type": "stream",
     "text": [
      "file: 2_scott_0_70_70\n"
     ]
    },
    {
     "name": "stderr",
     "output_type": "stream",
     "text": []
    },
    {
     "name": "stdout",
     "output_type": "stream",
     "text": [
      "file: 2_scott_1_8_8\n"
     ]
    },
    {
     "name": "stderr",
     "output_type": "stream",
     "text": []
    },
    {
     "name": "stdout",
     "output_type": "stream",
     "text": [
      "file: 2_scott_0_2_2\n"
     ]
    },
    {
     "name": "stderr",
     "output_type": "stream",
     "text": []
    },
    {
     "name": "stdout",
     "output_type": "stream",
     "text": [
      "file: 2_scott_0_84_84\n"
     ]
    },
    {
     "name": "stderr",
     "output_type": "stream",
     "text": []
    },
    {
     "name": "stdout",
     "output_type": "stream",
     "text": [
      "file: 2_scott_0_13_13\n"
     ]
    },
    {
     "name": "stderr",
     "output_type": "stream",
     "text": []
    },
    {
     "name": "stdout",
     "output_type": "stream",
     "text": [
      "file: 2_scott_0_99_99\n"
     ]
    },
    {
     "name": "stderr",
     "output_type": "stream",
     "text": []
    },
    {
     "name": "stdout",
     "output_type": "stream",
     "text": [
      "file: 2_scott_0_113_113\n"
     ]
    },
    {
     "name": "stderr",
     "output_type": "stream",
     "text": []
    },
    {
     "name": "stdout",
     "output_type": "stream",
     "text": [
      "file: 2_scott_0_100_100\n"
     ]
    },
    {
     "name": "stderr",
     "output_type": "stream",
     "text": []
    },
    {
     "name": "stdout",
     "output_type": "stream",
     "text": [
      "file: 2_scott_0_15_15\n"
     ]
    },
    {
     "name": "stderr",
     "output_type": "stream",
     "text": []
    },
    {
     "name": "stdout",
     "output_type": "stream",
     "text": [
      "file: 2_scott_0_38_38\n"
     ]
    },
    {
     "name": "stderr",
     "output_type": "stream",
     "text": []
    },
    {
     "name": "stdout",
     "output_type": "stream",
     "text": [
      "file: 2_scott_0_94_94\n"
     ]
    },
    {
     "name": "stderr",
     "output_type": "stream",
     "text": []
    },
    {
     "name": "stdout",
     "output_type": "stream",
     "text": [
      "file: 2_scott_0_24_24\n"
     ]
    },
    {
     "name": "stderr",
     "output_type": "stream",
     "text": []
    },
    {
     "name": "stdout",
     "output_type": "stream",
     "text": [
      "file: 2_scott_0_78_78\n"
     ]
    },
    {
     "name": "stderr",
     "output_type": "stream",
     "text": []
    },
    {
     "name": "stdout",
     "output_type": "stream",
     "text": [
      "file: 2_scott_0_7_7\n"
     ]
    },
    {
     "name": "stderr",
     "output_type": "stream",
     "text": []
    },
    {
     "name": "stdout",
     "output_type": "stream",
     "text": [
      "file: 2_scott_0_89_89\n"
     ]
    },
    {
     "name": "stderr",
     "output_type": "stream",
     "text": []
    },
    {
     "name": "stdout",
     "output_type": "stream",
     "text": [
      "file: 2_scott_0_101_101\n"
     ]
    },
    {
     "name": "stderr",
     "output_type": "stream",
     "text": []
    },
    {
     "name": "stdout",
     "output_type": "stream",
     "text": [
      "file: 2_scott_1_12_12\n"
     ]
    },
    {
     "name": "stderr",
     "output_type": "stream",
     "text": []
    },
    {
     "name": "stdout",
     "output_type": "stream",
     "text": [
      "file: 2_scott_0_14_14\n"
     ]
    },
    {
     "name": "stderr",
     "output_type": "stream",
     "text": []
    },
    {
     "name": "stdout",
     "output_type": "stream",
     "text": [
      "file: 2_scott_0_12_12\n"
     ]
    },
    {
     "name": "stderr",
     "output_type": "stream",
     "text": []
    },
    {
     "name": "stdout",
     "output_type": "stream",
     "text": [
      "file: 2_scott_0_23_23\n"
     ]
    },
    {
     "name": "stderr",
     "output_type": "stream",
     "text": []
    },
    {
     "name": "stdout",
     "output_type": "stream",
     "text": [
      "file: 2_scott_0_22_22\n"
     ]
    },
    {
     "name": "stderr",
     "output_type": "stream",
     "text": []
    },
    {
     "name": "stdout",
     "output_type": "stream",
     "text": [
      "file: 2_scott_0_21_21\n"
     ]
    },
    {
     "name": "stderr",
     "output_type": "stream",
     "text": []
    },
    {
     "name": "stdout",
     "output_type": "stream",
     "text": [
      "file: 2_scott_0_81_81\n"
     ]
    },
    {
     "name": "stderr",
     "output_type": "stream",
     "text": []
    },
    {
     "name": "stdout",
     "output_type": "stream",
     "text": [
      "file: 2_scott_0_17_17\n"
     ]
    },
    {
     "name": "stderr",
     "output_type": "stream",
     "text": []
    },
    {
     "name": "stdout",
     "output_type": "stream",
     "text": [
      "file: 2_scott_0_45_45\n"
     ]
    },
    {
     "name": "stderr",
     "output_type": "stream",
     "text": []
    },
    {
     "name": "stdout",
     "output_type": "stream",
     "text": [
      "file: 2_scott_0_116_116\n"
     ]
    },
    {
     "name": "stderr",
     "output_type": "stream",
     "text": []
    },
    {
     "name": "stdout",
     "output_type": "stream",
     "text": [
      "file: 2_scott_0_64_64\n"
     ]
    },
    {
     "name": "stderr",
     "output_type": "stream",
     "text": []
    },
    {
     "name": "stdout",
     "output_type": "stream",
     "text": [
      "file: 2_scott_1_2_2\n"
     ]
    },
    {
     "name": "stderr",
     "output_type": "stream",
     "text": [
      "910it [08:15,  1.83it/s]\n",
      " 25%|██▌       | 1/4 [08:26<25:20, 506.68s/it]"
     ]
    },
    {
     "name": "stdout",
     "output_type": "stream",
     "text": [
      "file: 4_lawrence_0_85_85\n"
     ]
    },
    {
     "name": "stderr",
     "output_type": "stream",
     "text": []
    },
    {
     "name": "stdout",
     "output_type": "stream",
     "text": [
      "file: 4_lawrence_0_96_96\n"
     ]
    },
    {
     "name": "stderr",
     "output_type": "stream",
     "text": []
    },
    {
     "name": "stdout",
     "output_type": "stream",
     "text": [
      "file: 4_lawrence_0_58_58\n"
     ]
    },
    {
     "name": "stderr",
     "output_type": "stream",
     "text": []
    },
    {
     "name": "stdout",
     "output_type": "stream",
     "text": [
      "file: 4_lawrence_0_41_41\n"
     ]
    },
    {
     "name": "stderr",
     "output_type": "stream",
     "text": []
    },
    {
     "name": "stdout",
     "output_type": "stream",
     "text": [
      "file: 4_lawrence_1_3_3\n"
     ]
    },
    {
     "name": "stderr",
     "output_type": "stream",
     "text": []
    },
    {
     "name": "stdout",
     "output_type": "stream",
     "text": [
      "file: 4_lawrence_0_107_107\n"
     ]
    },
    {
     "name": "stderr",
     "output_type": "stream",
     "text": []
    },
    {
     "name": "stdout",
     "output_type": "stream",
     "text": [
      "file: 4_lawrence_0_69_69\n"
     ]
    },
    {
     "name": "stderr",
     "output_type": "stream",
     "text": []
    },
    {
     "name": "stdout",
     "output_type": "stream",
     "text": [
      "file: 4_lawrence_0_1_1\n"
     ]
    },
    {
     "name": "stderr",
     "output_type": "stream",
     "text": []
    },
    {
     "name": "stdout",
     "output_type": "stream",
     "text": [
      "file: 4_lawrence_0_62_62\n"
     ]
    },
    {
     "name": "stderr",
     "output_type": "stream",
     "text": []
    },
    {
     "name": "stdout",
     "output_type": "stream",
     "text": [
      "file: 4_lawrence_0_46_46\n"
     ]
    },
    {
     "name": "stderr",
     "output_type": "stream",
     "text": []
    },
    {
     "name": "stdout",
     "output_type": "stream",
     "text": [
      "file: 4_lawrence_0_89_89\n"
     ]
    },
    {
     "name": "stderr",
     "output_type": "stream",
     "text": []
    },
    {
     "name": "stdout",
     "output_type": "stream",
     "text": [
      "file: 4_lawrence_0_15_15\n"
     ]
    },
    {
     "name": "stderr",
     "output_type": "stream",
     "text": []
    },
    {
     "name": "stdout",
     "output_type": "stream",
     "text": [
      "file: 4_lawrence_0_28_28\n"
     ]
    },
    {
     "name": "stderr",
     "output_type": "stream",
     "text": []
    },
    {
     "name": "stdout",
     "output_type": "stream",
     "text": [
      "file: 4_lawrence_0_13_13\n"
     ]
    },
    {
     "name": "stderr",
     "output_type": "stream",
     "text": []
    },
    {
     "name": "stdout",
     "output_type": "stream",
     "text": [
      "file: 4_lawrence_0_7_7\n"
     ]
    },
    {
     "name": "stderr",
     "output_type": "stream",
     "text": []
    },
    {
     "name": "stdout",
     "output_type": "stream",
     "text": [
      "file: 4_lawrence_0_40_40\n"
     ]
    },
    {
     "name": "stderr",
     "output_type": "stream",
     "text": []
    },
    {
     "name": "stdout",
     "output_type": "stream",
     "text": [
      "file: 4_lawrence_0_111_111\n"
     ]
    },
    {
     "name": "stderr",
     "output_type": "stream",
     "text": []
    },
    {
     "name": "stdout",
     "output_type": "stream",
     "text": [
      "file: 4_lawrence_0_37_37\n"
     ]
    },
    {
     "name": "stderr",
     "output_type": "stream",
     "text": []
    },
    {
     "name": "stdout",
     "output_type": "stream",
     "text": [
      "file: 4_lawrence_0_104_104\n"
     ]
    },
    {
     "name": "stderr",
     "output_type": "stream",
     "text": []
    },
    {
     "name": "stdout",
     "output_type": "stream",
     "text": [
      "file: 4_lawrence_0_70_70\n"
     ]
    },
    {
     "name": "stderr",
     "output_type": "stream",
     "text": []
    },
    {
     "name": "stdout",
     "output_type": "stream",
     "text": [
      "file: 4_lawrence_1_6_6\n"
     ]
    },
    {
     "name": "stderr",
     "output_type": "stream",
     "text": []
    },
    {
     "name": "stdout",
     "output_type": "stream",
     "text": [
      "file: 4_lawrence_1_8_8\n"
     ]
    },
    {
     "name": "stderr",
     "output_type": "stream",
     "text": []
    },
    {
     "name": "stdout",
     "output_type": "stream",
     "text": [
      "file: 4_lawrence_0_117_117\n"
     ]
    },
    {
     "name": "stderr",
     "output_type": "stream",
     "text": []
    },
    {
     "name": "stdout",
     "output_type": "stream",
     "text": [
      "file: 4_lawrence_0_114_114\n"
     ]
    },
    {
     "name": "stderr",
     "output_type": "stream",
     "text": []
    },
    {
     "name": "stdout",
     "output_type": "stream",
     "text": [
      "file: 4_lawrence_0_2_2\n"
     ]
    },
    {
     "name": "stderr",
     "output_type": "stream",
     "text": []
    },
    {
     "name": "stdout",
     "output_type": "stream",
     "text": [
      "file: 4_lawrence_0_65_65\n"
     ]
    },
    {
     "name": "stderr",
     "output_type": "stream",
     "text": []
    },
    {
     "name": "stdout",
     "output_type": "stream",
     "text": [
      "file: 4_lawrence_0_90_90\n"
     ]
    },
    {
     "name": "stderr",
     "output_type": "stream",
     "text": []
    },
    {
     "name": "stdout",
     "output_type": "stream",
     "text": [
      "file: 4_lawrence_0_45_45\n"
     ]
    },
    {
     "name": "stderr",
     "output_type": "stream",
     "text": []
    },
    {
     "name": "stdout",
     "output_type": "stream",
     "text": [
      "file: 4_lawrence_0_113_113\n"
     ]
    },
    {
     "name": "stderr",
     "output_type": "stream",
     "text": []
    },
    {
     "name": "stdout",
     "output_type": "stream",
     "text": [
      "file: 4_lawrence_0_110_110\n"
     ]
    },
    {
     "name": "stderr",
     "output_type": "stream",
     "text": []
    },
    {
     "name": "stdout",
     "output_type": "stream",
     "text": [
      "file: 4_lawrence_0_52_52\n"
     ]
    },
    {
     "name": "stderr",
     "output_type": "stream",
     "text": []
    },
    {
     "name": "stdout",
     "output_type": "stream",
     "text": [
      "file: 4_lawrence_0_87_87\n"
     ]
    },
    {
     "name": "stderr",
     "output_type": "stream",
     "text": []
    },
    {
     "name": "stdout",
     "output_type": "stream",
     "text": [
      "file: 4_lawrence_0_84_84\n"
     ]
    },
    {
     "name": "stderr",
     "output_type": "stream",
     "text": []
    },
    {
     "name": "stdout",
     "output_type": "stream",
     "text": [
      "file: 4_lawrence_0_44_44\n"
     ]
    },
    {
     "name": "stderr",
     "output_type": "stream",
     "text": []
    },
    {
     "name": "stdout",
     "output_type": "stream",
     "text": [
      "file: 4_lawrence_0_23_23\n"
     ]
    },
    {
     "name": "stderr",
     "output_type": "stream",
     "text": []
    },
    {
     "name": "stdout",
     "output_type": "stream",
     "text": [
      "file: 4_lawrence_0_19_19\n"
     ]
    },
    {
     "name": "stderr",
     "output_type": "stream",
     "text": []
    },
    {
     "name": "stdout",
     "output_type": "stream",
     "text": [
      "file: 4_lawrence_0_82_82\n"
     ]
    },
    {
     "name": "stderr",
     "output_type": "stream",
     "text": []
    },
    {
     "name": "stdout",
     "output_type": "stream",
     "text": [
      "file: 4_lawrence_0_17_17\n"
     ]
    },
    {
     "name": "stderr",
     "output_type": "stream",
     "text": []
    },
    {
     "name": "stdout",
     "output_type": "stream",
     "text": [
      "file: 4_lawrence_0_109_109\n"
     ]
    },
    {
     "name": "stderr",
     "output_type": "stream",
     "text": []
    },
    {
     "name": "stdout",
     "output_type": "stream",
     "text": [
      "file: 4_lawrence_0_26_26\n"
     ]
    },
    {
     "name": "stderr",
     "output_type": "stream",
     "text": []
    },
    {
     "name": "stdout",
     "output_type": "stream",
     "text": [
      "file: 4_lawrence_0_71_71\n"
     ]
    },
    {
     "name": "stderr",
     "output_type": "stream",
     "text": []
    },
    {
     "name": "stdout",
     "output_type": "stream",
     "text": [
      "file: 4_lawrence_0_80_80\n"
     ]
    },
    {
     "name": "stderr",
     "output_type": "stream",
     "text": []
    },
    {
     "name": "stdout",
     "output_type": "stream",
     "text": [
      "file: 4_lawrence_0_60_60\n"
     ]
    },
    {
     "name": "stderr",
     "output_type": "stream",
     "text": []
    },
    {
     "name": "stdout",
     "output_type": "stream",
     "text": [
      "file: 4_lawrence_0_10_10\n"
     ]
    },
    {
     "name": "stderr",
     "output_type": "stream",
     "text": []
    },
    {
     "name": "stdout",
     "output_type": "stream",
     "text": [
      "file: 4_lawrence_0_61_61\n"
     ]
    },
    {
     "name": "stderr",
     "output_type": "stream",
     "text": []
    },
    {
     "name": "stdout",
     "output_type": "stream",
     "text": [
      "file: 4_lawrence_1_2_2\n"
     ]
    },
    {
     "name": "stderr",
     "output_type": "stream",
     "text": []
    },
    {
     "name": "stdout",
     "output_type": "stream",
     "text": [
      "file: 4_lawrence_0_118_118\n"
     ]
    },
    {
     "name": "stderr",
     "output_type": "stream",
     "text": []
    },
    {
     "name": "stdout",
     "output_type": "stream",
     "text": [
      "file: 4_lawrence_0_18_18\n"
     ]
    },
    {
     "name": "stderr",
     "output_type": "stream",
     "text": []
    },
    {
     "name": "stdout",
     "output_type": "stream",
     "text": [
      "file: 4_lawrence_0_27_27\n"
     ]
    },
    {
     "name": "stderr",
     "output_type": "stream",
     "text": []
    },
    {
     "name": "stdout",
     "output_type": "stream",
     "text": [
      "file: 4_lawrence_0_64_64\n"
     ]
    },
    {
     "name": "stderr",
     "output_type": "stream",
     "text": []
    },
    {
     "name": "stdout",
     "output_type": "stream",
     "text": [
      "file: 4_lawrence_0_12_12\n"
     ]
    },
    {
     "name": "stderr",
     "output_type": "stream",
     "text": []
    },
    {
     "name": "stdout",
     "output_type": "stream",
     "text": [
      "file: 4_lawrence_1_1_1\n"
     ]
    },
    {
     "name": "stderr",
     "output_type": "stream",
     "text": []
    },
    {
     "name": "stdout",
     "output_type": "stream",
     "text": [
      "file: 4_lawrence_0_22_22\n"
     ]
    },
    {
     "name": "stderr",
     "output_type": "stream",
     "text": []
    },
    {
     "name": "stdout",
     "output_type": "stream",
     "text": [
      "file: 4_lawrence_0_54_54\n"
     ]
    },
    {
     "name": "stderr",
     "output_type": "stream",
     "text": []
    },
    {
     "name": "stdout",
     "output_type": "stream",
     "text": [
      "file: 4_lawrence_0_99_99\n"
     ]
    },
    {
     "name": "stderr",
     "output_type": "stream",
     "text": []
    },
    {
     "name": "stdout",
     "output_type": "stream",
     "text": [
      "file: 4_lawrence_0_101_101\n"
     ]
    },
    {
     "name": "stderr",
     "output_type": "stream",
     "text": []
    },
    {
     "name": "stdout",
     "output_type": "stream",
     "text": [
      "file: 4_lawrence_0_30_30\n"
     ]
    },
    {
     "name": "stderr",
     "output_type": "stream",
     "text": []
    },
    {
     "name": "stdout",
     "output_type": "stream",
     "text": [
      "file: 4_lawrence_0_72_72\n"
     ]
    },
    {
     "name": "stderr",
     "output_type": "stream",
     "text": []
    },
    {
     "name": "stdout",
     "output_type": "stream",
     "text": [
      "file: 4_lawrence_0_81_81\n"
     ]
    },
    {
     "name": "stderr",
     "output_type": "stream",
     "text": []
    },
    {
     "name": "stdout",
     "output_type": "stream",
     "text": [
      "file: 4_lawrence_0_76_76\n"
     ]
    },
    {
     "name": "stderr",
     "output_type": "stream",
     "text": []
    },
    {
     "name": "stdout",
     "output_type": "stream",
     "text": [
      "file: 4_lawrence_0_79_79\n"
     ]
    },
    {
     "name": "stderr",
     "output_type": "stream",
     "text": []
    },
    {
     "name": "stdout",
     "output_type": "stream",
     "text": [
      "file: 4_lawrence_0_9_9\n"
     ]
    },
    {
     "name": "stderr",
     "output_type": "stream",
     "text": []
    },
    {
     "name": "stdout",
     "output_type": "stream",
     "text": [
      "file: 4_lawrence_0_39_39\n"
     ]
    },
    {
     "name": "stderr",
     "output_type": "stream",
     "text": []
    },
    {
     "name": "stdout",
     "output_type": "stream",
     "text": [
      "file: 4_lawrence_0_59_59\n"
     ]
    },
    {
     "name": "stderr",
     "output_type": "stream",
     "text": []
    },
    {
     "name": "stdout",
     "output_type": "stream",
     "text": [
      "file: 4_lawrence_0_11_11\n"
     ]
    },
    {
     "name": "stderr",
     "output_type": "stream",
     "text": []
    },
    {
     "name": "stdout",
     "output_type": "stream",
     "text": [
      "file: 4_lawrence_0_112_112\n"
     ]
    },
    {
     "name": "stderr",
     "output_type": "stream",
     "text": []
    },
    {
     "name": "stdout",
     "output_type": "stream",
     "text": [
      "file: 4_lawrence_0_95_95\n"
     ]
    },
    {
     "name": "stderr",
     "output_type": "stream",
     "text": []
    },
    {
     "name": "stdout",
     "output_type": "stream",
     "text": [
      "file: 4_lawrence_0_34_34\n"
     ]
    },
    {
     "name": "stderr",
     "output_type": "stream",
     "text": []
    },
    {
     "name": "stdout",
     "output_type": "stream",
     "text": [
      "file: 4_lawrence_0_83_83\n"
     ]
    },
    {
     "name": "stderr",
     "output_type": "stream",
     "text": []
    },
    {
     "name": "stdout",
     "output_type": "stream",
     "text": [
      "file: 4_lawrence_0_42_42\n"
     ]
    },
    {
     "name": "stderr",
     "output_type": "stream",
     "text": []
    },
    {
     "name": "stdout",
     "output_type": "stream",
     "text": [
      "file: 4_lawrence_0_32_32\n"
     ]
    },
    {
     "name": "stderr",
     "output_type": "stream",
     "text": []
    },
    {
     "name": "stdout",
     "output_type": "stream",
     "text": [
      "file: 4_lawrence_0_86_86\n"
     ]
    },
    {
     "name": "stderr",
     "output_type": "stream",
     "text": []
    },
    {
     "name": "stdout",
     "output_type": "stream",
     "text": [
      "file: 4_lawrence_1_9_9\n"
     ]
    },
    {
     "name": "stderr",
     "output_type": "stream",
     "text": []
    },
    {
     "name": "stdout",
     "output_type": "stream",
     "text": [
      "file: 4_lawrence_0_97_97\n"
     ]
    },
    {
     "name": "stderr",
     "output_type": "stream",
     "text": []
    },
    {
     "name": "stdout",
     "output_type": "stream",
     "text": [
      "file: 4_lawrence_0_38_38\n"
     ]
    },
    {
     "name": "stderr",
     "output_type": "stream",
     "text": []
    },
    {
     "name": "stdout",
     "output_type": "stream",
     "text": [
      "file: 4_lawrence_0_116_116\n"
     ]
    },
    {
     "name": "stderr",
     "output_type": "stream",
     "text": []
    },
    {
     "name": "stdout",
     "output_type": "stream",
     "text": [
      "file: 4_lawrence_0_50_50\n"
     ]
    },
    {
     "name": "stderr",
     "output_type": "stream",
     "text": []
    },
    {
     "name": "stdout",
     "output_type": "stream",
     "text": [
      "file: 4_lawrence_0_48_48\n"
     ]
    },
    {
     "name": "stderr",
     "output_type": "stream",
     "text": []
    },
    {
     "name": "stdout",
     "output_type": "stream",
     "text": [
      "file: 4_lawrence_0_20_20\n"
     ]
    },
    {
     "name": "stderr",
     "output_type": "stream",
     "text": []
    },
    {
     "name": "stdout",
     "output_type": "stream",
     "text": [
      "file: 4_lawrence_0_4_4\n"
     ]
    },
    {
     "name": "stderr",
     "output_type": "stream",
     "text": []
    },
    {
     "name": "stdout",
     "output_type": "stream",
     "text": [
      "file: 4_lawrence_0_21_21\n"
     ]
    },
    {
     "name": "stderr",
     "output_type": "stream",
     "text": []
    },
    {
     "name": "stdout",
     "output_type": "stream",
     "text": [
      "file: 4_lawrence_0_56_56\n"
     ]
    },
    {
     "name": "stderr",
     "output_type": "stream",
     "text": []
    },
    {
     "name": "stdout",
     "output_type": "stream",
     "text": [
      "file: 4_lawrence_0_75_75\n"
     ]
    },
    {
     "name": "stderr",
     "output_type": "stream",
     "text": []
    },
    {
     "name": "stdout",
     "output_type": "stream",
     "text": [
      "file: 4_lawrence_0_63_63\n"
     ]
    },
    {
     "name": "stderr",
     "output_type": "stream",
     "text": []
    },
    {
     "name": "stdout",
     "output_type": "stream",
     "text": [
      "file: 4_lawrence_0_66_66\n"
     ]
    },
    {
     "name": "stderr",
     "output_type": "stream",
     "text": []
    },
    {
     "name": "stdout",
     "output_type": "stream",
     "text": [
      "file: 4_lawrence_0_68_68\n"
     ]
    },
    {
     "name": "stderr",
     "output_type": "stream",
     "text": []
    },
    {
     "name": "stdout",
     "output_type": "stream",
     "text": [
      "file: 4_lawrence_0_102_102\n"
     ]
    },
    {
     "name": "stderr",
     "output_type": "stream",
     "text": []
    },
    {
     "name": "stdout",
     "output_type": "stream",
     "text": [
      "file: 4_lawrence_0_33_33\n"
     ]
    },
    {
     "name": "stderr",
     "output_type": "stream",
     "text": []
    },
    {
     "name": "stdout",
     "output_type": "stream",
     "text": [
      "file: 4_lawrence_0_57_57\n"
     ]
    },
    {
     "name": "stderr",
     "output_type": "stream",
     "text": []
    },
    {
     "name": "stdout",
     "output_type": "stream",
     "text": [
      "file: 4_lawrence_0_5_5\n"
     ]
    },
    {
     "name": "stderr",
     "output_type": "stream",
     "text": []
    },
    {
     "name": "stdout",
     "output_type": "stream",
     "text": [
      "file: 4_lawrence_0_8_8\n"
     ]
    },
    {
     "name": "stderr",
     "output_type": "stream",
     "text": []
    },
    {
     "name": "stdout",
     "output_type": "stream",
     "text": [
      "file: 4_lawrence_0_91_91\n"
     ]
    },
    {
     "name": "stderr",
     "output_type": "stream",
     "text": []
    },
    {
     "name": "stdout",
     "output_type": "stream",
     "text": [
      "file: 4_lawrence_1_12_12\n"
     ]
    },
    {
     "name": "stderr",
     "output_type": "stream",
     "text": []
    },
    {
     "name": "stdout",
     "output_type": "stream",
     "text": [
      "file: 4_lawrence_0_14_14\n"
     ]
    },
    {
     "name": "stderr",
     "output_type": "stream",
     "text": []
    },
    {
     "name": "stdout",
     "output_type": "stream",
     "text": [
      "file: 4_lawrence_0_16_16\n"
     ]
    },
    {
     "name": "stderr",
     "output_type": "stream",
     "text": []
    },
    {
     "name": "stdout",
     "output_type": "stream",
     "text": [
      "file: 4_lawrence_0_92_92\n"
     ]
    },
    {
     "name": "stderr",
     "output_type": "stream",
     "text": []
    },
    {
     "name": "stdout",
     "output_type": "stream",
     "text": [
      "file: 4_lawrence_0_108_108\n"
     ]
    },
    {
     "name": "stderr",
     "output_type": "stream",
     "text": []
    },
    {
     "name": "stdout",
     "output_type": "stream",
     "text": [
      "file: 4_lawrence_0_55_55\n"
     ]
    },
    {
     "name": "stderr",
     "output_type": "stream",
     "text": []
    },
    {
     "name": "stdout",
     "output_type": "stream",
     "text": [
      "file: 4_lawrence_0_53_53\n"
     ]
    },
    {
     "name": "stderr",
     "output_type": "stream",
     "text": []
    },
    {
     "name": "stdout",
     "output_type": "stream",
     "text": [
      "file: 4_lawrence_0_35_35\n"
     ]
    },
    {
     "name": "stderr",
     "output_type": "stream",
     "text": []
    },
    {
     "name": "stdout",
     "output_type": "stream",
     "text": [
      "file: 4_lawrence_0_115_115\n"
     ]
    },
    {
     "name": "stderr",
     "output_type": "stream",
     "text": []
    },
    {
     "name": "stdout",
     "output_type": "stream",
     "text": [
      "file: 4_lawrence_0_47_47\n"
     ]
    },
    {
     "name": "stderr",
     "output_type": "stream",
     "text": []
    },
    {
     "name": "stdout",
     "output_type": "stream",
     "text": [
      "file: 4_lawrence_0_94_94\n"
     ]
    },
    {
     "name": "stderr",
     "output_type": "stream",
     "text": []
    },
    {
     "name": "stdout",
     "output_type": "stream",
     "text": [
      "file: 4_lawrence_0_106_106\n"
     ]
    },
    {
     "name": "stderr",
     "output_type": "stream",
     "text": []
    },
    {
     "name": "stdout",
     "output_type": "stream",
     "text": [
      "file: 4_lawrence_0_93_93\n"
     ]
    },
    {
     "name": "stderr",
     "output_type": "stream",
     "text": []
    },
    {
     "name": "stdout",
     "output_type": "stream",
     "text": [
      "file: 4_lawrence_0_78_78\n"
     ]
    },
    {
     "name": "stderr",
     "output_type": "stream",
     "text": []
    },
    {
     "name": "stdout",
     "output_type": "stream",
     "text": [
      "file: 4_lawrence_0_103_103\n"
     ]
    },
    {
     "name": "stderr",
     "output_type": "stream",
     "text": []
    },
    {
     "name": "stdout",
     "output_type": "stream",
     "text": [
      "file: 4_lawrence_0_3_3\n"
     ]
    },
    {
     "name": "stderr",
     "output_type": "stream",
     "text": []
    },
    {
     "name": "stdout",
     "output_type": "stream",
     "text": [
      "file: 4_lawrence_0_43_43\n"
     ]
    },
    {
     "name": "stderr",
     "output_type": "stream",
     "text": []
    },
    {
     "name": "stdout",
     "output_type": "stream",
     "text": [
      "file: 4_lawrence_0_67_67\n"
     ]
    },
    {
     "name": "stderr",
     "output_type": "stream",
     "text": []
    },
    {
     "name": "stdout",
     "output_type": "stream",
     "text": [
      "file: 4_lawrence_0_74_74\n"
     ]
    },
    {
     "name": "stderr",
     "output_type": "stream",
     "text": []
    },
    {
     "name": "stdout",
     "output_type": "stream",
     "text": [
      "file: 4_lawrence_0_105_105\n"
     ]
    },
    {
     "name": "stderr",
     "output_type": "stream",
     "text": []
    },
    {
     "name": "stdout",
     "output_type": "stream",
     "text": [
      "file: 4_lawrence_0_98_98\n"
     ]
    },
    {
     "name": "stderr",
     "output_type": "stream",
     "text": []
    },
    {
     "name": "stdout",
     "output_type": "stream",
     "text": [
      "file: 4_lawrence_1_4_4\n"
     ]
    },
    {
     "name": "stderr",
     "output_type": "stream",
     "text": []
    },
    {
     "name": "stdout",
     "output_type": "stream",
     "text": [
      "file: 4_lawrence_0_24_24\n"
     ]
    },
    {
     "name": "stderr",
     "output_type": "stream",
     "text": []
    },
    {
     "name": "stdout",
     "output_type": "stream",
     "text": [
      "file: 4_lawrence_1_7_7\n"
     ]
    },
    {
     "name": "stderr",
     "output_type": "stream",
     "text": []
    },
    {
     "name": "stdout",
     "output_type": "stream",
     "text": [
      "file: 4_lawrence_0_36_36\n"
     ]
    },
    {
     "name": "stderr",
     "output_type": "stream",
     "text": []
    },
    {
     "name": "stdout",
     "output_type": "stream",
     "text": [
      "file: 4_lawrence_0_77_77\n"
     ]
    },
    {
     "name": "stderr",
     "output_type": "stream",
     "text": []
    },
    {
     "name": "stdout",
     "output_type": "stream",
     "text": [
      "file: 4_lawrence_0_51_51\n"
     ]
    },
    {
     "name": "stderr",
     "output_type": "stream",
     "text": []
    },
    {
     "name": "stdout",
     "output_type": "stream",
     "text": [
      "file: 4_lawrence_0_100_100\n"
     ]
    },
    {
     "name": "stderr",
     "output_type": "stream",
     "text": []
    },
    {
     "name": "stdout",
     "output_type": "stream",
     "text": [
      "file: 4_lawrence_1_11_11\n"
     ]
    },
    {
     "name": "stderr",
     "output_type": "stream",
     "text": []
    },
    {
     "name": "stdout",
     "output_type": "stream",
     "text": [
      "file: 4_lawrence_1_5_5\n"
     ]
    },
    {
     "name": "stderr",
     "output_type": "stream",
     "text": []
    },
    {
     "name": "stdout",
     "output_type": "stream",
     "text": [
      "file: 4_lawrence_0_29_29\n"
     ]
    },
    {
     "name": "stderr",
     "output_type": "stream",
     "text": []
    },
    {
     "name": "stdout",
     "output_type": "stream",
     "text": [
      "file: 4_lawrence_1_10_10\n"
     ]
    },
    {
     "name": "stderr",
     "output_type": "stream",
     "text": []
    },
    {
     "name": "stdout",
     "output_type": "stream",
     "text": [
      "file: 4_lawrence_0_25_25\n"
     ]
    },
    {
     "name": "stderr",
     "output_type": "stream",
     "text": []
    },
    {
     "name": "stdout",
     "output_type": "stream",
     "text": [
      "file: 4_lawrence_0_31_31\n"
     ]
    },
    {
     "name": "stderr",
     "output_type": "stream",
     "text": []
    },
    {
     "name": "stdout",
     "output_type": "stream",
     "text": [
      "file: 4_lawrence_0_49_49\n"
     ]
    },
    {
     "name": "stderr",
     "output_type": "stream",
     "text": []
    },
    {
     "name": "stdout",
     "output_type": "stream",
     "text": [
      "file: 4_lawrence_0_73_73\n"
     ]
    },
    {
     "name": "stderr",
     "output_type": "stream",
     "text": []
    },
    {
     "name": "stdout",
     "output_type": "stream",
     "text": [
      "file: 4_lawrence_0_88_88\n"
     ]
    },
    {
     "name": "stderr",
     "output_type": "stream",
     "text": []
    },
    {
     "name": "stdout",
     "output_type": "stream",
     "text": [
      "file: 4_lawrence_0_6_6\n"
     ]
    },
    {
     "name": "stderr",
     "output_type": "stream",
     "text": [
      "910it [09:28,  1.60it/s]\n",
      " 50%|█████     | 2/4 [18:08<18:21, 550.90s/it]"
     ]
    },
    {
     "name": "stdout",
     "output_type": "stream",
     "text": [
      "file: 6_carla_0_33_33\n"
     ]
    },
    {
     "name": "stderr",
     "output_type": "stream",
     "text": []
    },
    {
     "name": "stdout",
     "output_type": "stream",
     "text": [
      "file: 6_carla_0_23_23\n"
     ]
    },
    {
     "name": "stderr",
     "output_type": "stream",
     "text": []
    },
    {
     "name": "stdout",
     "output_type": "stream",
     "text": [
      "file: 6_carla_0_81_81\n"
     ]
    },
    {
     "name": "stderr",
     "output_type": "stream",
     "text": []
    },
    {
     "name": "stdout",
     "output_type": "stream",
     "text": [
      "file: 6_carla_0_51_51\n"
     ]
    },
    {
     "name": "stderr",
     "output_type": "stream",
     "text": []
    },
    {
     "name": "stdout",
     "output_type": "stream",
     "text": [
      "file: 6_carla_0_10_10\n"
     ]
    },
    {
     "name": "stderr",
     "output_type": "stream",
     "text": []
    },
    {
     "name": "stdout",
     "output_type": "stream",
     "text": [
      "file: 6_carla_0_116_116\n"
     ]
    },
    {
     "name": "stderr",
     "output_type": "stream",
     "text": []
    },
    {
     "name": "stdout",
     "output_type": "stream",
     "text": [
      "file: 6_carla_0_29_29\n"
     ]
    },
    {
     "name": "stderr",
     "output_type": "stream",
     "text": []
    },
    {
     "name": "stdout",
     "output_type": "stream",
     "text": [
      "file: 6_carla_0_28_28\n"
     ]
    },
    {
     "name": "stderr",
     "output_type": "stream",
     "text": []
    },
    {
     "name": "stdout",
     "output_type": "stream",
     "text": [
      "file: 6_carla_0_13_13\n"
     ]
    },
    {
     "name": "stderr",
     "output_type": "stream",
     "text": []
    },
    {
     "name": "stdout",
     "output_type": "stream",
     "text": [
      "file: 6_carla_0_44_44\n"
     ]
    },
    {
     "name": "stderr",
     "output_type": "stream",
     "text": []
    },
    {
     "name": "stdout",
     "output_type": "stream",
     "text": [
      "file: 6_carla_0_1_1\n"
     ]
    },
    {
     "name": "stderr",
     "output_type": "stream",
     "text": []
    },
    {
     "name": "stdout",
     "output_type": "stream",
     "text": [
      "file: 6_carla_0_95_95\n"
     ]
    },
    {
     "name": "stderr",
     "output_type": "stream",
     "text": []
    },
    {
     "name": "stdout",
     "output_type": "stream",
     "text": [
      "file: 6_carla_0_8_8\n"
     ]
    },
    {
     "name": "stderr",
     "output_type": "stream",
     "text": []
    },
    {
     "name": "stdout",
     "output_type": "stream",
     "text": [
      "file: 6_carla_0_94_94\n"
     ]
    },
    {
     "name": "stderr",
     "output_type": "stream",
     "text": []
    },
    {
     "name": "stdout",
     "output_type": "stream",
     "text": [
      "file: 6_carla_0_74_74\n"
     ]
    },
    {
     "name": "stderr",
     "output_type": "stream",
     "text": []
    },
    {
     "name": "stdout",
     "output_type": "stream",
     "text": [
      "file: 6_carla_0_16_16\n"
     ]
    },
    {
     "name": "stderr",
     "output_type": "stream",
     "text": []
    },
    {
     "name": "stdout",
     "output_type": "stream",
     "text": [
      "file: 6_carla_0_49_49\n"
     ]
    },
    {
     "name": "stderr",
     "output_type": "stream",
     "text": []
    },
    {
     "name": "stdout",
     "output_type": "stream",
     "text": [
      "file: 6_carla_0_86_86\n"
     ]
    },
    {
     "name": "stderr",
     "output_type": "stream",
     "text": []
    },
    {
     "name": "stdout",
     "output_type": "stream",
     "text": [
      "file: 6_carla_0_37_37\n"
     ]
    },
    {
     "name": "stderr",
     "output_type": "stream",
     "text": []
    },
    {
     "name": "stdout",
     "output_type": "stream",
     "text": [
      "file: 6_carla_1_10_10\n"
     ]
    },
    {
     "name": "stderr",
     "output_type": "stream",
     "text": []
    },
    {
     "name": "stdout",
     "output_type": "stream",
     "text": [
      "file: 6_carla_0_106_106\n"
     ]
    },
    {
     "name": "stderr",
     "output_type": "stream",
     "text": []
    },
    {
     "name": "stdout",
     "output_type": "stream",
     "text": [
      "file: 6_carla_0_82_82\n"
     ]
    },
    {
     "name": "stderr",
     "output_type": "stream",
     "text": []
    },
    {
     "name": "stdout",
     "output_type": "stream",
     "text": [
      "file: 6_carla_0_60_60\n"
     ]
    },
    {
     "name": "stderr",
     "output_type": "stream",
     "text": []
    },
    {
     "name": "stdout",
     "output_type": "stream",
     "text": [
      "file: 6_carla_0_101_101\n"
     ]
    },
    {
     "name": "stderr",
     "output_type": "stream",
     "text": []
    },
    {
     "name": "stdout",
     "output_type": "stream",
     "text": [
      "file: 6_carla_0_26_26\n"
     ]
    },
    {
     "name": "stderr",
     "output_type": "stream",
     "text": []
    },
    {
     "name": "stdout",
     "output_type": "stream",
     "text": [
      "file: 6_carla_0_64_64\n"
     ]
    },
    {
     "name": "stderr",
     "output_type": "stream",
     "text": []
    },
    {
     "name": "stdout",
     "output_type": "stream",
     "text": [
      "file: 6_carla_0_105_105\n"
     ]
    },
    {
     "name": "stderr",
     "output_type": "stream",
     "text": []
    },
    {
     "name": "stdout",
     "output_type": "stream",
     "text": [
      "file: 6_carla_0_38_38\n"
     ]
    },
    {
     "name": "stderr",
     "output_type": "stream",
     "text": []
    },
    {
     "name": "stdout",
     "output_type": "stream",
     "text": [
      "file: 6_carla_0_22_22\n"
     ]
    },
    {
     "name": "stderr",
     "output_type": "stream",
     "text": []
    },
    {
     "name": "stdout",
     "output_type": "stream",
     "text": [
      "file: 6_carla_0_52_52\n"
     ]
    },
    {
     "name": "stderr",
     "output_type": "stream",
     "text": []
    },
    {
     "name": "stdout",
     "output_type": "stream",
     "text": [
      "file: 6_carla_0_20_20\n"
     ]
    },
    {
     "name": "stderr",
     "output_type": "stream",
     "text": []
    },
    {
     "name": "stdout",
     "output_type": "stream",
     "text": [
      "file: 6_carla_0_4_4\n"
     ]
    },
    {
     "name": "stderr",
     "output_type": "stream",
     "text": []
    },
    {
     "name": "stdout",
     "output_type": "stream",
     "text": [
      "file: 6_carla_0_50_50\n"
     ]
    },
    {
     "name": "stderr",
     "output_type": "stream",
     "text": []
    },
    {
     "name": "stdout",
     "output_type": "stream",
     "text": [
      "file: 6_carla_0_78_78\n"
     ]
    },
    {
     "name": "stderr",
     "output_type": "stream",
     "text": []
    },
    {
     "name": "stdout",
     "output_type": "stream",
     "text": [
      "file: 6_carla_0_69_69\n"
     ]
    },
    {
     "name": "stderr",
     "output_type": "stream",
     "text": []
    },
    {
     "name": "stdout",
     "output_type": "stream",
     "text": [
      "file: 6_carla_0_3_3\n"
     ]
    },
    {
     "name": "stderr",
     "output_type": "stream",
     "text": []
    },
    {
     "name": "stdout",
     "output_type": "stream",
     "text": [
      "file: 6_carla_0_108_108\n"
     ]
    },
    {
     "name": "stderr",
     "output_type": "stream",
     "text": []
    },
    {
     "name": "stdout",
     "output_type": "stream",
     "text": [
      "file: 6_carla_0_6_6\n"
     ]
    },
    {
     "name": "stderr",
     "output_type": "stream",
     "text": []
    },
    {
     "name": "stdout",
     "output_type": "stream",
     "text": [
      "file: 6_carla_0_59_59\n"
     ]
    },
    {
     "name": "stderr",
     "output_type": "stream",
     "text": []
    },
    {
     "name": "stdout",
     "output_type": "stream",
     "text": [
      "file: 6_carla_0_76_76\n"
     ]
    },
    {
     "name": "stderr",
     "output_type": "stream",
     "text": []
    },
    {
     "name": "stdout",
     "output_type": "stream",
     "text": [
      "file: 6_carla_0_87_87\n"
     ]
    },
    {
     "name": "stderr",
     "output_type": "stream",
     "text": []
    },
    {
     "name": "stdout",
     "output_type": "stream",
     "text": [
      "file: 6_carla_0_113_113\n"
     ]
    },
    {
     "name": "stderr",
     "output_type": "stream",
     "text": []
    },
    {
     "name": "stdout",
     "output_type": "stream",
     "text": [
      "file: 6_carla_0_42_42\n"
     ]
    },
    {
     "name": "stderr",
     "output_type": "stream",
     "text": []
    },
    {
     "name": "stdout",
     "output_type": "stream",
     "text": [
      "file: 6_carla_0_75_75\n"
     ]
    },
    {
     "name": "stderr",
     "output_type": "stream",
     "text": []
    },
    {
     "name": "stdout",
     "output_type": "stream",
     "text": [
      "file: 6_carla_0_73_73\n"
     ]
    },
    {
     "name": "stderr",
     "output_type": "stream",
     "text": []
    },
    {
     "name": "stdout",
     "output_type": "stream",
     "text": [
      "file: 6_carla_0_100_100\n"
     ]
    },
    {
     "name": "stderr",
     "output_type": "stream",
     "text": []
    },
    {
     "name": "stdout",
     "output_type": "stream",
     "text": [
      "file: 6_carla_0_25_25\n"
     ]
    },
    {
     "name": "stderr",
     "output_type": "stream",
     "text": []
    },
    {
     "name": "stdout",
     "output_type": "stream",
     "text": [
      "file: 6_carla_1_12_12\n"
     ]
    },
    {
     "name": "stderr",
     "output_type": "stream",
     "text": []
    },
    {
     "name": "stdout",
     "output_type": "stream",
     "text": [
      "file: 6_carla_0_19_19\n"
     ]
    },
    {
     "name": "stderr",
     "output_type": "stream",
     "text": []
    },
    {
     "name": "stdout",
     "output_type": "stream",
     "text": [
      "file: 6_carla_0_12_12\n"
     ]
    },
    {
     "name": "stderr",
     "output_type": "stream",
     "text": []
    },
    {
     "name": "stdout",
     "output_type": "stream",
     "text": [
      "file: 6_carla_1_8_8\n"
     ]
    },
    {
     "name": "stderr",
     "output_type": "stream",
     "text": []
    },
    {
     "name": "stdout",
     "output_type": "stream",
     "text": [
      "file: 6_carla_0_2_2\n"
     ]
    },
    {
     "name": "stderr",
     "output_type": "stream",
     "text": []
    },
    {
     "name": "stdout",
     "output_type": "stream",
     "text": [
      "file: 6_carla_0_11_11\n"
     ]
    },
    {
     "name": "stderr",
     "output_type": "stream",
     "text": []
    },
    {
     "name": "stdout",
     "output_type": "stream",
     "text": [
      "file: 6_carla_0_27_27\n"
     ]
    },
    {
     "name": "stderr",
     "output_type": "stream",
     "text": []
    },
    {
     "name": "stdout",
     "output_type": "stream",
     "text": [
      "file: 6_carla_1_2_2\n"
     ]
    },
    {
     "name": "stderr",
     "output_type": "stream",
     "text": []
    },
    {
     "name": "stdout",
     "output_type": "stream",
     "text": [
      "file: 6_carla_0_79_79\n"
     ]
    },
    {
     "name": "stderr",
     "output_type": "stream",
     "text": []
    },
    {
     "name": "stdout",
     "output_type": "stream",
     "text": [
      "file: 6_carla_1_5_5\n"
     ]
    },
    {
     "name": "stderr",
     "output_type": "stream",
     "text": []
    },
    {
     "name": "stdout",
     "output_type": "stream",
     "text": [
      "file: 6_carla_0_40_40\n"
     ]
    },
    {
     "name": "stderr",
     "output_type": "stream",
     "text": []
    },
    {
     "name": "stdout",
     "output_type": "stream",
     "text": [
      "file: 6_carla_0_30_30\n"
     ]
    },
    {
     "name": "stderr",
     "output_type": "stream",
     "text": []
    },
    {
     "name": "stdout",
     "output_type": "stream",
     "text": [
      "file: 6_carla_0_118_118\n"
     ]
    },
    {
     "name": "stderr",
     "output_type": "stream",
     "text": []
    },
    {
     "name": "stdout",
     "output_type": "stream",
     "text": [
      "file: 6_carla_0_72_72\n"
     ]
    },
    {
     "name": "stderr",
     "output_type": "stream",
     "text": []
    },
    {
     "name": "stdout",
     "output_type": "stream",
     "text": [
      "file: 6_carla_0_93_93\n"
     ]
    },
    {
     "name": "stderr",
     "output_type": "stream",
     "text": []
    },
    {
     "name": "stdout",
     "output_type": "stream",
     "text": [
      "file: 6_carla_0_96_96\n"
     ]
    },
    {
     "name": "stderr",
     "output_type": "stream",
     "text": []
    },
    {
     "name": "stdout",
     "output_type": "stream",
     "text": [
      "file: 6_carla_0_70_70\n"
     ]
    },
    {
     "name": "stderr",
     "output_type": "stream",
     "text": []
    },
    {
     "name": "stdout",
     "output_type": "stream",
     "text": [
      "file: 6_carla_0_114_114\n"
     ]
    },
    {
     "name": "stderr",
     "output_type": "stream",
     "text": []
    },
    {
     "name": "stdout",
     "output_type": "stream",
     "text": [
      "file: 6_carla_0_97_97\n"
     ]
    },
    {
     "name": "stderr",
     "output_type": "stream",
     "text": []
    },
    {
     "name": "stdout",
     "output_type": "stream",
     "text": [
      "file: 6_carla_0_55_55\n"
     ]
    },
    {
     "name": "stderr",
     "output_type": "stream",
     "text": []
    },
    {
     "name": "stdout",
     "output_type": "stream",
     "text": [
      "file: 6_carla_0_88_88\n"
     ]
    },
    {
     "name": "stderr",
     "output_type": "stream",
     "text": []
    },
    {
     "name": "stdout",
     "output_type": "stream",
     "text": [
      "file: 6_carla_1_7_7\n"
     ]
    },
    {
     "name": "stderr",
     "output_type": "stream",
     "text": []
    },
    {
     "name": "stdout",
     "output_type": "stream",
     "text": [
      "file: 6_carla_0_32_32\n"
     ]
    },
    {
     "name": "stderr",
     "output_type": "stream",
     "text": []
    },
    {
     "name": "stdout",
     "output_type": "stream",
     "text": [
      "file: 6_carla_0_67_67\n"
     ]
    },
    {
     "name": "stderr",
     "output_type": "stream",
     "text": []
    },
    {
     "name": "stdout",
     "output_type": "stream",
     "text": [
      "file: 6_carla_0_112_112\n"
     ]
    },
    {
     "name": "stderr",
     "output_type": "stream",
     "text": []
    },
    {
     "name": "stdout",
     "output_type": "stream",
     "text": [
      "file: 6_carla_0_99_99\n"
     ]
    },
    {
     "name": "stderr",
     "output_type": "stream",
     "text": []
    },
    {
     "name": "stdout",
     "output_type": "stream",
     "text": [
      "file: 6_carla_0_110_110\n"
     ]
    },
    {
     "name": "stderr",
     "output_type": "stream",
     "text": []
    },
    {
     "name": "stdout",
     "output_type": "stream",
     "text": [
      "file: 6_carla_0_80_80\n"
     ]
    },
    {
     "name": "stderr",
     "output_type": "stream",
     "text": []
    },
    {
     "name": "stdout",
     "output_type": "stream",
     "text": [
      "file: 6_carla_1_6_6\n"
     ]
    },
    {
     "name": "stderr",
     "output_type": "stream",
     "text": []
    },
    {
     "name": "stdout",
     "output_type": "stream",
     "text": [
      "file: 6_carla_0_102_102\n"
     ]
    },
    {
     "name": "stderr",
     "output_type": "stream",
     "text": []
    },
    {
     "name": "stdout",
     "output_type": "stream",
     "text": [
      "file: 6_carla_1_1_1\n"
     ]
    },
    {
     "name": "stderr",
     "output_type": "stream",
     "text": []
    },
    {
     "name": "stdout",
     "output_type": "stream",
     "text": [
      "file: 6_carla_0_21_21\n"
     ]
    },
    {
     "name": "stderr",
     "output_type": "stream",
     "text": []
    },
    {
     "name": "stdout",
     "output_type": "stream",
     "text": [
      "file: 6_carla_0_34_34\n"
     ]
    },
    {
     "name": "stderr",
     "output_type": "stream",
     "text": []
    },
    {
     "name": "stdout",
     "output_type": "stream",
     "text": [
      "file: 6_carla_0_63_63\n"
     ]
    },
    {
     "name": "stderr",
     "output_type": "stream",
     "text": []
    },
    {
     "name": "stdout",
     "output_type": "stream",
     "text": [
      "file: 6_carla_0_5_5\n"
     ]
    },
    {
     "name": "stderr",
     "output_type": "stream",
     "text": []
    },
    {
     "name": "stdout",
     "output_type": "stream",
     "text": [
      "file: 6_carla_0_68_68\n"
     ]
    },
    {
     "name": "stderr",
     "output_type": "stream",
     "text": []
    },
    {
     "name": "stdout",
     "output_type": "stream",
     "text": [
      "file: 6_carla_0_17_17\n"
     ]
    },
    {
     "name": "stderr",
     "output_type": "stream",
     "text": []
    },
    {
     "name": "stdout",
     "output_type": "stream",
     "text": [
      "file: 6_carla_0_41_41\n"
     ]
    },
    {
     "name": "stderr",
     "output_type": "stream",
     "text": []
    },
    {
     "name": "stdout",
     "output_type": "stream",
     "text": [
      "file: 6_carla_0_92_92\n"
     ]
    },
    {
     "name": "stderr",
     "output_type": "stream",
     "text": []
    },
    {
     "name": "stdout",
     "output_type": "stream",
     "text": [
      "file: 6_carla_0_43_43\n"
     ]
    },
    {
     "name": "stderr",
     "output_type": "stream",
     "text": []
    },
    {
     "name": "stdout",
     "output_type": "stream",
     "text": [
      "file: 6_carla_0_111_111\n"
     ]
    },
    {
     "name": "stderr",
     "output_type": "stream",
     "text": []
    },
    {
     "name": "stdout",
     "output_type": "stream",
     "text": [
      "file: 6_carla_1_3_3\n"
     ]
    },
    {
     "name": "stderr",
     "output_type": "stream",
     "text": []
    },
    {
     "name": "stdout",
     "output_type": "stream",
     "text": [
      "file: 6_carla_0_84_84\n"
     ]
    },
    {
     "name": "stderr",
     "output_type": "stream",
     "text": []
    },
    {
     "name": "stdout",
     "output_type": "stream",
     "text": [
      "file: 6_carla_0_54_54\n"
     ]
    },
    {
     "name": "stderr",
     "output_type": "stream",
     "text": []
    },
    {
     "name": "stdout",
     "output_type": "stream",
     "text": [
      "file: 6_carla_1_4_4\n"
     ]
    },
    {
     "name": "stderr",
     "output_type": "stream",
     "text": []
    },
    {
     "name": "stdout",
     "output_type": "stream",
     "text": [
      "file: 6_carla_0_45_45\n"
     ]
    },
    {
     "name": "stderr",
     "output_type": "stream",
     "text": []
    },
    {
     "name": "stdout",
     "output_type": "stream",
     "text": [
      "file: 6_carla_0_15_15\n"
     ]
    },
    {
     "name": "stderr",
     "output_type": "stream",
     "text": []
    },
    {
     "name": "stdout",
     "output_type": "stream",
     "text": [
      "file: 6_carla_0_103_103\n"
     ]
    },
    {
     "name": "stderr",
     "output_type": "stream",
     "text": []
    },
    {
     "name": "stdout",
     "output_type": "stream",
     "text": [
      "file: 6_carla_0_89_89\n"
     ]
    },
    {
     "name": "stderr",
     "output_type": "stream",
     "text": []
    },
    {
     "name": "stdout",
     "output_type": "stream",
     "text": [
      "file: 6_carla_0_36_36\n"
     ]
    },
    {
     "name": "stderr",
     "output_type": "stream",
     "text": []
    },
    {
     "name": "stdout",
     "output_type": "stream",
     "text": [
      "file: 6_carla_1_11_11\n"
     ]
    },
    {
     "name": "stderr",
     "output_type": "stream",
     "text": []
    },
    {
     "name": "stdout",
     "output_type": "stream",
     "text": [
      "file: 6_carla_0_9_9\n"
     ]
    },
    {
     "name": "stderr",
     "output_type": "stream",
     "text": []
    },
    {
     "name": "stdout",
     "output_type": "stream",
     "text": [
      "file: 6_carla_0_115_115\n"
     ]
    },
    {
     "name": "stderr",
     "output_type": "stream",
     "text": []
    },
    {
     "name": "stdout",
     "output_type": "stream",
     "text": [
      "file: 6_carla_0_24_24\n"
     ]
    },
    {
     "name": "stderr",
     "output_type": "stream",
     "text": []
    },
    {
     "name": "stdout",
     "output_type": "stream",
     "text": [
      "file: 6_carla_0_98_98\n"
     ]
    },
    {
     "name": "stderr",
     "output_type": "stream",
     "text": []
    },
    {
     "name": "stdout",
     "output_type": "stream",
     "text": [
      "file: 6_carla_0_61_61\n"
     ]
    },
    {
     "name": "stderr",
     "output_type": "stream",
     "text": []
    },
    {
     "name": "stdout",
     "output_type": "stream",
     "text": [
      "file: 6_carla_0_85_85\n"
     ]
    },
    {
     "name": "stderr",
     "output_type": "stream",
     "text": []
    },
    {
     "name": "stdout",
     "output_type": "stream",
     "text": [
      "file: 6_carla_0_71_71\n"
     ]
    },
    {
     "name": "stderr",
     "output_type": "stream",
     "text": []
    },
    {
     "name": "stdout",
     "output_type": "stream",
     "text": [
      "file: 6_carla_0_83_83\n"
     ]
    },
    {
     "name": "stderr",
     "output_type": "stream",
     "text": []
    },
    {
     "name": "stdout",
     "output_type": "stream",
     "text": [
      "file: 6_carla_0_109_109\n"
     ]
    },
    {
     "name": "stderr",
     "output_type": "stream",
     "text": []
    },
    {
     "name": "stdout",
     "output_type": "stream",
     "text": [
      "file: 6_carla_0_107_107\n"
     ]
    },
    {
     "name": "stderr",
     "output_type": "stream",
     "text": []
    },
    {
     "name": "stdout",
     "output_type": "stream",
     "text": [
      "file: 6_carla_0_65_65\n"
     ]
    },
    {
     "name": "stderr",
     "output_type": "stream",
     "text": []
    },
    {
     "name": "stdout",
     "output_type": "stream",
     "text": [
      "file: 6_carla_0_46_46\n"
     ]
    },
    {
     "name": "stderr",
     "output_type": "stream",
     "text": []
    },
    {
     "name": "stdout",
     "output_type": "stream",
     "text": [
      "file: 6_carla_0_56_56\n"
     ]
    },
    {
     "name": "stderr",
     "output_type": "stream",
     "text": []
    },
    {
     "name": "stdout",
     "output_type": "stream",
     "text": [
      "file: 6_carla_0_48_48\n"
     ]
    },
    {
     "name": "stderr",
     "output_type": "stream",
     "text": []
    },
    {
     "name": "stdout",
     "output_type": "stream",
     "text": [
      "file: 6_carla_0_14_14\n"
     ]
    },
    {
     "name": "stderr",
     "output_type": "stream",
     "text": []
    },
    {
     "name": "stdout",
     "output_type": "stream",
     "text": [
      "file: 6_carla_0_31_31\n"
     ]
    },
    {
     "name": "stderr",
     "output_type": "stream",
     "text": []
    },
    {
     "name": "stdout",
     "output_type": "stream",
     "text": [
      "file: 6_carla_0_58_58\n"
     ]
    },
    {
     "name": "stderr",
     "output_type": "stream",
     "text": []
    },
    {
     "name": "stdout",
     "output_type": "stream",
     "text": [
      "file: 6_carla_0_7_7\n"
     ]
    },
    {
     "name": "stderr",
     "output_type": "stream",
     "text": []
    },
    {
     "name": "stdout",
     "output_type": "stream",
     "text": [
      "file: 6_carla_0_39_39\n"
     ]
    },
    {
     "name": "stderr",
     "output_type": "stream",
     "text": []
    },
    {
     "name": "stdout",
     "output_type": "stream",
     "text": [
      "file: 6_carla_1_9_9\n"
     ]
    },
    {
     "name": "stderr",
     "output_type": "stream",
     "text": []
    },
    {
     "name": "stdout",
     "output_type": "stream",
     "text": [
      "file: 6_carla_0_117_117\n"
     ]
    },
    {
     "name": "stderr",
     "output_type": "stream",
     "text": []
    },
    {
     "name": "stdout",
     "output_type": "stream",
     "text": [
      "file: 6_carla_0_53_53\n"
     ]
    },
    {
     "name": "stderr",
     "output_type": "stream",
     "text": []
    },
    {
     "name": "stdout",
     "output_type": "stream",
     "text": [
      "file: 6_carla_0_91_91\n"
     ]
    },
    {
     "name": "stderr",
     "output_type": "stream",
     "text": []
    },
    {
     "name": "stdout",
     "output_type": "stream",
     "text": [
      "file: 6_carla_0_66_66\n"
     ]
    },
    {
     "name": "stderr",
     "output_type": "stream",
     "text": []
    },
    {
     "name": "stdout",
     "output_type": "stream",
     "text": [
      "file: 6_carla_0_35_35\n"
     ]
    },
    {
     "name": "stderr",
     "output_type": "stream",
     "text": []
    },
    {
     "name": "stdout",
     "output_type": "stream",
     "text": [
      "file: 6_carla_0_47_47\n"
     ]
    },
    {
     "name": "stderr",
     "output_type": "stream",
     "text": []
    },
    {
     "name": "stdout",
     "output_type": "stream",
     "text": [
      "file: 6_carla_0_18_18\n"
     ]
    },
    {
     "name": "stderr",
     "output_type": "stream",
     "text": []
    },
    {
     "name": "stdout",
     "output_type": "stream",
     "text": [
      "file: 6_carla_0_90_90\n"
     ]
    },
    {
     "name": "stderr",
     "output_type": "stream",
     "text": []
    },
    {
     "name": "stdout",
     "output_type": "stream",
     "text": [
      "file: 6_carla_0_62_62\n"
     ]
    },
    {
     "name": "stderr",
     "output_type": "stream",
     "text": []
    },
    {
     "name": "stdout",
     "output_type": "stream",
     "text": [
      "file: 6_carla_0_77_77\n"
     ]
    },
    {
     "name": "stderr",
     "output_type": "stream",
     "text": []
    },
    {
     "name": "stdout",
     "output_type": "stream",
     "text": [
      "file: 6_carla_0_57_57\n"
     ]
    },
    {
     "name": "stderr",
     "output_type": "stream",
     "text": []
    },
    {
     "name": "stdout",
     "output_type": "stream",
     "text": [
      "file: 6_carla_0_104_104\n"
     ]
    },
    {
     "name": "stderr",
     "output_type": "stream",
     "text": [
      "910it [08:12,  1.85it/s]\n",
      " 75%|███████▌  | 3/4 [26:32<08:49, 529.25s/it]"
     ]
    },
    {
     "name": "stdout",
     "output_type": "stream",
     "text": [
      "file: 8_catherine_0_37_37\n"
     ]
    },
    {
     "name": "stderr",
     "output_type": "stream",
     "text": []
    },
    {
     "name": "stdout",
     "output_type": "stream",
     "text": [
      "file: 8_catherine_0_10_10\n"
     ]
    },
    {
     "name": "stderr",
     "output_type": "stream",
     "text": []
    },
    {
     "name": "stdout",
     "output_type": "stream",
     "text": [
      "file: 8_catherine_0_36_36\n"
     ]
    },
    {
     "name": "stderr",
     "output_type": "stream",
     "text": []
    },
    {
     "name": "stdout",
     "output_type": "stream",
     "text": [
      "file: 8_catherine_1_4_4\n"
     ]
    },
    {
     "name": "stderr",
     "output_type": "stream",
     "text": []
    },
    {
     "name": "stdout",
     "output_type": "stream",
     "text": [
      "file: 8_catherine_0_115_115\n"
     ]
    },
    {
     "name": "stderr",
     "output_type": "stream",
     "text": []
    },
    {
     "name": "stdout",
     "output_type": "stream",
     "text": [
      "file: 8_catherine_0_105_105\n"
     ]
    },
    {
     "name": "stderr",
     "output_type": "stream",
     "text": []
    },
    {
     "name": "stdout",
     "output_type": "stream",
     "text": [
      "file: 8_catherine_0_82_82\n"
     ]
    },
    {
     "name": "stderr",
     "output_type": "stream",
     "text": []
    },
    {
     "name": "stdout",
     "output_type": "stream",
     "text": [
      "file: 8_catherine_0_44_44\n"
     ]
    },
    {
     "name": "stderr",
     "output_type": "stream",
     "text": []
    },
    {
     "name": "stdout",
     "output_type": "stream",
     "text": [
      "file: 8_catherine_0_50_50\n"
     ]
    },
    {
     "name": "stderr",
     "output_type": "stream",
     "text": []
    },
    {
     "name": "stdout",
     "output_type": "stream",
     "text": [
      "file: 8_catherine_0_33_33\n"
     ]
    },
    {
     "name": "stderr",
     "output_type": "stream",
     "text": []
    },
    {
     "name": "stdout",
     "output_type": "stream",
     "text": [
      "file: 8_catherine_1_5_5\n"
     ]
    },
    {
     "name": "stderr",
     "output_type": "stream",
     "text": []
    },
    {
     "name": "stdout",
     "output_type": "stream",
     "text": [
      "file: 8_catherine_0_22_22\n"
     ]
    },
    {
     "name": "stderr",
     "output_type": "stream",
     "text": []
    },
    {
     "name": "stdout",
     "output_type": "stream",
     "text": [
      "file: 8_catherine_0_68_68\n"
     ]
    },
    {
     "name": "stderr",
     "output_type": "stream",
     "text": []
    },
    {
     "name": "stdout",
     "output_type": "stream",
     "text": [
      "file: 8_catherine_0_114_114\n"
     ]
    },
    {
     "name": "stderr",
     "output_type": "stream",
     "text": []
    },
    {
     "name": "stdout",
     "output_type": "stream",
     "text": [
      "file: 8_catherine_0_72_72\n"
     ]
    },
    {
     "name": "stderr",
     "output_type": "stream",
     "text": []
    },
    {
     "name": "stdout",
     "output_type": "stream",
     "text": [
      "file: 8_catherine_1_6_6\n"
     ]
    },
    {
     "name": "stderr",
     "output_type": "stream",
     "text": []
    },
    {
     "name": "stdout",
     "output_type": "stream",
     "text": [
      "file: 8_catherine_0_65_65\n"
     ]
    },
    {
     "name": "stderr",
     "output_type": "stream",
     "text": []
    },
    {
     "name": "stdout",
     "output_type": "stream",
     "text": [
      "file: 8_catherine_0_12_12\n"
     ]
    },
    {
     "name": "stderr",
     "output_type": "stream",
     "text": []
    },
    {
     "name": "stdout",
     "output_type": "stream",
     "text": [
      "file: 8_catherine_0_74_74\n"
     ]
    },
    {
     "name": "stderr",
     "output_type": "stream",
     "text": []
    },
    {
     "name": "stdout",
     "output_type": "stream",
     "text": [
      "file: 8_catherine_0_76_76\n"
     ]
    },
    {
     "name": "stderr",
     "output_type": "stream",
     "text": []
    },
    {
     "name": "stdout",
     "output_type": "stream",
     "text": [
      "file: 8_catherine_0_106_106\n"
     ]
    },
    {
     "name": "stderr",
     "output_type": "stream",
     "text": []
    },
    {
     "name": "stdout",
     "output_type": "stream",
     "text": [
      "file: 8_catherine_0_39_39\n"
     ]
    },
    {
     "name": "stderr",
     "output_type": "stream",
     "text": []
    },
    {
     "name": "stdout",
     "output_type": "stream",
     "text": [
      "file: 8_catherine_0_32_32\n"
     ]
    },
    {
     "name": "stderr",
     "output_type": "stream",
     "text": []
    },
    {
     "name": "stdout",
     "output_type": "stream",
     "text": [
      "file: 8_catherine_0_14_14\n"
     ]
    },
    {
     "name": "stderr",
     "output_type": "stream",
     "text": []
    },
    {
     "name": "stdout",
     "output_type": "stream",
     "text": [
      "file: 8_catherine_0_102_102\n"
     ]
    },
    {
     "name": "stderr",
     "output_type": "stream",
     "text": []
    },
    {
     "name": "stdout",
     "output_type": "stream",
     "text": [
      "file: 8_catherine_0_69_69\n"
     ]
    },
    {
     "name": "stderr",
     "output_type": "stream",
     "text": []
    },
    {
     "name": "stdout",
     "output_type": "stream",
     "text": [
      "file: 8_catherine_0_81_81\n"
     ]
    },
    {
     "name": "stderr",
     "output_type": "stream",
     "text": []
    },
    {
     "name": "stdout",
     "output_type": "stream",
     "text": [
      "file: 8_catherine_0_25_25\n"
     ]
    },
    {
     "name": "stderr",
     "output_type": "stream",
     "text": []
    },
    {
     "name": "stdout",
     "output_type": "stream",
     "text": [
      "file: 8_catherine_0_8_8\n"
     ]
    },
    {
     "name": "stderr",
     "output_type": "stream",
     "text": []
    },
    {
     "name": "stdout",
     "output_type": "stream",
     "text": [
      "file: 8_catherine_0_79_79\n"
     ]
    },
    {
     "name": "stderr",
     "output_type": "stream",
     "text": []
    },
    {
     "name": "stdout",
     "output_type": "stream",
     "text": [
      "file: 8_catherine_0_94_94\n"
     ]
    },
    {
     "name": "stderr",
     "output_type": "stream",
     "text": []
    },
    {
     "name": "stdout",
     "output_type": "stream",
     "text": [
      "file: 8_catherine_0_48_48\n"
     ]
    },
    {
     "name": "stderr",
     "output_type": "stream",
     "text": []
    },
    {
     "name": "stdout",
     "output_type": "stream",
     "text": [
      "file: 8_catherine_0_20_20\n"
     ]
    },
    {
     "name": "stderr",
     "output_type": "stream",
     "text": []
    },
    {
     "name": "stdout",
     "output_type": "stream",
     "text": [
      "file: 8_catherine_0_61_61\n"
     ]
    },
    {
     "name": "stderr",
     "output_type": "stream",
     "text": []
    },
    {
     "name": "stdout",
     "output_type": "stream",
     "text": [
      "file: 8_catherine_0_43_43\n"
     ]
    },
    {
     "name": "stderr",
     "output_type": "stream",
     "text": []
    },
    {
     "name": "stdout",
     "output_type": "stream",
     "text": [
      "file: 8_catherine_0_60_60\n"
     ]
    },
    {
     "name": "stderr",
     "output_type": "stream",
     "text": []
    },
    {
     "name": "stdout",
     "output_type": "stream",
     "text": [
      "file: 8_catherine_0_113_113\n"
     ]
    },
    {
     "name": "stderr",
     "output_type": "stream",
     "text": []
    },
    {
     "name": "stdout",
     "output_type": "stream",
     "text": [
      "file: 8_catherine_1_3_3\n"
     ]
    },
    {
     "name": "stderr",
     "output_type": "stream",
     "text": []
    },
    {
     "name": "stdout",
     "output_type": "stream",
     "text": [
      "file: 8_catherine_0_53_53\n"
     ]
    },
    {
     "name": "stderr",
     "output_type": "stream",
     "text": []
    },
    {
     "name": "stdout",
     "output_type": "stream",
     "text": [
      "file: 8_catherine_0_18_18\n"
     ]
    },
    {
     "name": "stderr",
     "output_type": "stream",
     "text": []
    },
    {
     "name": "stdout",
     "output_type": "stream",
     "text": [
      "file: 8_catherine_0_41_41\n"
     ]
    },
    {
     "name": "stderr",
     "output_type": "stream",
     "text": []
    },
    {
     "name": "stdout",
     "output_type": "stream",
     "text": [
      "file: 8_catherine_0_64_64\n"
     ]
    },
    {
     "name": "stderr",
     "output_type": "stream",
     "text": []
    },
    {
     "name": "stdout",
     "output_type": "stream",
     "text": [
      "file: 8_catherine_1_1_1\n"
     ]
    },
    {
     "name": "stderr",
     "output_type": "stream",
     "text": []
    },
    {
     "name": "stdout",
     "output_type": "stream",
     "text": [
      "file: 8_catherine_0_15_15\n"
     ]
    },
    {
     "name": "stderr",
     "output_type": "stream",
     "text": []
    },
    {
     "name": "stdout",
     "output_type": "stream",
     "text": [
      "file: 8_catherine_0_31_31\n"
     ]
    },
    {
     "name": "stderr",
     "output_type": "stream",
     "text": []
    },
    {
     "name": "stdout",
     "output_type": "stream",
     "text": [
      "file: 8_catherine_0_117_117\n"
     ]
    },
    {
     "name": "stderr",
     "output_type": "stream",
     "text": []
    },
    {
     "name": "stdout",
     "output_type": "stream",
     "text": [
      "file: 8_catherine_0_85_85\n"
     ]
    },
    {
     "name": "stderr",
     "output_type": "stream",
     "text": []
    },
    {
     "name": "stdout",
     "output_type": "stream",
     "text": [
      "file: 8_catherine_0_59_59\n"
     ]
    },
    {
     "name": "stderr",
     "output_type": "stream",
     "text": []
    },
    {
     "name": "stdout",
     "output_type": "stream",
     "text": [
      "file: 8_catherine_0_86_86\n"
     ]
    },
    {
     "name": "stderr",
     "output_type": "stream",
     "text": []
    },
    {
     "name": "stdout",
     "output_type": "stream",
     "text": [
      "file: 8_catherine_0_42_42\n"
     ]
    },
    {
     "name": "stderr",
     "output_type": "stream",
     "text": []
    },
    {
     "name": "stdout",
     "output_type": "stream",
     "text": [
      "file: 8_catherine_0_96_96\n"
     ]
    },
    {
     "name": "stderr",
     "output_type": "stream",
     "text": []
    },
    {
     "name": "stdout",
     "output_type": "stream",
     "text": [
      "file: 8_catherine_0_66_66\n"
     ]
    },
    {
     "name": "stderr",
     "output_type": "stream",
     "text": []
    },
    {
     "name": "stdout",
     "output_type": "stream",
     "text": [
      "file: 8_catherine_0_23_23\n"
     ]
    },
    {
     "name": "stderr",
     "output_type": "stream",
     "text": []
    },
    {
     "name": "stdout",
     "output_type": "stream",
     "text": [
      "file: 8_catherine_0_84_84\n"
     ]
    },
    {
     "name": "stderr",
     "output_type": "stream",
     "text": []
    },
    {
     "name": "stdout",
     "output_type": "stream",
     "text": [
      "file: 8_catherine_0_6_6\n"
     ]
    },
    {
     "name": "stderr",
     "output_type": "stream",
     "text": []
    },
    {
     "name": "stdout",
     "output_type": "stream",
     "text": [
      "file: 8_catherine_0_111_111\n"
     ]
    },
    {
     "name": "stderr",
     "output_type": "stream",
     "text": []
    },
    {
     "name": "stdout",
     "output_type": "stream",
     "text": [
      "file: 8_catherine_1_10_10\n"
     ]
    },
    {
     "name": "stderr",
     "output_type": "stream",
     "text": []
    },
    {
     "name": "stdout",
     "output_type": "stream",
     "text": [
      "file: 8_catherine_0_58_58\n"
     ]
    },
    {
     "name": "stderr",
     "output_type": "stream",
     "text": []
    },
    {
     "name": "stdout",
     "output_type": "stream",
     "text": [
      "file: 8_catherine_1_7_7\n"
     ]
    },
    {
     "name": "stderr",
     "output_type": "stream",
     "text": []
    },
    {
     "name": "stdout",
     "output_type": "stream",
     "text": [
      "file: 8_catherine_0_52_52\n"
     ]
    },
    {
     "name": "stderr",
     "output_type": "stream",
     "text": []
    },
    {
     "name": "stdout",
     "output_type": "stream",
     "text": [
      "file: 8_catherine_0_40_40\n"
     ]
    },
    {
     "name": "stderr",
     "output_type": "stream",
     "text": []
    },
    {
     "name": "stdout",
     "output_type": "stream",
     "text": [
      "file: 8_catherine_0_4_4\n"
     ]
    },
    {
     "name": "stderr",
     "output_type": "stream",
     "text": []
    },
    {
     "name": "stdout",
     "output_type": "stream",
     "text": [
      "file: 8_catherine_0_103_103\n"
     ]
    },
    {
     "name": "stderr",
     "output_type": "stream",
     "text": []
    },
    {
     "name": "stdout",
     "output_type": "stream",
     "text": [
      "file: 8_catherine_0_93_93\n"
     ]
    },
    {
     "name": "stderr",
     "output_type": "stream",
     "text": []
    },
    {
     "name": "stdout",
     "output_type": "stream",
     "text": [
      "file: 8_catherine_0_75_75\n"
     ]
    },
    {
     "name": "stderr",
     "output_type": "stream",
     "text": []
    },
    {
     "name": "stdout",
     "output_type": "stream",
     "text": [
      "file: 8_catherine_0_19_19\n"
     ]
    },
    {
     "name": "stderr",
     "output_type": "stream",
     "text": []
    },
    {
     "name": "stdout",
     "output_type": "stream",
     "text": [
      "file: 8_catherine_1_12_12\n"
     ]
    },
    {
     "name": "stderr",
     "output_type": "stream",
     "text": []
    },
    {
     "name": "stdout",
     "output_type": "stream",
     "text": [
      "file: 8_catherine_0_101_101\n"
     ]
    },
    {
     "name": "stderr",
     "output_type": "stream",
     "text": []
    },
    {
     "name": "stdout",
     "output_type": "stream",
     "text": [
      "file: 8_catherine_0_97_97\n"
     ]
    },
    {
     "name": "stderr",
     "output_type": "stream",
     "text": []
    },
    {
     "name": "stdout",
     "output_type": "stream",
     "text": [
      "file: 8_catherine_0_62_62\n"
     ]
    },
    {
     "name": "stderr",
     "output_type": "stream",
     "text": []
    },
    {
     "name": "stdout",
     "output_type": "stream",
     "text": [
      "file: 8_catherine_0_49_49\n"
     ]
    },
    {
     "name": "stderr",
     "output_type": "stream",
     "text": []
    },
    {
     "name": "stdout",
     "output_type": "stream",
     "text": [
      "file: 8_catherine_0_107_107\n"
     ]
    },
    {
     "name": "stderr",
     "output_type": "stream",
     "text": []
    },
    {
     "name": "stdout",
     "output_type": "stream",
     "text": [
      "file: 8_catherine_0_30_30\n"
     ]
    },
    {
     "name": "stderr",
     "output_type": "stream",
     "text": []
    },
    {
     "name": "stdout",
     "output_type": "stream",
     "text": [
      "file: 8_catherine_0_35_35\n"
     ]
    },
    {
     "name": "stderr",
     "output_type": "stream",
     "text": []
    },
    {
     "name": "stdout",
     "output_type": "stream",
     "text": [
      "file: 8_catherine_0_47_47\n"
     ]
    },
    {
     "name": "stderr",
     "output_type": "stream",
     "text": []
    },
    {
     "name": "stdout",
     "output_type": "stream",
     "text": [
      "file: 8_catherine_0_95_95\n"
     ]
    },
    {
     "name": "stderr",
     "output_type": "stream",
     "text": []
    },
    {
     "name": "stdout",
     "output_type": "stream",
     "text": [
      "file: 8_catherine_0_108_108\n"
     ]
    },
    {
     "name": "stderr",
     "output_type": "stream",
     "text": []
    },
    {
     "name": "stdout",
     "output_type": "stream",
     "text": [
      "file: 8_catherine_0_98_98\n"
     ]
    },
    {
     "name": "stderr",
     "output_type": "stream",
     "text": []
    },
    {
     "name": "stdout",
     "output_type": "stream",
     "text": [
      "file: 8_catherine_0_77_77\n"
     ]
    },
    {
     "name": "stderr",
     "output_type": "stream",
     "text": []
    },
    {
     "name": "stdout",
     "output_type": "stream",
     "text": [
      "file: 8_catherine_0_109_109\n"
     ]
    },
    {
     "name": "stderr",
     "output_type": "stream",
     "text": []
    },
    {
     "name": "stdout",
     "output_type": "stream",
     "text": [
      "file: 8_catherine_0_118_118\n"
     ]
    },
    {
     "name": "stderr",
     "output_type": "stream",
     "text": []
    },
    {
     "name": "stdout",
     "output_type": "stream",
     "text": [
      "file: 8_catherine_0_3_3\n"
     ]
    },
    {
     "name": "stderr",
     "output_type": "stream",
     "text": []
    },
    {
     "name": "stdout",
     "output_type": "stream",
     "text": [
      "file: 8_catherine_0_104_104\n"
     ]
    },
    {
     "name": "stderr",
     "output_type": "stream",
     "text": []
    },
    {
     "name": "stdout",
     "output_type": "stream",
     "text": [
      "file: 8_catherine_0_56_56\n"
     ]
    },
    {
     "name": "stderr",
     "output_type": "stream",
     "text": []
    },
    {
     "name": "stdout",
     "output_type": "stream",
     "text": [
      "file: 8_catherine_0_27_27\n"
     ]
    },
    {
     "name": "stderr",
     "output_type": "stream",
     "text": []
    },
    {
     "name": "stdout",
     "output_type": "stream",
     "text": [
      "file: 8_catherine_0_71_71\n"
     ]
    },
    {
     "name": "stderr",
     "output_type": "stream",
     "text": []
    },
    {
     "name": "stdout",
     "output_type": "stream",
     "text": [
      "file: 8_catherine_0_9_9\n"
     ]
    },
    {
     "name": "stderr",
     "output_type": "stream",
     "text": []
    },
    {
     "name": "stdout",
     "output_type": "stream",
     "text": [
      "file: 8_catherine_0_110_110\n"
     ]
    },
    {
     "name": "stderr",
     "output_type": "stream",
     "text": []
    },
    {
     "name": "stdout",
     "output_type": "stream",
     "text": [
      "file: 8_catherine_0_55_55\n"
     ]
    },
    {
     "name": "stderr",
     "output_type": "stream",
     "text": []
    },
    {
     "name": "stdout",
     "output_type": "stream",
     "text": [
      "file: 8_catherine_0_17_17\n"
     ]
    },
    {
     "name": "stderr",
     "output_type": "stream",
     "text": []
    },
    {
     "name": "stdout",
     "output_type": "stream",
     "text": [
      "file: 8_catherine_0_54_54\n"
     ]
    },
    {
     "name": "stderr",
     "output_type": "stream",
     "text": []
    },
    {
     "name": "stdout",
     "output_type": "stream",
     "text": [
      "file: 8_catherine_0_88_88\n"
     ]
    },
    {
     "name": "stderr",
     "output_type": "stream",
     "text": []
    },
    {
     "name": "stdout",
     "output_type": "stream",
     "text": [
      "file: 8_catherine_0_46_46\n"
     ]
    },
    {
     "name": "stderr",
     "output_type": "stream",
     "text": []
    },
    {
     "name": "stdout",
     "output_type": "stream",
     "text": [
      "file: 8_catherine_0_57_57\n"
     ]
    },
    {
     "name": "stderr",
     "output_type": "stream",
     "text": []
    },
    {
     "name": "stdout",
     "output_type": "stream",
     "text": [
      "file: 8_catherine_1_2_2\n"
     ]
    },
    {
     "name": "stderr",
     "output_type": "stream",
     "text": []
    },
    {
     "name": "stdout",
     "output_type": "stream",
     "text": [
      "file: 8_catherine_0_1_1\n"
     ]
    },
    {
     "name": "stderr",
     "output_type": "stream",
     "text": []
    },
    {
     "name": "stdout",
     "output_type": "stream",
     "text": [
      "file: 8_catherine_0_112_112\n"
     ]
    },
    {
     "name": "stderr",
     "output_type": "stream",
     "text": []
    },
    {
     "name": "stdout",
     "output_type": "stream",
     "text": [
      "file: 8_catherine_0_2_2\n"
     ]
    },
    {
     "name": "stderr",
     "output_type": "stream",
     "text": []
    },
    {
     "name": "stdout",
     "output_type": "stream",
     "text": [
      "file: 8_catherine_0_78_78\n"
     ]
    },
    {
     "name": "stderr",
     "output_type": "stream",
     "text": []
    },
    {
     "name": "stdout",
     "output_type": "stream",
     "text": [
      "file: 8_catherine_1_11_11\n"
     ]
    },
    {
     "name": "stderr",
     "output_type": "stream",
     "text": []
    },
    {
     "name": "stdout",
     "output_type": "stream",
     "text": [
      "file: 8_catherine_0_90_90\n"
     ]
    },
    {
     "name": "stderr",
     "output_type": "stream",
     "text": []
    },
    {
     "name": "stdout",
     "output_type": "stream",
     "text": [
      "file: 8_catherine_0_116_116\n"
     ]
    },
    {
     "name": "stderr",
     "output_type": "stream",
     "text": []
    },
    {
     "name": "stdout",
     "output_type": "stream",
     "text": [
      "file: 8_catherine_0_28_28\n"
     ]
    },
    {
     "name": "stderr",
     "output_type": "stream",
     "text": []
    },
    {
     "name": "stdout",
     "output_type": "stream",
     "text": [
      "file: 8_catherine_1_9_9\n"
     ]
    },
    {
     "name": "stderr",
     "output_type": "stream",
     "text": []
    },
    {
     "name": "stdout",
     "output_type": "stream",
     "text": [
      "file: 8_catherine_0_13_13\n"
     ]
    },
    {
     "name": "stderr",
     "output_type": "stream",
     "text": []
    },
    {
     "name": "stdout",
     "output_type": "stream",
     "text": [
      "file: 8_catherine_0_29_29\n"
     ]
    },
    {
     "name": "stderr",
     "output_type": "stream",
     "text": []
    },
    {
     "name": "stdout",
     "output_type": "stream",
     "text": [
      "file: 8_catherine_0_63_63\n"
     ]
    },
    {
     "name": "stderr",
     "output_type": "stream",
     "text": []
    },
    {
     "name": "stdout",
     "output_type": "stream",
     "text": [
      "file: 8_catherine_0_26_26\n"
     ]
    },
    {
     "name": "stderr",
     "output_type": "stream",
     "text": []
    },
    {
     "name": "stdout",
     "output_type": "stream",
     "text": [
      "file: 8_catherine_0_51_51\n"
     ]
    },
    {
     "name": "stderr",
     "output_type": "stream",
     "text": []
    },
    {
     "name": "stdout",
     "output_type": "stream",
     "text": [
      "file: 8_catherine_0_34_34\n"
     ]
    },
    {
     "name": "stderr",
     "output_type": "stream",
     "text": []
    },
    {
     "name": "stdout",
     "output_type": "stream",
     "text": [
      "file: 8_catherine_0_38_38\n"
     ]
    },
    {
     "name": "stderr",
     "output_type": "stream",
     "text": []
    },
    {
     "name": "stdout",
     "output_type": "stream",
     "text": [
      "file: 8_catherine_0_24_24\n"
     ]
    },
    {
     "name": "stderr",
     "output_type": "stream",
     "text": []
    },
    {
     "name": "stdout",
     "output_type": "stream",
     "text": [
      "file: 8_catherine_0_89_89\n"
     ]
    },
    {
     "name": "stderr",
     "output_type": "stream",
     "text": []
    },
    {
     "name": "stdout",
     "output_type": "stream",
     "text": [
      "file: 8_catherine_0_100_100\n"
     ]
    },
    {
     "name": "stderr",
     "output_type": "stream",
     "text": []
    },
    {
     "name": "stdout",
     "output_type": "stream",
     "text": [
      "file: 8_catherine_0_83_83\n"
     ]
    },
    {
     "name": "stderr",
     "output_type": "stream",
     "text": []
    },
    {
     "name": "stdout",
     "output_type": "stream",
     "text": [
      "file: 8_catherine_0_11_11\n"
     ]
    },
    {
     "name": "stderr",
     "output_type": "stream",
     "text": []
    },
    {
     "name": "stdout",
     "output_type": "stream",
     "text": [
      "file: 8_catherine_0_80_80\n"
     ]
    },
    {
     "name": "stderr",
     "output_type": "stream",
     "text": []
    },
    {
     "name": "stdout",
     "output_type": "stream",
     "text": [
      "file: 8_catherine_0_16_16\n"
     ]
    },
    {
     "name": "stderr",
     "output_type": "stream",
     "text": []
    },
    {
     "name": "stdout",
     "output_type": "stream",
     "text": [
      "file: 8_catherine_1_8_8\n"
     ]
    },
    {
     "name": "stderr",
     "output_type": "stream",
     "text": []
    },
    {
     "name": "stdout",
     "output_type": "stream",
     "text": [
      "file: 8_catherine_0_70_70\n"
     ]
    },
    {
     "name": "stderr",
     "output_type": "stream",
     "text": []
    },
    {
     "name": "stdout",
     "output_type": "stream",
     "text": [
      "file: 8_catherine_0_45_45\n"
     ]
    },
    {
     "name": "stderr",
     "output_type": "stream",
     "text": []
    },
    {
     "name": "stdout",
     "output_type": "stream",
     "text": [
      "file: 8_catherine_0_87_87\n"
     ]
    },
    {
     "name": "stderr",
     "output_type": "stream",
     "text": []
    },
    {
     "name": "stdout",
     "output_type": "stream",
     "text": [
      "file: 8_catherine_0_73_73\n"
     ]
    },
    {
     "name": "stderr",
     "output_type": "stream",
     "text": []
    },
    {
     "name": "stdout",
     "output_type": "stream",
     "text": [
      "file: 8_catherine_0_7_7\n"
     ]
    },
    {
     "name": "stderr",
     "output_type": "stream",
     "text": []
    },
    {
     "name": "stdout",
     "output_type": "stream",
     "text": [
      "file: 8_catherine_0_91_91\n"
     ]
    },
    {
     "name": "stderr",
     "output_type": "stream",
     "text": []
    },
    {
     "name": "stdout",
     "output_type": "stream",
     "text": [
      "file: 8_catherine_0_5_5\n"
     ]
    },
    {
     "name": "stderr",
     "output_type": "stream",
     "text": []
    },
    {
     "name": "stdout",
     "output_type": "stream",
     "text": [
      "file: 8_catherine_0_21_21\n"
     ]
    },
    {
     "name": "stderr",
     "output_type": "stream",
     "text": []
    },
    {
     "name": "stdout",
     "output_type": "stream",
     "text": [
      "file: 8_catherine_0_99_99\n"
     ]
    },
    {
     "name": "stderr",
     "output_type": "stream",
     "text": []
    },
    {
     "name": "stdout",
     "output_type": "stream",
     "text": [
      "file: 8_catherine_0_67_67\n"
     ]
    },
    {
     "name": "stderr",
     "output_type": "stream",
     "text": []
    },
    {
     "name": "stdout",
     "output_type": "stream",
     "text": [
      "file: 8_catherine_0_92_92\n"
     ]
    },
    {
     "name": "stderr",
     "output_type": "stream",
     "text": [
      "910it [08:02,  1.89it/s]\n",
      "100%|██████████| 4/4 [34:45<00:00, 521.38s/it]\n"
     ]
    }
   ],
   "source": [
    "#calculate mean and build cache for data. \n",
    "ori_list = joint_list[\"beat_joints\"]\n",
    "target_list = joint_list[\"beat_141\"]\n",
    "#wave cache from a = librosa.load(sr=16000) and np.save(a)\n",
    "reduce_factor_json = int(60/target_fps)\n",
    "reduce_factor_bvh = int(120/target_fps)\n",
    "print(f\"target_fps: {target_fps}, reduce json {reduce_factor_json}, reduce bvh {reduce_factor_bvh}\")\n",
    "\n",
    "npy_s_v = []\n",
    "npy_s_k = []\n",
    "json_s_v = []\n",
    "bvh_s_v = []\n",
    "\n",
    "def adjust_angles_to_pi_range(angles):\n",
    "    adjusted = np.mod(angles, 360)\n",
    "    adjusted[adjusted > 180] -= 360\n",
    "    return adjusted\n",
    "\n",
    "for speaker in tqdm(speakers):\n",
    "    all_data = os.listdir(f\"{ori_data_path}/{speaker}\")\n",
    "    npy_all = []\n",
    "    json_all = []\n",
    "    bvh_all = []\n",
    "    for ii, file in tqdm(enumerate(all_data)):\n",
    "        if not file.startswith(str(speaker)):\n",
    "            print(f\"<!>{file} belongs an incorrect folder in {speaker}.\")\n",
    "        if not file.endswith(\".npy\"):\n",
    "            continue\n",
    "        file = file[:-4]\n",
    "        try: shutil.copy(f\"{ori_data_path}/{speaker}/{file}.txt\", f\"{cache_path}/sem/{file}.txt\")\n",
    "        except: print(f\"{file}.txt\")\n",
    "        try: shutil.copy(f\"{ori_data_path}/{speaker}/{file}.csv\", f\"{cache_path}/emo/{file}.csv\")\n",
    "        except: print(f\"{file}.csv\")\n",
    "        #audio npy\n",
    "        shutil.copy(f\"{ori_data_path}/{speaker}/{file}.npy\", f\"{cache_path}/wave16k/{file}.npy\")\n",
    "        npy_all.extend(list(np.load(f\"{ori_data_path}/{speaker}/{file}.npy\")))\n",
    "        #text TextGrid\n",
    "        try:shutil.copy(f\"{ori_data_path}/{speaker}/{file}.TextGrid\", f\"{cache_path}/text/{file}.TextGrid\")\n",
    "        except: print(f\"{file}.TextGrid\")\n",
    "        #facial json\n",
    "        with open(f\"{ori_data_path}/{speaker}/{file}.json\", \"r\", encoding='utf-8') as json_file_raw:\n",
    "            json_file = json.load(json_file_raw)\n",
    "            with open(f\"{cache_path}/facial52/{file}.json\", \"w\") as reduced_json:\n",
    "                counter = 0\n",
    "                new_frames_list = []\n",
    "                for json_data in json_file[\"frames\"]:\n",
    "                    if counter % reduce_factor_json == 0:\n",
    "                        json_all.append(json_data[\"weights\"])\n",
    "                        new_frames_list.append(json_data)\n",
    "                    counter += 1\n",
    "                json.dump({\"names\":json_file[\"names\"], \"frames\": new_frames_list}, reduced_json)\n",
    "        #body bvh\n",
    "        with open(f\"{ori_data_path}/{speaker}/{file}.bvh\", \"r\") as bvh_file:\n",
    "            with open(f\"{cache_path}/bvh_rot/{file}.bvh\", \"w\") as reduced_raw_bvh: # This is trainable\n",
    "                with open(f\"{cache_path}/bvh_rot_vis/{file}.bvh\", \"w\") as reduced_trainable_bvh: # This is raw (blender previewable)\n",
    "                    print(f\"file: {file}\")\n",
    "                    for i, line_data in enumerate(bvh_file.readlines()):\n",
    "                        # angle range check\n",
    "                        data = np.fromstring(line_data, dtype=float, sep=' ')\n",
    "                        data = adjust_angles_to_pi_range(data)\n",
    "                        if i < 431:\n",
    "                            reduced_trainable_bvh.write(line_data)\n",
    "                            continue\n",
    "                        if i % reduce_factor_bvh != 0:\n",
    "                            continue\n",
    "                        # one line(i) = one frame\n",
    "                        bvh_all.append(data)\n",
    "                        trainable_rotation = np.zeros_like(data)\n",
    "                        for k, eular in target_list.items():\n",
    "                            trainable_rotation[ori_list[k][1]-eular:ori_list[k][1]] = data[ori_list[k][1]-eular:ori_list[k][1]]\n",
    "                        trainable_line_data = np.array2string(trainable_rotation, max_line_width=np.inf, precision=6, suppress_small=False, separator=' ')\n",
    "                        reduced_trainable_bvh.write(trainable_line_data[1:-2]+\"\\n\")\n",
    "                        \n",
    "                        data_rotation = np.zeros((1))\n",
    "                        for k, eular in target_list.items():\n",
    "                            data_rotation = np.concatenate((data_rotation, data[ori_list[k][1]-eular:ori_list[k][1]]))                             \n",
    "                        raw_line_data = np.array2string(data_rotation[1:], max_line_width=np.inf, precision=6, suppress_small=False, separator=' ')\n",
    "                        reduced_raw_bvh.write(raw_line_data[1:-2] + '\\n')\n",
    "    npy_all = np.array(npy_all)\n",
    "    npy_mean = np.mean(npy_all, axis=0)\n",
    "    npy_std = np.std(npy_all, axis=0)\n",
    "    npy_s_v.append([npy_mean, npy_std])\n",
    "    npy_s_k.append([len(npy_all)/16000/60])\n",
    "    np.save(f\"{cache_path}/wave16k/npy_mean_{speaker}.npy\", npy_mean)\n",
    "    np.save(f\"{cache_path}/wave16k/npy_std_{speaker}.npy\", npy_std)  \n",
    "\n",
    "    cjson_all = np.array(json_all)\n",
    "    json_mean = np.mean(json_all, axis=0)\n",
    "    json_std = np.std(json_all, axis=0)\n",
    "    json_s_v.append([json_mean, json_std])\n",
    "    np.save(f\"{cache_path}/facial52/json_mean_{speaker}.npy\", json_mean)\n",
    "    np.save(f\"{cache_path}/facial52/json_std_{speaker}.npy\", json_std)\n",
    "\n",
    "    bvh_all = np.array(bvh_all)\n",
    "    bvh_mean = np.mean(bvh_all, axis=0)\n",
    "    bvh_std = np.std(bvh_all, axis=0)\n",
    "    bvh_s_v.append([bvh_mean, bvh_std])\n",
    "    # number of joints reduced version \n",
    "    data_rotation = np.zeros((1))\n",
    "    for k, eular in target_list.items():\n",
    "        data_rotation = np.concatenate((data_rotation, bvh_mean[ori_list[k][1]-eular:ori_list[k][1]]))\n",
    "    new_npy_mean = data_rotation[1:]\n",
    "    data_rotation = np.zeros((1))\n",
    "    for k, eular in target_list.items():\n",
    "        data_rotation = np.concatenate((data_rotation, bvh_std[ori_list[k][1]-eular:ori_list[k][1]]))\n",
    "    new_npy_std = data_rotation[1:]\n",
    "    np.save(f\"{cache_path}/bvh_rot/bvh_mean_{speaker}.npy\", new_npy_mean)\n",
    "    np.save(f\"{cache_path}/bvh_rot/bvh_std_{speaker}.npy\", new_npy_std)"
   ]
  },
  {
   "cell_type": "code",
   "execution_count": 7,
   "metadata": {},
   "outputs": [
    {
     "data": {
      "text/plain": [
       "'/mnt/data/izumi/BEAT_2022/dataloaders'"
      ]
     },
     "execution_count": 7,
     "metadata": {},
     "output_type": "execute_result"
    }
   ],
   "source": [
    "%pwd"
   ]
  },
  {
   "cell_type": "code",
   "execution_count": 4,
   "metadata": {},
   "outputs": [
    {
     "name": "stdout",
     "output_type": "stream",
     "text": [
      "#create in ./datasets/beat_cache/beat_4english_15_141/train\n"
     ]
    },
    {
     "name": "stderr",
     "output_type": "stream",
     "text": [
      "402it [16:23,  2.45s/it]\n"
     ]
    },
    {
     "name": "stdout",
     "output_type": "stream",
     "text": [
      "#create in ./datasets/beat_cache/beat_4english_15_141/val\n"
     ]
    },
    {
     "name": "stderr",
     "output_type": "stream",
     "text": [
      "64it [02:12,  2.06s/it]\n"
     ]
    },
    {
     "name": "stdout",
     "output_type": "stream",
     "text": [
      "#create in ./datasets/beat_cache/beat_4english_15_141/test\n"
     ]
    },
    {
     "name": "stderr",
     "output_type": "stream",
     "text": [
      "64it [02:20,  2.20s/it]\n"
     ]
    }
   ],
   "source": [
    "import torch\n",
    "import sys\n",
    "sys.path.append('..')\n",
    "from utils import rotation_tools\n",
    "update_rot6d = False\n",
    "update_axis_angle = True\n",
    "update_head_pose_rot6d = False\n",
    "def insert_new_dirs(path):\n",
    "    if not os.path.exists(path):\n",
    "        os.makedirs(path)\n",
    "def convert_representations_from_bvh(path):\n",
    "    all_data = os.listdir(f\"{path}/bvh_rot\")\n",
    "    bvh_rot6d_all = []\n",
    "    bvh_axis_angle_all = []\n",
    "    head_rot_all = []\n",
    "    print(f\"#create in {path}\")\n",
    "    insert_new_dirs(f\"{path}/bvh_axis_angle\")\n",
    "    for ii, file in tqdm(enumerate(all_data)):\n",
    "        #if not file.startswith(\"2\"):\n",
    "        #    continue\n",
    "        if not file.endswith(\"bvh\"):\n",
    "            continue\n",
    "        with open(f\"{path}/bvh_rot/{file}\", \"r\") as bvh_file:\n",
    "            pose_rot6d_file = open(f\"{path}/bvh_rot_6d/{file[:-3]}6d\", \"w\") if update_rot6d else None\n",
    "            pose_axis_angle_file = open(f\"{path}/bvh_axis_angle/{file[:-3]}axisangle\", \"w\") if update_axis_angle else None\n",
    "            head_rot_file = open(f\"{path}/head_rot/{file[:-3]}6d\", \"w\") if update_head_pose_rot6d else None\n",
    "            try:\n",
    "                #prev_data = None\n",
    "                #prev_vel = None\n",
    "                for i, line_data in enumerate(bvh_file.readlines()):\n",
    "                    data = np.fromstring(line_data, dtype=float, sep=' ')\n",
    "                    data = np.deg2rad(data)\n",
    "                    data = rotation_tools.euler_angles_to_matrix(torch.from_numpy(data.reshape([-1, 3])), \"XYZ\")\n",
    "                    # repeat conversion stabilize (according to EMAGE emage_trainer)\n",
    "                    #data = rotation_tools.matrix_to_rotation_6d(data)\n",
    "                    #data = rotation_tools.rotation_6d_to_matrix(data)\n",
    "                    if head_rot_file is not None:\n",
    "                        spine1 = data[0, :]\n",
    "                        spine2 = data[1, :]\n",
    "                        neck = data[2, :]\n",
    "                        head_rot = torch.matmul(torch.matmul(spine1, spine2), neck)\n",
    "                        head_rot = rotation_tools.matrix_to_rotation_6d(head_rot).numpy().reshape(-1)\n",
    "                        head_rot_all.append(head_rot)\n",
    "                        trainable_line_data = np.array2string(head_rot, max_line_width=np.inf, precision=6, suppress_small=False, separator=' ')\n",
    "                        head_rot_file.write(trainable_line_data[1:-1] + '\\n')\n",
    "                    if pose_axis_angle_file is not None:\n",
    "                        data_axis_angle = rotation_tools.matrix_to_axis_angle_v2(data).numpy().reshape(-1)\n",
    "                        bvh_axis_angle_all.append(data_axis_angle)\n",
    "                        trainable_line_data = np.array2string(data_axis_angle, max_line_width=np.inf, precision=6, suppress_small=False, separator=' ')\n",
    "                        pose_axis_angle_file.write(trainable_line_data[1:-1] + '\\n')\n",
    "                    if pose_rot6d_file is not None:\n",
    "                        data = rotation_tools.matrix_to_rotation_6d(data).numpy().reshape(-1)\n",
    "                        bvh_rot6d_all.append(data)\n",
    "                        trainable_line_data = np.array2string(data, max_line_width=np.inf, precision=6, suppress_small=False, separator=' ')\n",
    "                        pose_rot6d_file.write(trainable_line_data[1:-1] + '\\n')\n",
    "            finally:\n",
    "                if head_rot_file is not None:\n",
    "                    head_rot_file.close()\n",
    "                if pose_axis_angle_file is not None:\n",
    "                    pose_axis_angle_file.close()\n",
    "                if pose_rot6d_file is not None:\n",
    "                    pose_rot6d_file.close()\n",
    "    if update_rot6d:\n",
    "        bvh_rot6d_all = np.array(bvh_rot6d_all)\n",
    "        mean = np.mean(bvh_rot6d_all, axis=0)\n",
    "        std = np.std(bvh_rot6d_all, axis=0)\n",
    "        np.save(f\"{path}/bvh_rot_6d/bvh_rot_6d_mean.npy\", mean)\n",
    "        np.save(f\"{path}/bvh_rot_6d/bvh_rot_6d_std.npy\", std)\n",
    "    if update_axis_angle:\n",
    "        bvh_axis_angle_all = np.array(bvh_axis_angle_all)\n",
    "        mean = np.mean(bvh_axis_angle_all, axis=0)\n",
    "        std = np.std(bvh_axis_angle_all, axis=0)\n",
    "        np.save(f\"{path}/bvh_axis_angle/bvh_axis_angle_mean.npy\", mean)\n",
    "        np.save(f\"{path}/bvh_axis_angle/bvh_axis_angle_std.npy\", std)\n",
    "    if update_head_pose_rot6d:\n",
    "        head_rot_all = np.array(head_rot_all)\n",
    "        mean = np.mean(head_rot_all, axis=0)\n",
    "        std = np.std(head_rot_all, axis=0)\n",
    "        np.save(f\"{path}/head_rot/head_rot_mean.npy\", mean)\n",
    "        np.save(f\"{path}/head_rot/head_rot_std.npy\", std)\n",
    "    #np.save(f\"{path}/bvh_rot/eular_ang_vel_mean_2.npy\", np.mean(vel_all, axis=0))\n",
    "    #np.save(f\"{path}/bvh_rot/eular_ang_vel_std_2.npy\", np.std(vel_all, axis=0))\n",
    "    #np.save(f\"{path}/bvh_rot/eular_ang_acc_mean_2.npy\", np.mean(acc_all, axis=0))\n",
    "    #np.save(f\"{path}/bvh_rot/eular_ang_acc_std_2.npy\", np.std(acc_all, axis=0))\n",
    "\n",
    "convert_representations_from_bvh(cache_path)\n",
    "convert_representations_from_bvh(cache_path.replace(\"train\", \"val\"))\n",
    "convert_representations_from_bvh(cache_path.replace(\"train\", \"test\"))"
   ]
  },
  {
   "cell_type": "code",
   "execution_count": 9,
   "metadata": {},
   "outputs": [
    {
     "name": "stdout",
     "output_type": "stream",
     "text": [
      "audio mean: -1.753280171839557e-05, std: 0.08794526423877846\n",
      "(141,)\n",
      "(141,)\n",
      "bvh mean: [ 1.59045798e+01  1.92844329e-01 -6.30230118e-01  7.28802744e+00\n",
      " -2.65845237e+00  1.10275323e+00 -3.65125947e+00 -5.25760040e+00\n",
      " -7.22091144e+00 -5.37784132e-06 -1.49665291e+01  4.33142915e+00\n",
      " -1.32733595e+01  2.40613776e+01  6.46167496e+01 -5.28339298e-01\n",
      "  8.07433555e+01 -8.70368683e-01  1.63797944e+00 -5.26727977e-01\n",
      "  1.58542881e+00  8.90394390e-01 -3.74767772e+00  2.50531375e+01\n",
      "  4.12687317e-07  3.51824007e-07  2.37111413e+01  4.67951454e-07\n",
      "  2.50737513e-07  1.78241289e+01 -1.08300418e+01 -1.73534735e+00\n",
      " -3.72940357e-01  3.64240248e-01 -7.38525387e+00  2.20167394e+01\n",
      " -2.30022650e+00 -8.90069862e-01  2.83422697e+01 -1.04638173e+00\n",
      " -1.65196600e-01  1.17959571e+01 -5.20084963e+00 -2.45326875e+00\n",
      " -1.16790017e+00 -2.04586052e+00 -7.98968134e+00  9.79647160e+00\n",
      " -4.80577663e+00 -1.52134931e+00  2.29946430e+01 -4.42791389e+00\n",
      " -1.01392826e+00  2.05283097e+01 -4.72301116e+00  6.83880062e+00\n",
      "  3.39570216e-01  5.75404185e+00 -1.29639873e+01  1.77352919e+01\n",
      "  1.64808037e+00  6.21301289e-01  1.98140689e+01  1.19744134e+00\n",
      "  2.28276539e-01  1.35809953e+01  4.96880287e+01  5.35986883e+00\n",
      "  6.55893055e+00  2.06459952e-02 -4.99708905e+00  2.13949587e+00\n",
      "  2.99747942e+00 -4.56609109e+00  7.93792967e+00 -4.90088501e-06\n",
      "  1.41662680e+01 -1.08781803e+01 -5.49265104e+00 -2.25629050e+01\n",
      " -5.96372631e+01 -1.67211391e+01 -9.51066196e+01 -1.77787421e+01\n",
      "  1.23826082e+00  2.22329575e+00 -7.92686220e+00  7.86389720e-02\n",
      "  4.63086569e+00 -1.78272973e+01  4.81079751e-07 -2.60286649e-07\n",
      " -1.92260144e+01  5.15377514e-07 -1.68456998e-07 -1.55965404e+01\n",
      " -1.15677752e+01  1.24822842e+00 -3.55855241e-02 -1.22050843e-01\n",
      "  6.37212469e+00 -1.69692123e+01 -1.91423218e+00  6.34898264e-01\n",
      " -2.30127075e+01 -1.02850630e+00  1.48893716e-01 -1.15750153e+01\n",
      " -6.71134253e+00  9.89443673e-01  4.00552023e-01 -9.95238930e-01\n",
      "  1.01658743e+01 -1.02552340e+01 -4.02177799e+00  9.97672312e-01\n",
      " -1.87677621e+01 -4.00532491e+00  7.98981229e-01 -1.84244130e+01\n",
      " -5.38967047e+00 -6.34470170e+00  1.45182821e-01  3.64741929e+00\n",
      "  1.26750724e+01 -1.15620979e+01  1.44391930e+00 -3.95000845e-01\n",
      " -1.69087469e+01  9.28514502e-01 -1.33014417e-01 -1.04374867e+01\n",
      "  4.60853381e+01 -3.69457981e+00 -4.70627205e+00 -1.49050721e+00\n",
      "  6.85752058e+00  8.99807002e-01  3.21606738e+00  4.99311542e+00\n",
      " -8.61111779e+00], std: [4.97620894e+00 6.42696922e-01 3.72955406e+00 8.69978838e+00\n",
      " 7.85810251e+00 7.87532295e+00 2.08401799e+01 2.03121103e+01\n",
      " 2.09381768e+01 1.75211627e-06 2.98239159e+00 5.36068371e+00\n",
      " 2.48719395e+01 1.92933314e+01 1.73834562e+01 9.94555345e+01\n",
      " 5.47419284e+01 1.01618697e+02 5.34706091e+00 9.74594328e+00\n",
      " 2.31221421e+01 2.53442367e+00 4.02786415e+00 1.75142356e+01\n",
      " 1.45163060e-06 1.32331780e-06 2.16915913e+01 1.43073157e-06\n",
      " 1.34608441e-06 1.08236138e+01 4.50173206e+00 1.12464195e+00\n",
      " 8.81402381e-01 1.38425157e+00 3.05226310e+00 1.97362881e+01\n",
      " 1.47966670e+00 9.68108240e-01 2.02505317e+01 7.48926949e-01\n",
      " 1.59274161e-01 8.53077543e+00 1.96726016e+00 1.72487511e+00\n",
      " 1.11573509e+00 3.16243703e+00 5.60680104e+00 1.94412458e+01\n",
      " 3.29498593e+00 1.67895631e+00 1.69015138e+01 2.16211502e+00\n",
      " 8.39991539e-01 1.04257040e+01 3.03323619e+00 1.09735167e+00\n",
      " 1.17881490e+00 4.77661891e+00 4.69664151e+00 1.38134634e+01\n",
      " 1.65414537e+00 7.67916899e-01 2.10345262e+01 9.11653787e-01\n",
      " 2.09447199e-01 1.04588510e+01 7.09236886e+00 3.02802687e+00\n",
      " 5.15839696e+00 4.37615321e+00 4.57871502e+00 8.64435657e+00\n",
      " 2.33783219e+00 3.79328029e+00 6.46557760e+00 1.82359098e-06\n",
      " 4.88292744e+00 4.49731024e+00 3.06785780e+01 2.76363889e+01\n",
      " 2.69487752e+01 1.03499309e+02 5.03051046e+01 1.06089597e+02\n",
      " 3.50972583e+00 9.48632945e+00 2.05777376e+01 2.99061255e+00\n",
      " 4.92518142e+00 1.95317091e+01 1.45942816e-06 1.30381508e-06\n",
      " 1.72990425e+01 1.44235775e-06 1.35805385e-06 9.33178942e+00\n",
      " 4.30501701e+00 9.39106467e-01 9.31063008e-01 1.35834172e+00\n",
      " 2.91997582e+00 1.99765241e+01 1.37225386e+00 7.86436397e-01\n",
      " 1.80105280e+01 6.60335844e-01 1.54379674e-01 7.54782585e+00\n",
      " 2.40395768e+00 1.14780731e+00 9.78852142e-01 1.91534344e+00\n",
      " 4.38275227e+00 1.89415183e+01 2.68427128e+00 1.11077614e+00\n",
      " 1.31614926e+01 1.82477720e+00 6.95845212e-01 8.75948969e+00\n",
      " 3.40482178e+00 8.59382498e-01 9.92129069e-01 5.62103053e+00\n",
      " 3.44344062e+00 1.64754053e+01 1.23943149e+00 5.55994265e-01\n",
      " 1.53842922e+01 6.90219552e-01 1.39316562e-01 7.84087266e+00\n",
      " 6.83885849e+00 3.34542778e+00 4.57930821e+00 4.31289088e+00\n",
      " 5.47080735e+00 8.12421069e+00 1.94715347e+00 3.32217142e+00\n",
      " 5.56146147e+00]\n"
     ]
    }
   ],
   "source": [
    "# calculate global mean and std for average all speakers\n",
    "npy_s_v = []\n",
    "json_s_v = []\n",
    "bvh_s_v = []\n",
    "\n",
    "npy_path = f\"{cache_path}/wave16k\"\n",
    "bvh_path = f\"{cache_path}/bvh_rot\"\n",
    "json_path = f\"{cache_path}/facial52\" \n",
    "        \n",
    "for i in speakers:\n",
    "    npy_s_v.append([np.load(f\"{npy_path}/npy_mean_{i}.npy\"), np.load(f\"{npy_path}/npy_std_{i}.npy\")])\n",
    "    json_s_v.append([np.load(f\"{json_path}/json_mean_{i}.npy\"), np.load(f\"{json_path}/json_std_{i}.npy\")])\n",
    "    bvh_s_v.append([np.load(f\"{bvh_path}/bvh_mean_{i}.npy\"), np.load(f\"{bvh_path}/bvh_std_{i}.npy\")])\n",
    "\n",
    "all_length = 0\n",
    "new_m = new_s = 0\n",
    "#new_m = np.zeros_like(npy_s_v[0][0])\n",
    "#new_s = np.zeros_like(npy_s_v[0][0])\n",
    "for i, (m, s) in enumerate(npy_s_v):\n",
    "    all_length += npy_s_k[i][0]\n",
    "    new_m += npy_s_k[i][0] * m\n",
    "new_m /= all_length\n",
    "for i, (m, s) in enumerate(npy_s_v):\n",
    "    new_s += ((s**2) + (m-new_m)**2) * npy_s_k[i][0]\n",
    "new_s /= all_length\n",
    "new_s = np.sqrt(new_s)\n",
    "print(f\"audio mean: {new_m}, std: {new_s}\") \n",
    "np.save(f\"{npy_path}/npy_mean.npy\", new_m)\n",
    "np.save(f\"{npy_path}/npy_std.npy\", new_s)  \n",
    "\n",
    "all_length = 0\n",
    "new_m = new_s = 0\n",
    "#new_m = np.zeros_like(json_s_v[0][0])\n",
    "#new_s = np.zeros_like(json_s_v[0][0])\n",
    "for i, (m, s) in enumerate(json_s_v):\n",
    "    all_length += npy_s_k[i][0]\n",
    "    new_m += npy_s_k[i][0] * m\n",
    "new_m /= all_length\n",
    "for i, (m, s) in enumerate(json_s_v):\n",
    "    new_s += ((s**2) + (m-new_m)**2) * npy_s_k[i][0]\n",
    "new_s /= all_length\n",
    "new_s = np.sqrt(new_s)\n",
    "np.save(f\"{json_path}/json_mean.npy\", new_m)\n",
    "np.save(f\"{json_path}/json_std.npy\", new_s)\n",
    "\n",
    "all_length = 0\n",
    "new_m = new_s = 0\n",
    "#new_m = np.zeros_like(bvh_s_v[0][0])\n",
    "#new_s = np.zeros_like(bvh_s_v[0][0])\n",
    "for i, (m, s) in enumerate(bvh_s_v):\n",
    "    all_length += npy_s_k[i][0]\n",
    "    new_m += npy_s_k[i][0] * m\n",
    "new_m /= all_length\n",
    "for i, (m, s) in enumerate(bvh_s_v):\n",
    "    new_s += ((s**2) + (m-new_m)**2) * npy_s_k[i][0]\n",
    "new_s /= all_length\n",
    "new_s = np.sqrt(new_s)\n",
    "\n",
    "print(new_m.shape)\n",
    "print(new_s.shape)\n",
    "print(f\"bvh mean: {new_m}, std: {new_s}\") \n",
    "np.save(f\"{bvh_path}/bvh_mean.npy\", new_m)\n",
    "np.save(f\"{bvh_path}/bvh_std.npy\", new_s)"
   ]
  },
  {
   "cell_type": "code",
   "execution_count": 10,
   "metadata": {},
   "outputs": [],
   "source": [
    "default_path = \"./datasets/beat_cache/beat_4english_15_141/train\"\n",
    "speaker_names = [\n",
    "    \"wayne\", \"scott\", \"solomon\", \"lawrence\", \"stewart\", \"carla\", \"sophie\", \"catherine\", \"miranda\", \"kieks\", \\\n",
    "    \"nidal\", \"zhao\", \"lu\", \"zhang\", \"carlos\", \"jorge\", \"itoi\", \"daiki\", \"jaime\", \"li\", \\\n",
    "    \"ayana\", \"luqi\", \"hailing\", \"kexin\", \"goto\", \"reamey\", \"yingqing\", \"tiffnay\", \"hanieh\", \"katya\",\n",
    "]\n",
    "four_hour_speakers = [1, 2, 3, 4, 6, 7, 8, 9, 11, 21]\n",
    "one_hour_speakers = [5, 10, 12, 13, 14, 15, 16, 17, 18, 19, 20, 22, 23, 24, 25, 26, 27, 28, 29, 30]\n",
    "split_rule_english = {\n",
    "    # 4h speakers x 10\n",
    "    \"four_hour_speakers\":{\n",
    "        # 48+40+100=188mins each\n",
    "        \"train\": [\n",
    "            \"0_9_9\", \"0_10_10\", \"0_11_11\", \"0_12_12\", \"0_13_13\", \"0_14_14\", \"0_15_15\", \"0_16_16\", \\\n",
    "            \"0_17_17\", \"0_18_18\", \"0_19_19\", \"0_20_20\", \"0_21_21\", \"0_22_22\", \"0_23_23\", \"0_24_24\", \\\n",
    "            \"0_25_25\", \"0_26_26\", \"0_27_27\", \"0_28_28\", \"0_29_29\", \"0_30_30\", \"0_31_31\", \"0_32_32\", \\\n",
    "            \"0_33_33\", \"0_34_34\", \"0_35_35\", \"0_36_36\", \"0_37_37\", \"0_38_38\", \"0_39_39\", \"0_40_40\", \\\n",
    "            \"0_41_41\", \"0_42_42\", \"0_43_43\", \"0_44_44\", \"0_45_45\", \"0_46_46\", \"0_47_47\", \"0_48_48\", \\\n",
    "            \"0_49_49\", \"0_50_50\", \"0_51_51\", \"0_52_52\", \"0_53_53\", \"0_54_54\", \"0_55_55\", \"0_56_56\", \\\n",
    "            \n",
    "            \"0_66_66\", \"0_67_67\", \"0_68_68\", \"0_69_69\", \"0_70_70\", \"0_71_71\",  \\\n",
    "            \"0_74_74\", \"0_75_75\", \"0_76_76\", \"0_77_77\", \"0_78_78\", \"0_79_79\",  \\\n",
    "            \"0_82_82\", \"0_83_83\", \"0_84_84\", \"0_85_85\",  \\\n",
    "            \"0_88_88\", \"0_89_89\", \"0_90_90\", \"0_91_91\", \"0_92_92\", \"0_93_93\",  \\\n",
    "            \"0_96_96\", \"0_97_97\", \"0_98_98\", \"0_99_99\", \"0_100_100\", \"0_101_101\",  \\\n",
    "            \"0_104_104\", \"0_105_105\", \"0_106_106\", \"0_107_107\", \"0_108_108\", \"0_109_109\",  \\\n",
    "            \"0_112_112\", \"0_113_113\", \"0_114_114\", \"0_115_115\", \"0_116_116\", \"0_117_117\",  \\\n",
    "            \n",
    "            \"1_2_2\", \"1_3_3\", \"1_4_4\", \"1_5_5\", \"1_6_6\", \"1_7_7\", \"1_8_8\", \"1_9_9\", \"1_10_10\", \"1_11_11\",\n",
    "        ],\n",
    "        # 8+7+10=25mins each\n",
    "        \"val\": [\n",
    "            \"0_57_57\", \"0_58_58\", \"0_59_59\", \"0_60_60\", \"0_61_61\", \"0_62_62\", \"0_63_63\", \"0_64_64\", \\\n",
    "            \"0_72_72\", \"0_80_80\", \"0_86_86\", \"0_94_94\", \"0_102_102\", \"0_110_110\", \"0_118_118\", \\\n",
    "            \"1_12_12\",\n",
    "        ],\n",
    "        # 8+7+10=25mins each\n",
    "        \"test\": [\n",
    "           \"0_1_1\", \"0_2_2\", \"0_3_3\", \"0_4_4\", \"0_5_5\", \"0_6_6\", \"0_7_7\", \"0_8_8\", \\\n",
    "           \"0_65_65\", \"0_73_73\", \"0_81_81\", \"0_87_87\", \"0_95_95\", \"0_103_103\", \"0_111_111\", \\\n",
    "           \"1_1_1\",\n",
    "        ],\n",
    "    },\n",
    "    \n",
    "    # 1h speakers x 20\n",
    "    \"one_hour_speakers\":{\n",
    "        # 8+7+20=35mins each\n",
    "        \"train\": [\n",
    "            \"0_9_9\", \"0_10_10\", \"0_11_11\", \"0_12_12\", \"0_13_13\", \"0_14_14\", \"0_15_15\", \"0_16_16\", \\\n",
    "            \"0_66_66\", \"0_74_74\", \"0_82_82\", \"0_88_88\", \"0_96_96\", \"0_104_104\", \"0_112_112\", \"0_118_118\", \\\n",
    "            \"1_2_2\", \"1_3_3\", \n",
    "            \"1_0_0\", \"1_4_4\", # for speaker 29 only\n",
    "        ],\n",
    "        # 4+3.5+5 = 12.5mins each\n",
    "        # 0_65_a and 0_65_b denote the frist and second half of sequence 0_65_65\n",
    "        \"val\": [\n",
    "            \"0_5_5\", \"0_6_6\", \"0_7_7\", \"0_8_8\",  \\\n",
    "            \"0_65_b\", \"0_73_b\", \"0_81_b\", \"0_87_b\", \"0_95_b\", \"0_103_b\", \"0_111_b\", \\\n",
    "            \"1_1_b\",\n",
    "        ],\n",
    "        # 4+3.5+5 = 12.5mins each\n",
    "        \"test\": [\n",
    "           \"0_1_1\", \"0_2_2\", \"0_3_3\", \"0_4_4\", \\\n",
    "           \"0_65_a\", \"0_73_a\", \"0_81_a\", \"0_87_a\", \"0_95_a\", \"0_103_a\", \"0_111_a\", \\\n",
    "           \"1_1_a\",\n",
    "        ],\n",
    "    },\n",
    "}"
   ]
  },
  {
   "cell_type": "code",
   "execution_count": 7,
   "metadata": {},
   "outputs": [],
   "source": [
    "def overwrite_move(src, dst):\n",
    "    shutil.copy2(src, dst)\n",
    "    os.remove(src)\n",
    "def cut_sequence(source_path, save_path_a, save_path_b, file_id, fps = 15, sr = 16000, tmp=\"./datasets/beat_tmp/\"):\n",
    "    if not os.path.exists(tmp): os.mkdir(tmp)\n",
    "    cut_point = 30 if file_id.split(\"_\")[0] == \"0\" else 300 #in seconds\n",
    "    if source_path.endswith(\".npy\"):\n",
    "        data = np.load(source_path)\n",
    "        data_a = data[:sr*cut_point]\n",
    "        data_b = data[sr*cut_point:]\n",
    "        np.save(save_path_a, data_a)\n",
    "        np.save(save_path_b, data_b)\n",
    "        \n",
    "    elif source_path.endswith(\".bvh\"):\n",
    "        copy_lines = 431 if \"full\" in source_path or \"vis\" in source_path else 0\n",
    "        with open(source_path, \"r\") as data:\n",
    "            with open(save_path_a, \"w\") as data_a:\n",
    "                with open(save_path_b, \"w\") as data_b:\n",
    "                    for i, line_data in enumerate(data.readlines()):\n",
    "                        if i < copy_lines:\n",
    "                            data_a.write(line_data)\n",
    "                            data_b.write(line_data)\n",
    "                        elif i < cut_point * fps:\n",
    "                            data_a.write(line_data)\n",
    "                        else:\n",
    "                            data_b.write(line_data)\n",
    "    \n",
    "    elif source_path.endswith(\".json\"):\n",
    "        with open(source_path, \"r\", encoding='utf-8') as data:\n",
    "            json_file = json.load(data)\n",
    "            with open(save_path_a, \"w\") as data_a:\n",
    "                with open(save_path_b, \"w\") as data_b:\n",
    "                    new_frames_a = []\n",
    "                    new_frames_b = []\n",
    "                    for json_data in json_file[\"frames\"]:\n",
    "                        if json_data[\"time\"] < cut_point:\n",
    "                            new_frames_a.append(json_data)\n",
    "                        else:\n",
    "                            new_frame = json_data.copy()\n",
    "                            new_frame[\"time\"]-=cut_point\n",
    "                            new_frames_b.append(new_frame)\n",
    "                    json_new_a = {\"names\":json_file[\"names\"], \"frames\": new_frames_a}\n",
    "                    json_new_b = {\"names\":json_file[\"names\"], \"frames\": new_frames_b}\n",
    "                    json.dump(json_new_a, data_a)\n",
    "                    json.dump(json_new_b, data_b) \n",
    "        \n",
    "    else:\n",
    "        # processing in the dataloader\n",
    "        shutil.copy(source_path, save_path_a)\n",
    "        shutil.copy(source_path, save_path_b)\n",
    "    try:\n",
    "        overwrite_move(source_path, tmp)\n",
    "    except Exception as e:\n",
    "        print(f\"({e}) in move: {source_path}\")"
   ]
  },
  {
   "cell_type": "code",
   "execution_count": 12,
   "metadata": {},
   "outputs": [
    {
     "name": "stderr",
     "output_type": "stream",
     "text": [
      "  0%|          | 0/4 [00:00<?, ?it/s]"
     ]
    },
    {
     "name": "stdout",
     "output_type": "stream",
     "text": [
      "file_id: 0_57_57\n",
      "moving to val: ./datasets/beat_cache/beat_4english_15_141/train/facial52/2_scott_0_57_57.json\n",
      "moving to val: ./datasets/beat_cache/beat_4english_15_141/train/text/2_scott_0_57_57.TextGrid\n",
      "moving to val: ./datasets/beat_cache/beat_4english_15_141/train/wave16k/2_scott_0_57_57.npy\n",
      "moving to val: ./datasets/beat_cache/beat_4english_15_141/train/sem/2_scott_0_57_57.txt\n",
      "moving to val: ./datasets/beat_cache/beat_4english_15_141/train/emo/2_scott_0_57_57.csv\n",
      "moving to val: ./datasets/beat_cache/beat_4english_15_141/train/bvh_rot_6d/2_scott_0_57_57.6d\n",
      "moving to val: ./datasets/beat_cache/beat_4english_15_141/train/bvh_rot/2_scott_0_57_57.bvh\n",
      "moving to val: ./datasets/beat_cache/beat_4english_15_141/train/bvh_rot_vis/2_scott_0_57_57.bvh\n",
      "moving to val: ./datasets/beat_cache/beat_4english_15_141/train/head_rot/2_scott_0_57_57.6d\n",
      "file_id: 0_58_58\n",
      "moving to val: ./datasets/beat_cache/beat_4english_15_141/train/facial52/2_scott_0_58_58.json\n",
      "moving to val: ./datasets/beat_cache/beat_4english_15_141/train/text/2_scott_0_58_58.TextGrid\n",
      "moving to val: ./datasets/beat_cache/beat_4english_15_141/train/wave16k/2_scott_0_58_58.npy\n",
      "moving to val: ./datasets/beat_cache/beat_4english_15_141/train/sem/2_scott_0_58_58.txt\n",
      "moving to val: ./datasets/beat_cache/beat_4english_15_141/train/emo/2_scott_0_58_58.csv\n",
      "moving to val: ./datasets/beat_cache/beat_4english_15_141/train/bvh_rot_6d/2_scott_0_58_58.6d\n",
      "moving to val: ./datasets/beat_cache/beat_4english_15_141/train/bvh_rot/2_scott_0_58_58.bvh\n",
      "moving to val: ./datasets/beat_cache/beat_4english_15_141/train/bvh_rot_vis/2_scott_0_58_58.bvh\n",
      "moving to val: ./datasets/beat_cache/beat_4english_15_141/train/head_rot/2_scott_0_58_58.6d\n",
      "file_id: 0_59_59\n",
      "moving to val: ./datasets/beat_cache/beat_4english_15_141/train/facial52/2_scott_0_59_59.json\n",
      "moving to val: ./datasets/beat_cache/beat_4english_15_141/train/text/2_scott_0_59_59.TextGrid\n",
      "moving to val: ./datasets/beat_cache/beat_4english_15_141/train/wave16k/2_scott_0_59_59.npy\n",
      "moving to val: ./datasets/beat_cache/beat_4english_15_141/train/sem/2_scott_0_59_59.txt\n",
      "moving to val: ./datasets/beat_cache/beat_4english_15_141/train/emo/2_scott_0_59_59.csv\n",
      "moving to val: ./datasets/beat_cache/beat_4english_15_141/train/bvh_rot_6d/2_scott_0_59_59.6d\n",
      "moving to val: ./datasets/beat_cache/beat_4english_15_141/train/bvh_rot/2_scott_0_59_59.bvh\n",
      "moving to val: ./datasets/beat_cache/beat_4english_15_141/train/bvh_rot_vis/2_scott_0_59_59.bvh\n",
      "moving to val: ./datasets/beat_cache/beat_4english_15_141/train/head_rot/2_scott_0_59_59.6d\n",
      "file_id: 0_60_60\n",
      "moving to val: ./datasets/beat_cache/beat_4english_15_141/train/facial52/2_scott_0_60_60.json\n",
      "moving to val: ./datasets/beat_cache/beat_4english_15_141/train/text/2_scott_0_60_60.TextGrid\n",
      "moving to val: ./datasets/beat_cache/beat_4english_15_141/train/wave16k/2_scott_0_60_60.npy\n",
      "moving to val: ./datasets/beat_cache/beat_4english_15_141/train/sem/2_scott_0_60_60.txt\n",
      "moving to val: ./datasets/beat_cache/beat_4english_15_141/train/emo/2_scott_0_60_60.csv\n",
      "moving to val: ./datasets/beat_cache/beat_4english_15_141/train/bvh_rot_6d/2_scott_0_60_60.6d\n",
      "moving to val: ./datasets/beat_cache/beat_4english_15_141/train/bvh_rot/2_scott_0_60_60.bvh\n",
      "moving to val: ./datasets/beat_cache/beat_4english_15_141/train/bvh_rot_vis/2_scott_0_60_60.bvh\n",
      "moving to val: ./datasets/beat_cache/beat_4english_15_141/train/head_rot/2_scott_0_60_60.6d\n",
      "file_id: 0_61_61\n",
      "moving to val: ./datasets/beat_cache/beat_4english_15_141/train/facial52/2_scott_0_61_61.json\n",
      "moving to val: ./datasets/beat_cache/beat_4english_15_141/train/text/2_scott_0_61_61.TextGrid\n",
      "moving to val: ./datasets/beat_cache/beat_4english_15_141/train/wave16k/2_scott_0_61_61.npy\n",
      "moving to val: ./datasets/beat_cache/beat_4english_15_141/train/sem/2_scott_0_61_61.txt\n",
      "moving to val: ./datasets/beat_cache/beat_4english_15_141/train/emo/2_scott_0_61_61.csv\n",
      "moving to val: ./datasets/beat_cache/beat_4english_15_141/train/bvh_rot_6d/2_scott_0_61_61.6d\n",
      "moving to val: ./datasets/beat_cache/beat_4english_15_141/train/bvh_rot/2_scott_0_61_61.bvh\n",
      "moving to val: ./datasets/beat_cache/beat_4english_15_141/train/bvh_rot_vis/2_scott_0_61_61.bvh\n",
      "moving to val: ./datasets/beat_cache/beat_4english_15_141/train/head_rot/2_scott_0_61_61.6d\n",
      "file_id: 0_62_62\n",
      "moving to val: ./datasets/beat_cache/beat_4english_15_141/train/facial52/2_scott_0_62_62.json\n",
      "moving to val: ./datasets/beat_cache/beat_4english_15_141/train/text/2_scott_0_62_62.TextGrid\n",
      "moving to val: ./datasets/beat_cache/beat_4english_15_141/train/wave16k/2_scott_0_62_62.npy\n",
      "moving to val: ./datasets/beat_cache/beat_4english_15_141/train/sem/2_scott_0_62_62.txt\n",
      "moving to val: ./datasets/beat_cache/beat_4english_15_141/train/emo/2_scott_0_62_62.csv\n",
      "moving to val: ./datasets/beat_cache/beat_4english_15_141/train/bvh_rot_6d/2_scott_0_62_62.6d\n",
      "moving to val: ./datasets/beat_cache/beat_4english_15_141/train/bvh_rot/2_scott_0_62_62.bvh\n",
      "moving to val: ./datasets/beat_cache/beat_4english_15_141/train/bvh_rot_vis/2_scott_0_62_62.bvh\n",
      "moving to val: ./datasets/beat_cache/beat_4english_15_141/train/head_rot/2_scott_0_62_62.6d\n",
      "file_id: 0_63_63\n",
      "moving to val: ./datasets/beat_cache/beat_4english_15_141/train/facial52/2_scott_0_63_63.json\n",
      "moving to val: ./datasets/beat_cache/beat_4english_15_141/train/text/2_scott_0_63_63.TextGrid\n",
      "moving to val: ./datasets/beat_cache/beat_4english_15_141/train/wave16k/2_scott_0_63_63.npy\n",
      "moving to val: ./datasets/beat_cache/beat_4english_15_141/train/sem/2_scott_0_63_63.txt\n",
      "moving to val: ./datasets/beat_cache/beat_4english_15_141/train/emo/2_scott_0_63_63.csv\n",
      "moving to val: ./datasets/beat_cache/beat_4english_15_141/train/bvh_rot_6d/2_scott_0_63_63.6d\n",
      "moving to val: ./datasets/beat_cache/beat_4english_15_141/train/bvh_rot/2_scott_0_63_63.bvh\n",
      "moving to val: ./datasets/beat_cache/beat_4english_15_141/train/bvh_rot_vis/2_scott_0_63_63.bvh\n",
      "moving to val: ./datasets/beat_cache/beat_4english_15_141/train/head_rot/2_scott_0_63_63.6d\n",
      "file_id: 0_64_64\n",
      "moving to val: ./datasets/beat_cache/beat_4english_15_141/train/facial52/2_scott_0_64_64.json\n",
      "moving to val: ./datasets/beat_cache/beat_4english_15_141/train/text/2_scott_0_64_64.TextGrid\n",
      "moving to val: ./datasets/beat_cache/beat_4english_15_141/train/wave16k/2_scott_0_64_64.npy\n",
      "moving to val: ./datasets/beat_cache/beat_4english_15_141/train/sem/2_scott_0_64_64.txt\n",
      "moving to val: ./datasets/beat_cache/beat_4english_15_141/train/emo/2_scott_0_64_64.csv\n",
      "moving to val: ./datasets/beat_cache/beat_4english_15_141/train/bvh_rot_6d/2_scott_0_64_64.6d\n",
      "moving to val: ./datasets/beat_cache/beat_4english_15_141/train/bvh_rot/2_scott_0_64_64.bvh\n",
      "moving to val: ./datasets/beat_cache/beat_4english_15_141/train/bvh_rot_vis/2_scott_0_64_64.bvh\n",
      "moving to val: ./datasets/beat_cache/beat_4english_15_141/train/head_rot/2_scott_0_64_64.6d\n",
      "file_id: 0_72_72\n",
      "moving to val: ./datasets/beat_cache/beat_4english_15_141/train/facial52/2_scott_0_72_72.json\n",
      "moving to val: ./datasets/beat_cache/beat_4english_15_141/train/text/2_scott_0_72_72.TextGrid\n",
      "moving to val: ./datasets/beat_cache/beat_4english_15_141/train/wave16k/2_scott_0_72_72.npy\n",
      "moving to val: ./datasets/beat_cache/beat_4english_15_141/train/sem/2_scott_0_72_72.txt\n",
      "moving to val: ./datasets/beat_cache/beat_4english_15_141/train/emo/2_scott_0_72_72.csv\n",
      "moving to val: ./datasets/beat_cache/beat_4english_15_141/train/bvh_rot_6d/2_scott_0_72_72.6d\n",
      "moving to val: ./datasets/beat_cache/beat_4english_15_141/train/bvh_rot/2_scott_0_72_72.bvh\n",
      "moving to val: ./datasets/beat_cache/beat_4english_15_141/train/bvh_rot_vis/2_scott_0_72_72.bvh\n",
      "moving to val: ./datasets/beat_cache/beat_4english_15_141/train/head_rot/2_scott_0_72_72.6d\n",
      "file_id: 0_80_80\n",
      "moving to val: ./datasets/beat_cache/beat_4english_15_141/train/facial52/2_scott_0_80_80.json\n",
      "moving to val: ./datasets/beat_cache/beat_4english_15_141/train/text/2_scott_0_80_80.TextGrid\n",
      "moving to val: ./datasets/beat_cache/beat_4english_15_141/train/wave16k/2_scott_0_80_80.npy\n",
      "moving to val: ./datasets/beat_cache/beat_4english_15_141/train/sem/2_scott_0_80_80.txt\n",
      "moving to val: ./datasets/beat_cache/beat_4english_15_141/train/emo/2_scott_0_80_80.csv\n",
      "moving to val: ./datasets/beat_cache/beat_4english_15_141/train/bvh_rot_6d/2_scott_0_80_80.6d\n",
      "moving to val: ./datasets/beat_cache/beat_4english_15_141/train/bvh_rot/2_scott_0_80_80.bvh\n",
      "moving to val: ./datasets/beat_cache/beat_4english_15_141/train/bvh_rot_vis/2_scott_0_80_80.bvh\n",
      "moving to val: ./datasets/beat_cache/beat_4english_15_141/train/head_rot/2_scott_0_80_80.6d\n",
      "file_id: 0_86_86\n",
      "moving to val: ./datasets/beat_cache/beat_4english_15_141/train/facial52/2_scott_0_86_86.json\n",
      "moving to val: ./datasets/beat_cache/beat_4english_15_141/train/text/2_scott_0_86_86.TextGrid\n",
      "moving to val: ./datasets/beat_cache/beat_4english_15_141/train/wave16k/2_scott_0_86_86.npy\n",
      "moving to val: ./datasets/beat_cache/beat_4english_15_141/train/sem/2_scott_0_86_86.txt\n",
      "moving to val: ./datasets/beat_cache/beat_4english_15_141/train/emo/2_scott_0_86_86.csv\n",
      "moving to val: ./datasets/beat_cache/beat_4english_15_141/train/bvh_rot_6d/2_scott_0_86_86.6d\n",
      "moving to val: ./datasets/beat_cache/beat_4english_15_141/train/bvh_rot/2_scott_0_86_86.bvh\n",
      "moving to val: ./datasets/beat_cache/beat_4english_15_141/train/bvh_rot_vis/2_scott_0_86_86.bvh\n",
      "moving to val: ./datasets/beat_cache/beat_4english_15_141/train/head_rot/2_scott_0_86_86.6d\n",
      "file_id: 0_94_94\n",
      "moving to val: ./datasets/beat_cache/beat_4english_15_141/train/facial52/2_scott_0_94_94.json\n",
      "moving to val: ./datasets/beat_cache/beat_4english_15_141/train/text/2_scott_0_94_94.TextGrid\n",
      "moving to val: ./datasets/beat_cache/beat_4english_15_141/train/wave16k/2_scott_0_94_94.npy\n",
      "moving to val: ./datasets/beat_cache/beat_4english_15_141/train/sem/2_scott_0_94_94.txt\n",
      "moving to val: ./datasets/beat_cache/beat_4english_15_141/train/emo/2_scott_0_94_94.csv\n",
      "moving to val: ./datasets/beat_cache/beat_4english_15_141/train/bvh_rot_6d/2_scott_0_94_94.6d\n",
      "moving to val: ./datasets/beat_cache/beat_4english_15_141/train/bvh_rot/2_scott_0_94_94.bvh\n",
      "moving to val: ./datasets/beat_cache/beat_4english_15_141/train/bvh_rot_vis/2_scott_0_94_94.bvh\n",
      "moving to val: ./datasets/beat_cache/beat_4english_15_141/train/head_rot/2_scott_0_94_94.6d\n",
      "file_id: 0_102_102\n",
      "moving to val: ./datasets/beat_cache/beat_4english_15_141/train/facial52/2_scott_0_102_102.json\n",
      "moving to val: ./datasets/beat_cache/beat_4english_15_141/train/text/2_scott_0_102_102.TextGrid\n",
      "moving to val: ./datasets/beat_cache/beat_4english_15_141/train/wave16k/2_scott_0_102_102.npy\n",
      "moving to val: ./datasets/beat_cache/beat_4english_15_141/train/sem/2_scott_0_102_102.txt\n",
      "moving to val: ./datasets/beat_cache/beat_4english_15_141/train/emo/2_scott_0_102_102.csv\n",
      "moving to val: ./datasets/beat_cache/beat_4english_15_141/train/bvh_rot_6d/2_scott_0_102_102.6d\n",
      "moving to val: ./datasets/beat_cache/beat_4english_15_141/train/bvh_rot/2_scott_0_102_102.bvh\n",
      "moving to val: ./datasets/beat_cache/beat_4english_15_141/train/bvh_rot_vis/2_scott_0_102_102.bvh\n",
      "moving to val: ./datasets/beat_cache/beat_4english_15_141/train/head_rot/2_scott_0_102_102.6d\n",
      "file_id: 0_110_110\n",
      "moving to val: ./datasets/beat_cache/beat_4english_15_141/train/facial52/2_scott_0_110_110.json\n",
      "moving to val: ./datasets/beat_cache/beat_4english_15_141/train/text/2_scott_0_110_110.TextGrid\n",
      "moving to val: ./datasets/beat_cache/beat_4english_15_141/train/wave16k/2_scott_0_110_110.npy\n",
      "moving to val: ./datasets/beat_cache/beat_4english_15_141/train/sem/2_scott_0_110_110.txt\n",
      "moving to val: ./datasets/beat_cache/beat_4english_15_141/train/emo/2_scott_0_110_110.csv\n",
      "moving to val: ./datasets/beat_cache/beat_4english_15_141/train/bvh_rot_6d/2_scott_0_110_110.6d\n",
      "moving to val: ./datasets/beat_cache/beat_4english_15_141/train/bvh_rot/2_scott_0_110_110.bvh\n",
      "moving to val: ./datasets/beat_cache/beat_4english_15_141/train/bvh_rot_vis/2_scott_0_110_110.bvh\n",
      "moving to val: ./datasets/beat_cache/beat_4english_15_141/train/head_rot/2_scott_0_110_110.6d\n",
      "file_id: 0_118_118\n",
      "moving to val: ./datasets/beat_cache/beat_4english_15_141/train/facial52/2_scott_0_118_118.json\n",
      "moving to val: ./datasets/beat_cache/beat_4english_15_141/train/text/2_scott_0_118_118.TextGrid\n",
      "moving to val: ./datasets/beat_cache/beat_4english_15_141/train/wave16k/2_scott_0_118_118.npy\n",
      "moving to val: ./datasets/beat_cache/beat_4english_15_141/train/sem/2_scott_0_118_118.txt\n",
      "moving to val: ./datasets/beat_cache/beat_4english_15_141/train/emo/2_scott_0_118_118.csv\n",
      "moving to val: ./datasets/beat_cache/beat_4english_15_141/train/bvh_rot_6d/2_scott_0_118_118.6d\n",
      "moving to val: ./datasets/beat_cache/beat_4english_15_141/train/bvh_rot/2_scott_0_118_118.bvh\n",
      "moving to val: ./datasets/beat_cache/beat_4english_15_141/train/bvh_rot_vis/2_scott_0_118_118.bvh\n",
      "moving to val: ./datasets/beat_cache/beat_4english_15_141/train/head_rot/2_scott_0_118_118.6d\n",
      "file_id: 1_12_12\n",
      "moving to val: ./datasets/beat_cache/beat_4english_15_141/train/facial52/2_scott_1_12_12.json\n",
      "moving to val: ./datasets/beat_cache/beat_4english_15_141/train/text/2_scott_1_12_12.TextGrid\n",
      "moving to val: ./datasets/beat_cache/beat_4english_15_141/train/wave16k/2_scott_1_12_12.npy\n",
      "moving to val: ./datasets/beat_cache/beat_4english_15_141/train/sem/2_scott_1_12_12.txt\n",
      "moving to val: ./datasets/beat_cache/beat_4english_15_141/train/emo/2_scott_1_12_12.csv\n",
      "moving to val: ./datasets/beat_cache/beat_4english_15_141/train/bvh_rot_6d/2_scott_1_12_12.6d\n",
      "moving to val: ./datasets/beat_cache/beat_4english_15_141/train/bvh_rot/2_scott_1_12_12.bvh\n",
      "moving to val: ./datasets/beat_cache/beat_4english_15_141/train/bvh_rot_vis/2_scott_1_12_12.bvh\n",
      "moving to val: ./datasets/beat_cache/beat_4english_15_141/train/head_rot/2_scott_1_12_12.6d\n"
     ]
    },
    {
     "name": "stderr",
     "output_type": "stream",
     "text": [
      " 25%|██▌       | 1/4 [00:00<00:02,  1.09it/s]"
     ]
    },
    {
     "name": "stdout",
     "output_type": "stream",
     "text": [
      "file_id: 0_57_57\n",
      "moving to val: ./datasets/beat_cache/beat_4english_15_141/train/facial52/4_lawrence_0_57_57.json\n",
      "moving to val: ./datasets/beat_cache/beat_4english_15_141/train/text/4_lawrence_0_57_57.TextGrid\n",
      "moving to val: ./datasets/beat_cache/beat_4english_15_141/train/wave16k/4_lawrence_0_57_57.npy\n",
      "moving to val: ./datasets/beat_cache/beat_4english_15_141/train/sem/4_lawrence_0_57_57.txt\n",
      "moving to val: ./datasets/beat_cache/beat_4english_15_141/train/emo/4_lawrence_0_57_57.csv\n",
      "moving to val: ./datasets/beat_cache/beat_4english_15_141/train/bvh_rot_6d/4_lawrence_0_57_57.6d\n",
      "moving to val: ./datasets/beat_cache/beat_4english_15_141/train/bvh_rot/4_lawrence_0_57_57.bvh\n",
      "moving to val: ./datasets/beat_cache/beat_4english_15_141/train/bvh_rot_vis/4_lawrence_0_57_57.bvh\n",
      "moving to val: ./datasets/beat_cache/beat_4english_15_141/train/head_rot/4_lawrence_0_57_57.6d\n",
      "file_id: 0_58_58\n",
      "moving to val: ./datasets/beat_cache/beat_4english_15_141/train/facial52/4_lawrence_0_58_58.json\n",
      "moving to val: ./datasets/beat_cache/beat_4english_15_141/train/text/4_lawrence_0_58_58.TextGrid\n",
      "moving to val: ./datasets/beat_cache/beat_4english_15_141/train/wave16k/4_lawrence_0_58_58.npy\n",
      "moving to val: ./datasets/beat_cache/beat_4english_15_141/train/sem/4_lawrence_0_58_58.txt\n",
      "moving to val: ./datasets/beat_cache/beat_4english_15_141/train/emo/4_lawrence_0_58_58.csv\n",
      "moving to val: ./datasets/beat_cache/beat_4english_15_141/train/bvh_rot_6d/4_lawrence_0_58_58.6d\n",
      "moving to val: ./datasets/beat_cache/beat_4english_15_141/train/bvh_rot/4_lawrence_0_58_58.bvh\n",
      "moving to val: ./datasets/beat_cache/beat_4english_15_141/train/bvh_rot_vis/4_lawrence_0_58_58.bvh\n",
      "moving to val: ./datasets/beat_cache/beat_4english_15_141/train/head_rot/4_lawrence_0_58_58.6d\n",
      "file_id: 0_59_59\n",
      "moving to val: ./datasets/beat_cache/beat_4english_15_141/train/facial52/4_lawrence_0_59_59.json\n",
      "moving to val: ./datasets/beat_cache/beat_4english_15_141/train/text/4_lawrence_0_59_59.TextGrid\n",
      "moving to val: ./datasets/beat_cache/beat_4english_15_141/train/wave16k/4_lawrence_0_59_59.npy\n",
      "moving to val: ./datasets/beat_cache/beat_4english_15_141/train/sem/4_lawrence_0_59_59.txt\n",
      "moving to val: ./datasets/beat_cache/beat_4english_15_141/train/emo/4_lawrence_0_59_59.csv\n",
      "moving to val: ./datasets/beat_cache/beat_4english_15_141/train/bvh_rot_6d/4_lawrence_0_59_59.6d\n",
      "moving to val: ./datasets/beat_cache/beat_4english_15_141/train/bvh_rot/4_lawrence_0_59_59.bvh\n",
      "moving to val: ./datasets/beat_cache/beat_4english_15_141/train/bvh_rot_vis/4_lawrence_0_59_59.bvh\n",
      "moving to val: ./datasets/beat_cache/beat_4english_15_141/train/head_rot/4_lawrence_0_59_59.6d\n",
      "file_id: 0_60_60\n",
      "moving to val: ./datasets/beat_cache/beat_4english_15_141/train/facial52/4_lawrence_0_60_60.json\n",
      "moving to val: ./datasets/beat_cache/beat_4english_15_141/train/text/4_lawrence_0_60_60.TextGrid\n",
      "moving to val: ./datasets/beat_cache/beat_4english_15_141/train/wave16k/4_lawrence_0_60_60.npy\n",
      "moving to val: ./datasets/beat_cache/beat_4english_15_141/train/sem/4_lawrence_0_60_60.txt\n",
      "moving to val: ./datasets/beat_cache/beat_4english_15_141/train/emo/4_lawrence_0_60_60.csv\n",
      "moving to val: ./datasets/beat_cache/beat_4english_15_141/train/bvh_rot_6d/4_lawrence_0_60_60.6d\n",
      "moving to val: ./datasets/beat_cache/beat_4english_15_141/train/bvh_rot/4_lawrence_0_60_60.bvh\n",
      "moving to val: ./datasets/beat_cache/beat_4english_15_141/train/bvh_rot_vis/4_lawrence_0_60_60.bvh\n",
      "moving to val: ./datasets/beat_cache/beat_4english_15_141/train/head_rot/4_lawrence_0_60_60.6d\n",
      "file_id: 0_61_61\n",
      "moving to val: ./datasets/beat_cache/beat_4english_15_141/train/facial52/4_lawrence_0_61_61.json\n",
      "moving to val: ./datasets/beat_cache/beat_4english_15_141/train/text/4_lawrence_0_61_61.TextGrid\n",
      "moving to val: ./datasets/beat_cache/beat_4english_15_141/train/wave16k/4_lawrence_0_61_61.npy\n",
      "moving to val: ./datasets/beat_cache/beat_4english_15_141/train/sem/4_lawrence_0_61_61.txt\n",
      "moving to val: ./datasets/beat_cache/beat_4english_15_141/train/emo/4_lawrence_0_61_61.csv\n",
      "moving to val: ./datasets/beat_cache/beat_4english_15_141/train/bvh_rot_6d/4_lawrence_0_61_61.6d\n",
      "moving to val: ./datasets/beat_cache/beat_4english_15_141/train/bvh_rot/4_lawrence_0_61_61.bvh\n",
      "moving to val: ./datasets/beat_cache/beat_4english_15_141/train/bvh_rot_vis/4_lawrence_0_61_61.bvh\n",
      "moving to val: ./datasets/beat_cache/beat_4english_15_141/train/head_rot/4_lawrence_0_61_61.6d\n",
      "file_id: 0_62_62\n",
      "moving to val: ./datasets/beat_cache/beat_4english_15_141/train/facial52/4_lawrence_0_62_62.json\n",
      "moving to val: ./datasets/beat_cache/beat_4english_15_141/train/text/4_lawrence_0_62_62.TextGrid\n",
      "moving to val: ./datasets/beat_cache/beat_4english_15_141/train/wave16k/4_lawrence_0_62_62.npy\n",
      "moving to val: ./datasets/beat_cache/beat_4english_15_141/train/sem/4_lawrence_0_62_62.txt\n",
      "moving to val: ./datasets/beat_cache/beat_4english_15_141/train/emo/4_lawrence_0_62_62.csv\n",
      "moving to val: ./datasets/beat_cache/beat_4english_15_141/train/bvh_rot_6d/4_lawrence_0_62_62.6d\n",
      "moving to val: ./datasets/beat_cache/beat_4english_15_141/train/bvh_rot/4_lawrence_0_62_62.bvh\n",
      "moving to val: ./datasets/beat_cache/beat_4english_15_141/train/bvh_rot_vis/4_lawrence_0_62_62.bvh\n",
      "moving to val: ./datasets/beat_cache/beat_4english_15_141/train/head_rot/4_lawrence_0_62_62.6d\n",
      "file_id: 0_63_63\n",
      "moving to val: ./datasets/beat_cache/beat_4english_15_141/train/facial52/4_lawrence_0_63_63.json\n",
      "moving to val: ./datasets/beat_cache/beat_4english_15_141/train/text/4_lawrence_0_63_63.TextGrid\n",
      "moving to val: ./datasets/beat_cache/beat_4english_15_141/train/wave16k/4_lawrence_0_63_63.npy\n",
      "moving to val: ./datasets/beat_cache/beat_4english_15_141/train/sem/4_lawrence_0_63_63.txt\n",
      "moving to val: ./datasets/beat_cache/beat_4english_15_141/train/emo/4_lawrence_0_63_63.csv\n",
      "moving to val: ./datasets/beat_cache/beat_4english_15_141/train/bvh_rot_6d/4_lawrence_0_63_63.6d\n",
      "moving to val: ./datasets/beat_cache/beat_4english_15_141/train/bvh_rot/4_lawrence_0_63_63.bvh\n",
      "moving to val: ./datasets/beat_cache/beat_4english_15_141/train/bvh_rot_vis/4_lawrence_0_63_63.bvh\n",
      "moving to val: ./datasets/beat_cache/beat_4english_15_141/train/head_rot/4_lawrence_0_63_63.6d\n",
      "file_id: 0_64_64\n",
      "moving to val: ./datasets/beat_cache/beat_4english_15_141/train/facial52/4_lawrence_0_64_64.json\n",
      "moving to val: ./datasets/beat_cache/beat_4english_15_141/train/text/4_lawrence_0_64_64.TextGrid\n",
      "moving to val: ./datasets/beat_cache/beat_4english_15_141/train/wave16k/4_lawrence_0_64_64.npy\n",
      "moving to val: ./datasets/beat_cache/beat_4english_15_141/train/sem/4_lawrence_0_64_64.txt\n",
      "moving to val: ./datasets/beat_cache/beat_4english_15_141/train/emo/4_lawrence_0_64_64.csv\n",
      "moving to val: ./datasets/beat_cache/beat_4english_15_141/train/bvh_rot_6d/4_lawrence_0_64_64.6d\n",
      "moving to val: ./datasets/beat_cache/beat_4english_15_141/train/bvh_rot/4_lawrence_0_64_64.bvh\n",
      "moving to val: ./datasets/beat_cache/beat_4english_15_141/train/bvh_rot_vis/4_lawrence_0_64_64.bvh\n",
      "moving to val: ./datasets/beat_cache/beat_4english_15_141/train/head_rot/4_lawrence_0_64_64.6d\n",
      "file_id: 0_72_72\n",
      "moving to val: ./datasets/beat_cache/beat_4english_15_141/train/facial52/4_lawrence_0_72_72.json\n",
      "moving to val: ./datasets/beat_cache/beat_4english_15_141/train/text/4_lawrence_0_72_72.TextGrid\n",
      "moving to val: ./datasets/beat_cache/beat_4english_15_141/train/wave16k/4_lawrence_0_72_72.npy\n",
      "moving to val: ./datasets/beat_cache/beat_4english_15_141/train/sem/4_lawrence_0_72_72.txt\n",
      "moving to val: ./datasets/beat_cache/beat_4english_15_141/train/emo/4_lawrence_0_72_72.csv\n",
      "moving to val: ./datasets/beat_cache/beat_4english_15_141/train/bvh_rot_6d/4_lawrence_0_72_72.6d\n",
      "moving to val: ./datasets/beat_cache/beat_4english_15_141/train/bvh_rot/4_lawrence_0_72_72.bvh\n",
      "moving to val: ./datasets/beat_cache/beat_4english_15_141/train/bvh_rot_vis/4_lawrence_0_72_72.bvh\n",
      "moving to val: ./datasets/beat_cache/beat_4english_15_141/train/head_rot/4_lawrence_0_72_72.6d\n",
      "file_id: 0_80_80\n",
      "moving to val: ./datasets/beat_cache/beat_4english_15_141/train/facial52/4_lawrence_0_80_80.json\n",
      "moving to val: ./datasets/beat_cache/beat_4english_15_141/train/text/4_lawrence_0_80_80.TextGrid\n",
      "moving to val: ./datasets/beat_cache/beat_4english_15_141/train/wave16k/4_lawrence_0_80_80.npy\n",
      "moving to val: ./datasets/beat_cache/beat_4english_15_141/train/sem/4_lawrence_0_80_80.txt\n",
      "moving to val: ./datasets/beat_cache/beat_4english_15_141/train/emo/4_lawrence_0_80_80.csv\n",
      "moving to val: ./datasets/beat_cache/beat_4english_15_141/train/bvh_rot_6d/4_lawrence_0_80_80.6d\n",
      "moving to val: ./datasets/beat_cache/beat_4english_15_141/train/bvh_rot/4_lawrence_0_80_80.bvh\n",
      "moving to val: ./datasets/beat_cache/beat_4english_15_141/train/bvh_rot_vis/4_lawrence_0_80_80.bvh\n",
      "moving to val: ./datasets/beat_cache/beat_4english_15_141/train/head_rot/4_lawrence_0_80_80.6d\n",
      "file_id: 0_86_86\n",
      "moving to val: ./datasets/beat_cache/beat_4english_15_141/train/facial52/4_lawrence_0_86_86.json\n",
      "moving to val: ./datasets/beat_cache/beat_4english_15_141/train/text/4_lawrence_0_86_86.TextGrid\n",
      "moving to val: ./datasets/beat_cache/beat_4english_15_141/train/wave16k/4_lawrence_0_86_86.npy\n",
      "moving to val: ./datasets/beat_cache/beat_4english_15_141/train/sem/4_lawrence_0_86_86.txt\n",
      "moving to val: ./datasets/beat_cache/beat_4english_15_141/train/emo/4_lawrence_0_86_86.csv\n",
      "moving to val: ./datasets/beat_cache/beat_4english_15_141/train/bvh_rot_6d/4_lawrence_0_86_86.6d\n",
      "moving to val: ./datasets/beat_cache/beat_4english_15_141/train/bvh_rot/4_lawrence_0_86_86.bvh\n",
      "moving to val: ./datasets/beat_cache/beat_4english_15_141/train/bvh_rot_vis/4_lawrence_0_86_86.bvh\n",
      "moving to val: ./datasets/beat_cache/beat_4english_15_141/train/head_rot/4_lawrence_0_86_86.6d\n",
      "file_id: 0_94_94\n",
      "moving to val: ./datasets/beat_cache/beat_4english_15_141/train/facial52/4_lawrence_0_94_94.json\n",
      "moving to val: ./datasets/beat_cache/beat_4english_15_141/train/text/4_lawrence_0_94_94.TextGrid\n",
      "moving to val: ./datasets/beat_cache/beat_4english_15_141/train/wave16k/4_lawrence_0_94_94.npy\n",
      "moving to val: ./datasets/beat_cache/beat_4english_15_141/train/sem/4_lawrence_0_94_94.txt\n",
      "moving to val: ./datasets/beat_cache/beat_4english_15_141/train/emo/4_lawrence_0_94_94.csv\n",
      "moving to val: ./datasets/beat_cache/beat_4english_15_141/train/bvh_rot_6d/4_lawrence_0_94_94.6d\n",
      "moving to val: ./datasets/beat_cache/beat_4english_15_141/train/bvh_rot/4_lawrence_0_94_94.bvh\n",
      "moving to val: ./datasets/beat_cache/beat_4english_15_141/train/bvh_rot_vis/4_lawrence_0_94_94.bvh\n",
      "moving to val: ./datasets/beat_cache/beat_4english_15_141/train/head_rot/4_lawrence_0_94_94.6d\n",
      "file_id: 0_102_102\n",
      "moving to val: ./datasets/beat_cache/beat_4english_15_141/train/facial52/4_lawrence_0_102_102.json\n",
      "moving to val: ./datasets/beat_cache/beat_4english_15_141/train/text/4_lawrence_0_102_102.TextGrid\n",
      "moving to val: ./datasets/beat_cache/beat_4english_15_141/train/wave16k/4_lawrence_0_102_102.npy\n",
      "moving to val: ./datasets/beat_cache/beat_4english_15_141/train/sem/4_lawrence_0_102_102.txt\n",
      "moving to val: ./datasets/beat_cache/beat_4english_15_141/train/emo/4_lawrence_0_102_102.csv\n",
      "moving to val: ./datasets/beat_cache/beat_4english_15_141/train/bvh_rot_6d/4_lawrence_0_102_102.6d\n",
      "moving to val: ./datasets/beat_cache/beat_4english_15_141/train/bvh_rot/4_lawrence_0_102_102.bvh\n",
      "moving to val: ./datasets/beat_cache/beat_4english_15_141/train/bvh_rot_vis/4_lawrence_0_102_102.bvh\n",
      "moving to val: ./datasets/beat_cache/beat_4english_15_141/train/head_rot/4_lawrence_0_102_102.6d\n",
      "file_id: 0_110_110\n",
      "moving to val: ./datasets/beat_cache/beat_4english_15_141/train/facial52/4_lawrence_0_110_110.json\n",
      "moving to val: ./datasets/beat_cache/beat_4english_15_141/train/text/4_lawrence_0_110_110.TextGrid\n",
      "moving to val: ./datasets/beat_cache/beat_4english_15_141/train/wave16k/4_lawrence_0_110_110.npy\n",
      "moving to val: ./datasets/beat_cache/beat_4english_15_141/train/sem/4_lawrence_0_110_110.txt\n",
      "moving to val: ./datasets/beat_cache/beat_4english_15_141/train/emo/4_lawrence_0_110_110.csv\n",
      "moving to val: ./datasets/beat_cache/beat_4english_15_141/train/bvh_rot_6d/4_lawrence_0_110_110.6d\n",
      "moving to val: ./datasets/beat_cache/beat_4english_15_141/train/bvh_rot/4_lawrence_0_110_110.bvh\n",
      "moving to val: ./datasets/beat_cache/beat_4english_15_141/train/bvh_rot_vis/4_lawrence_0_110_110.bvh\n",
      "moving to val: ./datasets/beat_cache/beat_4english_15_141/train/head_rot/4_lawrence_0_110_110.6d\n",
      "file_id: 0_118_118\n",
      "moving to val: ./datasets/beat_cache/beat_4english_15_141/train/facial52/4_lawrence_0_118_118.json\n",
      "moving to val: ./datasets/beat_cache/beat_4english_15_141/train/text/4_lawrence_0_118_118.TextGrid\n",
      "moving to val: ./datasets/beat_cache/beat_4english_15_141/train/wave16k/4_lawrence_0_118_118.npy\n",
      "moving to val: ./datasets/beat_cache/beat_4english_15_141/train/sem/4_lawrence_0_118_118.txt\n",
      "moving to val: ./datasets/beat_cache/beat_4english_15_141/train/emo/4_lawrence_0_118_118.csv\n",
      "moving to val: ./datasets/beat_cache/beat_4english_15_141/train/bvh_rot_6d/4_lawrence_0_118_118.6d\n",
      "moving to val: ./datasets/beat_cache/beat_4english_15_141/train/bvh_rot/4_lawrence_0_118_118.bvh\n",
      "moving to val: ./datasets/beat_cache/beat_4english_15_141/train/bvh_rot_vis/4_lawrence_0_118_118.bvh\n",
      "moving to val: ./datasets/beat_cache/beat_4english_15_141/train/head_rot/4_lawrence_0_118_118.6d\n",
      "file_id: 1_12_12\n",
      "moving to val: ./datasets/beat_cache/beat_4english_15_141/train/facial52/4_lawrence_1_12_12.json\n",
      "moving to val: ./datasets/beat_cache/beat_4english_15_141/train/text/4_lawrence_1_12_12.TextGrid\n",
      "moving to val: ./datasets/beat_cache/beat_4english_15_141/train/wave16k/4_lawrence_1_12_12.npy\n",
      "moving to val: ./datasets/beat_cache/beat_4english_15_141/train/sem/4_lawrence_1_12_12.txt\n",
      "moving to val: ./datasets/beat_cache/beat_4english_15_141/train/emo/4_lawrence_1_12_12.csv\n",
      "moving to val: ./datasets/beat_cache/beat_4english_15_141/train/bvh_rot_6d/4_lawrence_1_12_12.6d\n",
      "moving to val: ./datasets/beat_cache/beat_4english_15_141/train/bvh_rot/4_lawrence_1_12_12.bvh\n",
      "moving to val: ./datasets/beat_cache/beat_4english_15_141/train/bvh_rot_vis/4_lawrence_1_12_12.bvh\n",
      "moving to val: ./datasets/beat_cache/beat_4english_15_141/train/head_rot/4_lawrence_1_12_12.6d\n"
     ]
    },
    {
     "name": "stderr",
     "output_type": "stream",
     "text": [
      " 50%|█████     | 2/4 [00:01<00:01,  1.02it/s]"
     ]
    },
    {
     "name": "stdout",
     "output_type": "stream",
     "text": [
      "file_id: 0_57_57\n",
      "moving to val: ./datasets/beat_cache/beat_4english_15_141/train/facial52/6_carla_0_57_57.json\n",
      "moving to val: ./datasets/beat_cache/beat_4english_15_141/train/text/6_carla_0_57_57.TextGrid\n",
      "moving to val: ./datasets/beat_cache/beat_4english_15_141/train/wave16k/6_carla_0_57_57.npy\n",
      "moving to val: ./datasets/beat_cache/beat_4english_15_141/train/sem/6_carla_0_57_57.txt\n",
      "moving to val: ./datasets/beat_cache/beat_4english_15_141/train/emo/6_carla_0_57_57.csv\n",
      "moving to val: ./datasets/beat_cache/beat_4english_15_141/train/bvh_rot_6d/6_carla_0_57_57.6d\n",
      "moving to val: ./datasets/beat_cache/beat_4english_15_141/train/bvh_rot/6_carla_0_57_57.bvh\n",
      "moving to val: ./datasets/beat_cache/beat_4english_15_141/train/bvh_rot_vis/6_carla_0_57_57.bvh\n",
      "moving to val: ./datasets/beat_cache/beat_4english_15_141/train/head_rot/6_carla_0_57_57.6d\n",
      "file_id: 0_58_58\n",
      "moving to val: ./datasets/beat_cache/beat_4english_15_141/train/facial52/6_carla_0_58_58.json\n",
      "moving to val: ./datasets/beat_cache/beat_4english_15_141/train/text/6_carla_0_58_58.TextGrid\n",
      "moving to val: ./datasets/beat_cache/beat_4english_15_141/train/wave16k/6_carla_0_58_58.npy\n",
      "moving to val: ./datasets/beat_cache/beat_4english_15_141/train/sem/6_carla_0_58_58.txt\n",
      "moving to val: ./datasets/beat_cache/beat_4english_15_141/train/emo/6_carla_0_58_58.csv\n",
      "moving to val: ./datasets/beat_cache/beat_4english_15_141/train/bvh_rot_6d/6_carla_0_58_58.6d\n",
      "moving to val: ./datasets/beat_cache/beat_4english_15_141/train/bvh_rot/6_carla_0_58_58.bvh\n",
      "moving to val: ./datasets/beat_cache/beat_4english_15_141/train/bvh_rot_vis/6_carla_0_58_58.bvh\n",
      "moving to val: ./datasets/beat_cache/beat_4english_15_141/train/head_rot/6_carla_0_58_58.6d\n",
      "file_id: 0_59_59\n",
      "moving to val: ./datasets/beat_cache/beat_4english_15_141/train/facial52/6_carla_0_59_59.json\n",
      "moving to val: ./datasets/beat_cache/beat_4english_15_141/train/text/6_carla_0_59_59.TextGrid\n",
      "moving to val: ./datasets/beat_cache/beat_4english_15_141/train/wave16k/6_carla_0_59_59.npy\n",
      "moving to val: ./datasets/beat_cache/beat_4english_15_141/train/sem/6_carla_0_59_59.txt\n",
      "moving to val: ./datasets/beat_cache/beat_4english_15_141/train/emo/6_carla_0_59_59.csv\n",
      "moving to val: ./datasets/beat_cache/beat_4english_15_141/train/bvh_rot_6d/6_carla_0_59_59.6d\n",
      "moving to val: ./datasets/beat_cache/beat_4english_15_141/train/bvh_rot/6_carla_0_59_59.bvh\n",
      "moving to val: ./datasets/beat_cache/beat_4english_15_141/train/bvh_rot_vis/6_carla_0_59_59.bvh\n",
      "moving to val: ./datasets/beat_cache/beat_4english_15_141/train/head_rot/6_carla_0_59_59.6d\n",
      "file_id: 0_60_60\n",
      "moving to val: ./datasets/beat_cache/beat_4english_15_141/train/facial52/6_carla_0_60_60.json\n",
      "moving to val: ./datasets/beat_cache/beat_4english_15_141/train/text/6_carla_0_60_60.TextGrid\n",
      "moving to val: ./datasets/beat_cache/beat_4english_15_141/train/wave16k/6_carla_0_60_60.npy\n",
      "moving to val: ./datasets/beat_cache/beat_4english_15_141/train/sem/6_carla_0_60_60.txt\n",
      "moving to val: ./datasets/beat_cache/beat_4english_15_141/train/emo/6_carla_0_60_60.csv\n",
      "moving to val: ./datasets/beat_cache/beat_4english_15_141/train/bvh_rot_6d/6_carla_0_60_60.6d\n",
      "moving to val: ./datasets/beat_cache/beat_4english_15_141/train/bvh_rot/6_carla_0_60_60.bvh\n",
      "moving to val: ./datasets/beat_cache/beat_4english_15_141/train/bvh_rot_vis/6_carla_0_60_60.bvh\n",
      "moving to val: ./datasets/beat_cache/beat_4english_15_141/train/head_rot/6_carla_0_60_60.6d\n",
      "file_id: 0_61_61\n",
      "moving to val: ./datasets/beat_cache/beat_4english_15_141/train/facial52/6_carla_0_61_61.json\n",
      "moving to val: ./datasets/beat_cache/beat_4english_15_141/train/text/6_carla_0_61_61.TextGrid\n",
      "moving to val: ./datasets/beat_cache/beat_4english_15_141/train/wave16k/6_carla_0_61_61.npy\n",
      "moving to val: ./datasets/beat_cache/beat_4english_15_141/train/sem/6_carla_0_61_61.txt\n",
      "moving to val: ./datasets/beat_cache/beat_4english_15_141/train/emo/6_carla_0_61_61.csv\n",
      "moving to val: ./datasets/beat_cache/beat_4english_15_141/train/bvh_rot_6d/6_carla_0_61_61.6d\n",
      "moving to val: ./datasets/beat_cache/beat_4english_15_141/train/bvh_rot/6_carla_0_61_61.bvh\n",
      "moving to val: ./datasets/beat_cache/beat_4english_15_141/train/bvh_rot_vis/6_carla_0_61_61.bvh\n",
      "moving to val: ./datasets/beat_cache/beat_4english_15_141/train/head_rot/6_carla_0_61_61.6d\n",
      "file_id: 0_62_62\n",
      "moving to val: ./datasets/beat_cache/beat_4english_15_141/train/facial52/6_carla_0_62_62.json\n",
      "moving to val: ./datasets/beat_cache/beat_4english_15_141/train/text/6_carla_0_62_62.TextGrid\n",
      "moving to val: ./datasets/beat_cache/beat_4english_15_141/train/wave16k/6_carla_0_62_62.npy\n",
      "moving to val: ./datasets/beat_cache/beat_4english_15_141/train/sem/6_carla_0_62_62.txt\n",
      "moving to val: ./datasets/beat_cache/beat_4english_15_141/train/emo/6_carla_0_62_62.csv\n",
      "moving to val: ./datasets/beat_cache/beat_4english_15_141/train/bvh_rot_6d/6_carla_0_62_62.6d\n",
      "moving to val: ./datasets/beat_cache/beat_4english_15_141/train/bvh_rot/6_carla_0_62_62.bvh\n",
      "moving to val: ./datasets/beat_cache/beat_4english_15_141/train/bvh_rot_vis/6_carla_0_62_62.bvh\n",
      "moving to val: ./datasets/beat_cache/beat_4english_15_141/train/head_rot/6_carla_0_62_62.6d\n",
      "file_id: 0_63_63\n",
      "moving to val: ./datasets/beat_cache/beat_4english_15_141/train/facial52/6_carla_0_63_63.json\n",
      "moving to val: ./datasets/beat_cache/beat_4english_15_141/train/text/6_carla_0_63_63.TextGrid\n",
      "moving to val: ./datasets/beat_cache/beat_4english_15_141/train/wave16k/6_carla_0_63_63.npy\n",
      "moving to val: ./datasets/beat_cache/beat_4english_15_141/train/sem/6_carla_0_63_63.txt\n",
      "moving to val: ./datasets/beat_cache/beat_4english_15_141/train/emo/6_carla_0_63_63.csv\n",
      "moving to val: ./datasets/beat_cache/beat_4english_15_141/train/bvh_rot_6d/6_carla_0_63_63.6d\n",
      "moving to val: ./datasets/beat_cache/beat_4english_15_141/train/bvh_rot/6_carla_0_63_63.bvh\n",
      "moving to val: ./datasets/beat_cache/beat_4english_15_141/train/bvh_rot_vis/6_carla_0_63_63.bvh\n",
      "moving to val: ./datasets/beat_cache/beat_4english_15_141/train/head_rot/6_carla_0_63_63.6d\n",
      "file_id: 0_64_64\n",
      "moving to val: ./datasets/beat_cache/beat_4english_15_141/train/facial52/6_carla_0_64_64.json\n",
      "moving to val: ./datasets/beat_cache/beat_4english_15_141/train/text/6_carla_0_64_64.TextGrid\n",
      "moving to val: ./datasets/beat_cache/beat_4english_15_141/train/wave16k/6_carla_0_64_64.npy\n",
      "moving to val: ./datasets/beat_cache/beat_4english_15_141/train/sem/6_carla_0_64_64.txt\n",
      "moving to val: ./datasets/beat_cache/beat_4english_15_141/train/emo/6_carla_0_64_64.csv\n",
      "moving to val: ./datasets/beat_cache/beat_4english_15_141/train/bvh_rot_6d/6_carla_0_64_64.6d\n",
      "moving to val: ./datasets/beat_cache/beat_4english_15_141/train/bvh_rot/6_carla_0_64_64.bvh\n",
      "moving to val: ./datasets/beat_cache/beat_4english_15_141/train/bvh_rot_vis/6_carla_0_64_64.bvh\n",
      "moving to val: ./datasets/beat_cache/beat_4english_15_141/train/head_rot/6_carla_0_64_64.6d\n",
      "file_id: 0_72_72\n",
      "moving to val: ./datasets/beat_cache/beat_4english_15_141/train/facial52/6_carla_0_72_72.json\n",
      "moving to val: ./datasets/beat_cache/beat_4english_15_141/train/text/6_carla_0_72_72.TextGrid\n",
      "moving to val: ./datasets/beat_cache/beat_4english_15_141/train/wave16k/6_carla_0_72_72.npy\n",
      "moving to val: ./datasets/beat_cache/beat_4english_15_141/train/sem/6_carla_0_72_72.txt\n",
      "moving to val: ./datasets/beat_cache/beat_4english_15_141/train/emo/6_carla_0_72_72.csv\n",
      "moving to val: ./datasets/beat_cache/beat_4english_15_141/train/bvh_rot_6d/6_carla_0_72_72.6d\n",
      "moving to val: ./datasets/beat_cache/beat_4english_15_141/train/bvh_rot/6_carla_0_72_72.bvh\n",
      "moving to val: ./datasets/beat_cache/beat_4english_15_141/train/bvh_rot_vis/6_carla_0_72_72.bvh\n",
      "moving to val: ./datasets/beat_cache/beat_4english_15_141/train/head_rot/6_carla_0_72_72.6d\n",
      "file_id: 0_80_80\n",
      "moving to val: ./datasets/beat_cache/beat_4english_15_141/train/facial52/6_carla_0_80_80.json\n",
      "moving to val: ./datasets/beat_cache/beat_4english_15_141/train/text/6_carla_0_80_80.TextGrid\n",
      "moving to val: ./datasets/beat_cache/beat_4english_15_141/train/wave16k/6_carla_0_80_80.npy\n",
      "moving to val: ./datasets/beat_cache/beat_4english_15_141/train/sem/6_carla_0_80_80.txt\n",
      "moving to val: ./datasets/beat_cache/beat_4english_15_141/train/emo/6_carla_0_80_80.csv\n",
      "moving to val: ./datasets/beat_cache/beat_4english_15_141/train/bvh_rot_6d/6_carla_0_80_80.6d\n",
      "moving to val: ./datasets/beat_cache/beat_4english_15_141/train/bvh_rot/6_carla_0_80_80.bvh\n",
      "moving to val: ./datasets/beat_cache/beat_4english_15_141/train/bvh_rot_vis/6_carla_0_80_80.bvh\n",
      "moving to val: ./datasets/beat_cache/beat_4english_15_141/train/head_rot/6_carla_0_80_80.6d\n",
      "file_id: 0_86_86\n",
      "moving to val: ./datasets/beat_cache/beat_4english_15_141/train/facial52/6_carla_0_86_86.json\n",
      "moving to val: ./datasets/beat_cache/beat_4english_15_141/train/text/6_carla_0_86_86.TextGrid\n",
      "moving to val: ./datasets/beat_cache/beat_4english_15_141/train/wave16k/6_carla_0_86_86.npy\n",
      "moving to val: ./datasets/beat_cache/beat_4english_15_141/train/sem/6_carla_0_86_86.txt\n",
      "moving to val: ./datasets/beat_cache/beat_4english_15_141/train/emo/6_carla_0_86_86.csv\n",
      "moving to val: ./datasets/beat_cache/beat_4english_15_141/train/bvh_rot_6d/6_carla_0_86_86.6d\n",
      "moving to val: ./datasets/beat_cache/beat_4english_15_141/train/bvh_rot/6_carla_0_86_86.bvh\n",
      "moving to val: ./datasets/beat_cache/beat_4english_15_141/train/bvh_rot_vis/6_carla_0_86_86.bvh\n",
      "moving to val: ./datasets/beat_cache/beat_4english_15_141/train/head_rot/6_carla_0_86_86.6d\n",
      "file_id: 0_94_94\n",
      "moving to val: ./datasets/beat_cache/beat_4english_15_141/train/facial52/6_carla_0_94_94.json\n",
      "moving to val: ./datasets/beat_cache/beat_4english_15_141/train/text/6_carla_0_94_94.TextGrid\n",
      "moving to val: ./datasets/beat_cache/beat_4english_15_141/train/wave16k/6_carla_0_94_94.npy\n",
      "moving to val: ./datasets/beat_cache/beat_4english_15_141/train/sem/6_carla_0_94_94.txt\n",
      "moving to val: ./datasets/beat_cache/beat_4english_15_141/train/emo/6_carla_0_94_94.csv\n",
      "moving to val: ./datasets/beat_cache/beat_4english_15_141/train/bvh_rot_6d/6_carla_0_94_94.6d\n",
      "moving to val: ./datasets/beat_cache/beat_4english_15_141/train/bvh_rot/6_carla_0_94_94.bvh\n",
      "moving to val: ./datasets/beat_cache/beat_4english_15_141/train/bvh_rot_vis/6_carla_0_94_94.bvh\n",
      "moving to val: ./datasets/beat_cache/beat_4english_15_141/train/head_rot/6_carla_0_94_94.6d\n",
      "file_id: 0_102_102\n",
      "moving to val: ./datasets/beat_cache/beat_4english_15_141/train/facial52/6_carla_0_102_102.json\n",
      "moving to val: ./datasets/beat_cache/beat_4english_15_141/train/text/6_carla_0_102_102.TextGrid\n",
      "moving to val: ./datasets/beat_cache/beat_4english_15_141/train/wave16k/6_carla_0_102_102.npy\n",
      "moving to val: ./datasets/beat_cache/beat_4english_15_141/train/sem/6_carla_0_102_102.txt\n",
      "moving to val: ./datasets/beat_cache/beat_4english_15_141/train/emo/6_carla_0_102_102.csv\n",
      "moving to val: ./datasets/beat_cache/beat_4english_15_141/train/bvh_rot_6d/6_carla_0_102_102.6d\n",
      "moving to val: ./datasets/beat_cache/beat_4english_15_141/train/bvh_rot/6_carla_0_102_102.bvh\n",
      "moving to val: ./datasets/beat_cache/beat_4english_15_141/train/bvh_rot_vis/6_carla_0_102_102.bvh\n",
      "moving to val: ./datasets/beat_cache/beat_4english_15_141/train/head_rot/6_carla_0_102_102.6d\n",
      "file_id: 0_110_110\n",
      "moving to val: ./datasets/beat_cache/beat_4english_15_141/train/facial52/6_carla_0_110_110.json\n",
      "moving to val: ./datasets/beat_cache/beat_4english_15_141/train/text/6_carla_0_110_110.TextGrid\n",
      "moving to val: ./datasets/beat_cache/beat_4english_15_141/train/wave16k/6_carla_0_110_110.npy\n",
      "moving to val: ./datasets/beat_cache/beat_4english_15_141/train/sem/6_carla_0_110_110.txt\n",
      "moving to val: ./datasets/beat_cache/beat_4english_15_141/train/emo/6_carla_0_110_110.csv\n",
      "moving to val: ./datasets/beat_cache/beat_4english_15_141/train/bvh_rot_6d/6_carla_0_110_110.6d\n",
      "moving to val: ./datasets/beat_cache/beat_4english_15_141/train/bvh_rot/6_carla_0_110_110.bvh\n",
      "moving to val: ./datasets/beat_cache/beat_4english_15_141/train/bvh_rot_vis/6_carla_0_110_110.bvh\n",
      "moving to val: ./datasets/beat_cache/beat_4english_15_141/train/head_rot/6_carla_0_110_110.6d\n",
      "file_id: 0_118_118\n",
      "moving to val: ./datasets/beat_cache/beat_4english_15_141/train/facial52/6_carla_0_118_118.json\n",
      "moving to val: ./datasets/beat_cache/beat_4english_15_141/train/text/6_carla_0_118_118.TextGrid\n",
      "moving to val: ./datasets/beat_cache/beat_4english_15_141/train/wave16k/6_carla_0_118_118.npy\n",
      "moving to val: ./datasets/beat_cache/beat_4english_15_141/train/sem/6_carla_0_118_118.txt\n",
      "moving to val: ./datasets/beat_cache/beat_4english_15_141/train/emo/6_carla_0_118_118.csv\n",
      "moving to val: ./datasets/beat_cache/beat_4english_15_141/train/bvh_rot_6d/6_carla_0_118_118.6d\n",
      "moving to val: ./datasets/beat_cache/beat_4english_15_141/train/bvh_rot/6_carla_0_118_118.bvh\n",
      "moving to val: ./datasets/beat_cache/beat_4english_15_141/train/bvh_rot_vis/6_carla_0_118_118.bvh\n",
      "moving to val: ./datasets/beat_cache/beat_4english_15_141/train/head_rot/6_carla_0_118_118.6d\n",
      "file_id: 1_12_12\n",
      "moving to val: ./datasets/beat_cache/beat_4english_15_141/train/facial52/6_carla_1_12_12.json\n",
      "moving to val: ./datasets/beat_cache/beat_4english_15_141/train/text/6_carla_1_12_12.TextGrid\n",
      "moving to val: ./datasets/beat_cache/beat_4english_15_141/train/wave16k/6_carla_1_12_12.npy\n",
      "moving to val: ./datasets/beat_cache/beat_4english_15_141/train/sem/6_carla_1_12_12.txt\n",
      "moving to val: ./datasets/beat_cache/beat_4english_15_141/train/emo/6_carla_1_12_12.csv\n",
      "moving to val: ./datasets/beat_cache/beat_4english_15_141/train/bvh_rot_6d/6_carla_1_12_12.6d\n",
      "moving to val: ./datasets/beat_cache/beat_4english_15_141/train/bvh_rot/6_carla_1_12_12.bvh\n",
      "moving to val: ./datasets/beat_cache/beat_4english_15_141/train/bvh_rot_vis/6_carla_1_12_12.bvh\n",
      "moving to val: ./datasets/beat_cache/beat_4english_15_141/train/head_rot/6_carla_1_12_12.6d\n"
     ]
    },
    {
     "name": "stderr",
     "output_type": "stream",
     "text": [
      " 75%|███████▌  | 3/4 [00:02<00:00,  1.31it/s]"
     ]
    },
    {
     "name": "stdout",
     "output_type": "stream",
     "text": [
      "file_id: 0_57_57\n",
      "moving to val: ./datasets/beat_cache/beat_4english_15_141/train/facial52/8_catherine_0_57_57.json\n",
      "moving to val: ./datasets/beat_cache/beat_4english_15_141/train/text/8_catherine_0_57_57.TextGrid\n",
      "moving to val: ./datasets/beat_cache/beat_4english_15_141/train/wave16k/8_catherine_0_57_57.npy\n",
      "moving to val: ./datasets/beat_cache/beat_4english_15_141/train/sem/8_catherine_0_57_57.txt\n",
      "moving to val: ./datasets/beat_cache/beat_4english_15_141/train/emo/8_catherine_0_57_57.csv\n",
      "moving to val: ./datasets/beat_cache/beat_4english_15_141/train/bvh_rot_6d/8_catherine_0_57_57.6d\n",
      "moving to val: ./datasets/beat_cache/beat_4english_15_141/train/bvh_rot/8_catherine_0_57_57.bvh\n",
      "moving to val: ./datasets/beat_cache/beat_4english_15_141/train/bvh_rot_vis/8_catherine_0_57_57.bvh\n",
      "moving to val: ./datasets/beat_cache/beat_4english_15_141/train/head_rot/8_catherine_0_57_57.6d\n",
      "file_id: 0_58_58\n",
      "moving to val: ./datasets/beat_cache/beat_4english_15_141/train/facial52/8_catherine_0_58_58.json\n",
      "moving to val: ./datasets/beat_cache/beat_4english_15_141/train/text/8_catherine_0_58_58.TextGrid\n",
      "moving to val: ./datasets/beat_cache/beat_4english_15_141/train/wave16k/8_catherine_0_58_58.npy\n",
      "moving to val: ./datasets/beat_cache/beat_4english_15_141/train/sem/8_catherine_0_58_58.txt\n",
      "moving to val: ./datasets/beat_cache/beat_4english_15_141/train/emo/8_catherine_0_58_58.csv\n",
      "moving to val: ./datasets/beat_cache/beat_4english_15_141/train/bvh_rot_6d/8_catherine_0_58_58.6d\n",
      "moving to val: ./datasets/beat_cache/beat_4english_15_141/train/bvh_rot/8_catherine_0_58_58.bvh\n",
      "moving to val: ./datasets/beat_cache/beat_4english_15_141/train/bvh_rot_vis/8_catherine_0_58_58.bvh\n",
      "moving to val: ./datasets/beat_cache/beat_4english_15_141/train/head_rot/8_catherine_0_58_58.6d\n",
      "file_id: 0_59_59\n",
      "moving to val: ./datasets/beat_cache/beat_4english_15_141/train/facial52/8_catherine_0_59_59.json\n",
      "moving to val: ./datasets/beat_cache/beat_4english_15_141/train/text/8_catherine_0_59_59.TextGrid\n",
      "moving to val: ./datasets/beat_cache/beat_4english_15_141/train/wave16k/8_catherine_0_59_59.npy\n",
      "moving to val: ./datasets/beat_cache/beat_4english_15_141/train/sem/8_catherine_0_59_59.txt\n",
      "moving to val: ./datasets/beat_cache/beat_4english_15_141/train/emo/8_catherine_0_59_59.csv\n",
      "moving to val: ./datasets/beat_cache/beat_4english_15_141/train/bvh_rot_6d/8_catherine_0_59_59.6d\n",
      "moving to val: ./datasets/beat_cache/beat_4english_15_141/train/bvh_rot/8_catherine_0_59_59.bvh\n",
      "moving to val: ./datasets/beat_cache/beat_4english_15_141/train/bvh_rot_vis/8_catherine_0_59_59.bvh\n",
      "moving to val: ./datasets/beat_cache/beat_4english_15_141/train/head_rot/8_catherine_0_59_59.6d\n",
      "file_id: 0_60_60\n",
      "moving to val: ./datasets/beat_cache/beat_4english_15_141/train/facial52/8_catherine_0_60_60.json\n",
      "moving to val: ./datasets/beat_cache/beat_4english_15_141/train/text/8_catherine_0_60_60.TextGrid\n",
      "moving to val: ./datasets/beat_cache/beat_4english_15_141/train/wave16k/8_catherine_0_60_60.npy\n",
      "moving to val: ./datasets/beat_cache/beat_4english_15_141/train/sem/8_catherine_0_60_60.txt\n",
      "moving to val: ./datasets/beat_cache/beat_4english_15_141/train/emo/8_catherine_0_60_60.csv\n",
      "moving to val: ./datasets/beat_cache/beat_4english_15_141/train/bvh_rot_6d/8_catherine_0_60_60.6d\n",
      "moving to val: ./datasets/beat_cache/beat_4english_15_141/train/bvh_rot/8_catherine_0_60_60.bvh\n",
      "moving to val: ./datasets/beat_cache/beat_4english_15_141/train/bvh_rot_vis/8_catherine_0_60_60.bvh\n",
      "moving to val: ./datasets/beat_cache/beat_4english_15_141/train/head_rot/8_catherine_0_60_60.6d\n",
      "file_id: 0_61_61\n",
      "moving to val: ./datasets/beat_cache/beat_4english_15_141/train/facial52/8_catherine_0_61_61.json\n",
      "moving to val: ./datasets/beat_cache/beat_4english_15_141/train/text/8_catherine_0_61_61.TextGrid\n",
      "moving to val: ./datasets/beat_cache/beat_4english_15_141/train/wave16k/8_catherine_0_61_61.npy\n",
      "moving to val: ./datasets/beat_cache/beat_4english_15_141/train/sem/8_catherine_0_61_61.txt\n",
      "moving to val: ./datasets/beat_cache/beat_4english_15_141/train/emo/8_catherine_0_61_61.csv\n",
      "moving to val: ./datasets/beat_cache/beat_4english_15_141/train/bvh_rot_6d/8_catherine_0_61_61.6d\n",
      "moving to val: ./datasets/beat_cache/beat_4english_15_141/train/bvh_rot/8_catherine_0_61_61.bvh\n",
      "moving to val: ./datasets/beat_cache/beat_4english_15_141/train/bvh_rot_vis/8_catherine_0_61_61.bvh\n",
      "moving to val: ./datasets/beat_cache/beat_4english_15_141/train/head_rot/8_catherine_0_61_61.6d\n",
      "file_id: 0_62_62\n",
      "moving to val: ./datasets/beat_cache/beat_4english_15_141/train/facial52/8_catherine_0_62_62.json\n",
      "moving to val: ./datasets/beat_cache/beat_4english_15_141/train/text/8_catherine_0_62_62.TextGrid\n",
      "moving to val: ./datasets/beat_cache/beat_4english_15_141/train/wave16k/8_catherine_0_62_62.npy\n",
      "moving to val: ./datasets/beat_cache/beat_4english_15_141/train/sem/8_catherine_0_62_62.txt\n",
      "moving to val: ./datasets/beat_cache/beat_4english_15_141/train/emo/8_catherine_0_62_62.csv\n",
      "moving to val: ./datasets/beat_cache/beat_4english_15_141/train/bvh_rot_6d/8_catherine_0_62_62.6d\n",
      "moving to val: ./datasets/beat_cache/beat_4english_15_141/train/bvh_rot/8_catherine_0_62_62.bvh\n",
      "moving to val: ./datasets/beat_cache/beat_4english_15_141/train/bvh_rot_vis/8_catherine_0_62_62.bvh\n",
      "moving to val: ./datasets/beat_cache/beat_4english_15_141/train/head_rot/8_catherine_0_62_62.6d\n",
      "file_id: 0_63_63\n",
      "moving to val: ./datasets/beat_cache/beat_4english_15_141/train/facial52/8_catherine_0_63_63.json\n",
      "moving to val: ./datasets/beat_cache/beat_4english_15_141/train/text/8_catherine_0_63_63.TextGrid\n",
      "moving to val: ./datasets/beat_cache/beat_4english_15_141/train/wave16k/8_catherine_0_63_63.npy\n",
      "moving to val: ./datasets/beat_cache/beat_4english_15_141/train/sem/8_catherine_0_63_63.txt\n",
      "moving to val: ./datasets/beat_cache/beat_4english_15_141/train/emo/8_catherine_0_63_63.csv\n",
      "moving to val: ./datasets/beat_cache/beat_4english_15_141/train/bvh_rot_6d/8_catherine_0_63_63.6d\n",
      "moving to val: ./datasets/beat_cache/beat_4english_15_141/train/bvh_rot/8_catherine_0_63_63.bvh\n",
      "moving to val: ./datasets/beat_cache/beat_4english_15_141/train/bvh_rot_vis/8_catherine_0_63_63.bvh\n",
      "moving to val: ./datasets/beat_cache/beat_4english_15_141/train/head_rot/8_catherine_0_63_63.6d\n",
      "file_id: 0_64_64\n",
      "moving to val: ./datasets/beat_cache/beat_4english_15_141/train/facial52/8_catherine_0_64_64.json\n",
      "moving to val: ./datasets/beat_cache/beat_4english_15_141/train/text/8_catherine_0_64_64.TextGrid\n",
      "moving to val: ./datasets/beat_cache/beat_4english_15_141/train/wave16k/8_catherine_0_64_64.npy\n",
      "moving to val: ./datasets/beat_cache/beat_4english_15_141/train/sem/8_catherine_0_64_64.txt\n",
      "moving to val: ./datasets/beat_cache/beat_4english_15_141/train/emo/8_catherine_0_64_64.csv\n",
      "moving to val: ./datasets/beat_cache/beat_4english_15_141/train/bvh_rot_6d/8_catherine_0_64_64.6d\n",
      "moving to val: ./datasets/beat_cache/beat_4english_15_141/train/bvh_rot/8_catherine_0_64_64.bvh\n",
      "moving to val: ./datasets/beat_cache/beat_4english_15_141/train/bvh_rot_vis/8_catherine_0_64_64.bvh\n",
      "moving to val: ./datasets/beat_cache/beat_4english_15_141/train/head_rot/8_catherine_0_64_64.6d\n",
      "file_id: 0_72_72\n",
      "moving to val: ./datasets/beat_cache/beat_4english_15_141/train/facial52/8_catherine_0_72_72.json\n",
      "moving to val: ./datasets/beat_cache/beat_4english_15_141/train/text/8_catherine_0_72_72.TextGrid\n",
      "moving to val: ./datasets/beat_cache/beat_4english_15_141/train/wave16k/8_catherine_0_72_72.npy\n",
      "moving to val: ./datasets/beat_cache/beat_4english_15_141/train/sem/8_catherine_0_72_72.txt\n",
      "moving to val: ./datasets/beat_cache/beat_4english_15_141/train/emo/8_catherine_0_72_72.csv\n",
      "moving to val: ./datasets/beat_cache/beat_4english_15_141/train/bvh_rot_6d/8_catherine_0_72_72.6d\n",
      "moving to val: ./datasets/beat_cache/beat_4english_15_141/train/bvh_rot/8_catherine_0_72_72.bvh\n",
      "moving to val: ./datasets/beat_cache/beat_4english_15_141/train/bvh_rot_vis/8_catherine_0_72_72.bvh\n",
      "moving to val: ./datasets/beat_cache/beat_4english_15_141/train/head_rot/8_catherine_0_72_72.6d\n",
      "file_id: 0_80_80\n",
      "moving to val: ./datasets/beat_cache/beat_4english_15_141/train/facial52/8_catherine_0_80_80.json\n",
      "moving to val: ./datasets/beat_cache/beat_4english_15_141/train/text/8_catherine_0_80_80.TextGrid\n",
      "moving to val: ./datasets/beat_cache/beat_4english_15_141/train/wave16k/8_catherine_0_80_80.npy\n",
      "moving to val: ./datasets/beat_cache/beat_4english_15_141/train/sem/8_catherine_0_80_80.txt\n",
      "moving to val: ./datasets/beat_cache/beat_4english_15_141/train/emo/8_catherine_0_80_80.csv\n",
      "moving to val: ./datasets/beat_cache/beat_4english_15_141/train/bvh_rot_6d/8_catherine_0_80_80.6d\n",
      "moving to val: ./datasets/beat_cache/beat_4english_15_141/train/bvh_rot/8_catherine_0_80_80.bvh\n",
      "moving to val: ./datasets/beat_cache/beat_4english_15_141/train/bvh_rot_vis/8_catherine_0_80_80.bvh\n",
      "moving to val: ./datasets/beat_cache/beat_4english_15_141/train/head_rot/8_catherine_0_80_80.6d\n",
      "file_id: 0_86_86\n",
      "moving to val: ./datasets/beat_cache/beat_4english_15_141/train/facial52/8_catherine_0_86_86.json\n",
      "moving to val: ./datasets/beat_cache/beat_4english_15_141/train/text/8_catherine_0_86_86.TextGrid\n",
      "moving to val: ./datasets/beat_cache/beat_4english_15_141/train/wave16k/8_catherine_0_86_86.npy\n",
      "moving to val: ./datasets/beat_cache/beat_4english_15_141/train/sem/8_catherine_0_86_86.txt\n",
      "moving to val: ./datasets/beat_cache/beat_4english_15_141/train/emo/8_catherine_0_86_86.csv\n",
      "moving to val: ./datasets/beat_cache/beat_4english_15_141/train/bvh_rot_6d/8_catherine_0_86_86.6d\n",
      "moving to val: ./datasets/beat_cache/beat_4english_15_141/train/bvh_rot/8_catherine_0_86_86.bvh\n",
      "moving to val: ./datasets/beat_cache/beat_4english_15_141/train/bvh_rot_vis/8_catherine_0_86_86.bvh\n",
      "moving to val: ./datasets/beat_cache/beat_4english_15_141/train/head_rot/8_catherine_0_86_86.6d\n",
      "file_id: 0_94_94\n",
      "moving to val: ./datasets/beat_cache/beat_4english_15_141/train/facial52/8_catherine_0_94_94.json\n",
      "moving to val: ./datasets/beat_cache/beat_4english_15_141/train/text/8_catherine_0_94_94.TextGrid\n",
      "moving to val: ./datasets/beat_cache/beat_4english_15_141/train/wave16k/8_catherine_0_94_94.npy\n",
      "moving to val: ./datasets/beat_cache/beat_4english_15_141/train/sem/8_catherine_0_94_94.txt\n",
      "moving to val: ./datasets/beat_cache/beat_4english_15_141/train/emo/8_catherine_0_94_94.csv\n",
      "moving to val: ./datasets/beat_cache/beat_4english_15_141/train/bvh_rot_6d/8_catherine_0_94_94.6d\n",
      "moving to val: ./datasets/beat_cache/beat_4english_15_141/train/bvh_rot/8_catherine_0_94_94.bvh\n",
      "moving to val: ./datasets/beat_cache/beat_4english_15_141/train/bvh_rot_vis/8_catherine_0_94_94.bvh\n",
      "moving to val: ./datasets/beat_cache/beat_4english_15_141/train/head_rot/8_catherine_0_94_94.6d\n",
      "file_id: 0_102_102\n",
      "moving to val: ./datasets/beat_cache/beat_4english_15_141/train/facial52/8_catherine_0_102_102.json\n",
      "moving to val: ./datasets/beat_cache/beat_4english_15_141/train/text/8_catherine_0_102_102.TextGrid\n",
      "moving to val: ./datasets/beat_cache/beat_4english_15_141/train/wave16k/8_catherine_0_102_102.npy\n",
      "moving to val: ./datasets/beat_cache/beat_4english_15_141/train/sem/8_catherine_0_102_102.txt\n",
      "moving to val: ./datasets/beat_cache/beat_4english_15_141/train/emo/8_catherine_0_102_102.csv\n",
      "moving to val: ./datasets/beat_cache/beat_4english_15_141/train/bvh_rot_6d/8_catherine_0_102_102.6d\n",
      "moving to val: ./datasets/beat_cache/beat_4english_15_141/train/bvh_rot/8_catherine_0_102_102.bvh\n",
      "moving to val: ./datasets/beat_cache/beat_4english_15_141/train/bvh_rot_vis/8_catherine_0_102_102.bvh\n",
      "moving to val: ./datasets/beat_cache/beat_4english_15_141/train/head_rot/8_catherine_0_102_102.6d\n",
      "file_id: 0_110_110\n",
      "moving to val: ./datasets/beat_cache/beat_4english_15_141/train/facial52/8_catherine_0_110_110.json\n",
      "moving to val: ./datasets/beat_cache/beat_4english_15_141/train/text/8_catherine_0_110_110.TextGrid\n",
      "moving to val: ./datasets/beat_cache/beat_4english_15_141/train/wave16k/8_catherine_0_110_110.npy\n",
      "moving to val: ./datasets/beat_cache/beat_4english_15_141/train/sem/8_catherine_0_110_110.txt\n",
      "moving to val: ./datasets/beat_cache/beat_4english_15_141/train/emo/8_catherine_0_110_110.csv\n",
      "moving to val: ./datasets/beat_cache/beat_4english_15_141/train/bvh_rot_6d/8_catherine_0_110_110.6d\n",
      "moving to val: ./datasets/beat_cache/beat_4english_15_141/train/bvh_rot/8_catherine_0_110_110.bvh\n",
      "moving to val: ./datasets/beat_cache/beat_4english_15_141/train/bvh_rot_vis/8_catherine_0_110_110.bvh\n",
      "moving to val: ./datasets/beat_cache/beat_4english_15_141/train/head_rot/8_catherine_0_110_110.6d\n",
      "file_id: 0_118_118\n",
      "moving to val: ./datasets/beat_cache/beat_4english_15_141/train/facial52/8_catherine_0_118_118.json\n",
      "moving to val: ./datasets/beat_cache/beat_4english_15_141/train/text/8_catherine_0_118_118.TextGrid\n",
      "moving to val: ./datasets/beat_cache/beat_4english_15_141/train/wave16k/8_catherine_0_118_118.npy\n",
      "moving to val: ./datasets/beat_cache/beat_4english_15_141/train/sem/8_catherine_0_118_118.txt\n",
      "moving to val: ./datasets/beat_cache/beat_4english_15_141/train/emo/8_catherine_0_118_118.csv\n",
      "moving to val: ./datasets/beat_cache/beat_4english_15_141/train/bvh_rot_6d/8_catherine_0_118_118.6d\n",
      "moving to val: ./datasets/beat_cache/beat_4english_15_141/train/bvh_rot/8_catherine_0_118_118.bvh\n",
      "moving to val: ./datasets/beat_cache/beat_4english_15_141/train/bvh_rot_vis/8_catherine_0_118_118.bvh\n",
      "moving to val: ./datasets/beat_cache/beat_4english_15_141/train/head_rot/8_catherine_0_118_118.6d\n",
      "file_id: 1_12_12\n",
      "moving to val: ./datasets/beat_cache/beat_4english_15_141/train/facial52/8_catherine_1_12_12.json\n",
      "moving to val: ./datasets/beat_cache/beat_4english_15_141/train/text/8_catherine_1_12_12.TextGrid\n",
      "moving to val: ./datasets/beat_cache/beat_4english_15_141/train/wave16k/8_catherine_1_12_12.npy\n",
      "moving to val: ./datasets/beat_cache/beat_4english_15_141/train/sem/8_catherine_1_12_12.txt\n",
      "moving to val: ./datasets/beat_cache/beat_4english_15_141/train/emo/8_catherine_1_12_12.csv\n",
      "moving to val: ./datasets/beat_cache/beat_4english_15_141/train/bvh_rot_6d/8_catherine_1_12_12.6d\n",
      "moving to val: ./datasets/beat_cache/beat_4english_15_141/train/bvh_rot/8_catherine_1_12_12.bvh\n",
      "moving to val: ./datasets/beat_cache/beat_4english_15_141/train/bvh_rot_vis/8_catherine_1_12_12.bvh\n",
      "moving to val: ./datasets/beat_cache/beat_4english_15_141/train/head_rot/8_catherine_1_12_12.6d\n"
     ]
    },
    {
     "name": "stderr",
     "output_type": "stream",
     "text": [
      "100%|██████████| 4/4 [00:02<00:00,  1.34it/s]\n"
     ]
    }
   ],
   "source": [
    "# spilt data\n",
    "folders = os.listdir(default_path)\n",
    "if not os.path.exists(default_path.replace(\"train\", \"val\")): os.mkdir(default_path.replace(\"train\", \"val\"))\n",
    "if not os.path.exists(default_path.replace(\"train\", \"test\")): os.mkdir(default_path.replace(\"train\", \"test\"))\n",
    "endwith = []\n",
    "for folder in folders:\n",
    "    if not os.path.exists(default_path.replace(\"train\", \"val\")+\"/\"+folder): os.mkdir(default_path.replace(\"train\", \"val\")+\"/\"+folder)\n",
    "    if not os.path.exists(default_path.replace(\"train\", \"test\")+\"/\"+folder): os.mkdir(default_path.replace(\"train\", \"test\")+\"/\"+folder)\n",
    "    end = os.listdir(default_path+\"/\"+folder)[-1].split(\".\")[-1]\n",
    "    endwith.append(end)\n",
    "    \n",
    "for speaker_id in tqdm(speakers):\n",
    "    speaker_type = \"one_hour_speakers\" if str(speaker_id) in one_hour_speakers else \"four_hour_speakers\"\n",
    "    val = split_rule_english[speaker_type][\"val\"]\n",
    "    test = split_rule_english[speaker_type][\"test\"]\n",
    "    for file_id in val:\n",
    "        print(f\"file_id: {file_id}\")\n",
    "        for ide, folder in enumerate(folders):\n",
    "            if \"b\" in file_id:\n",
    "                cut_sequence(\n",
    "                    source_path=f\"{default_path}/{folder}/{speaker_id}_{speaker_names[speaker_id-1]}_{file_id.split('_')[0]}_{file_id.split('_')[1]}_{file_id.split('_')[1]}.{endwith[ide]}\",\n",
    "                    save_path_a=f\"{default_path.replace('train', 'test')}/{folder}/{speaker_id}_{speaker_names[speaker_id-1]}_{file_id.split('_')[0]}_{file_id.split('_')[1]}_a.{endwith[ide]}\",\n",
    "                    save_path_b=f\"{default_path.replace('train', 'val')}/{folder}/{speaker_id}_{speaker_names[speaker_id-1]}_{file_id.split('_')[0]}_{file_id.split('_')[1]}_b.{endwith[ide]}\",\n",
    "                    file_id = file_id,\n",
    "                        )\n",
    "            else:\n",
    "                #pass\n",
    "                try:\n",
    "                    print(f\"moving to val: {default_path}/{folder}/{speaker_id}_{speaker_names[speaker_id-1]}_{file_id}.{endwith[ide]}\")\n",
    "                    overwrite_move(f\"{default_path}/{folder}/{speaker_id}_{speaker_names[speaker_id-1]}_{file_id}.{endwith[ide]}\", f\"{default_path.replace('train', 'val')}/{folder}/\")\n",
    "                except Exception as e:\n",
    "                    print(f\"(val) ({e}) in move: {default_path}/{folder}/{speaker_id}_{speaker_names[speaker_id-1]}_{file_id}.{endwith[ide]}\")\n",
    "    for file_id in test:\n",
    "        for ide, folder in enumerate(folders):\n",
    "            if \"a\" in file_id:\n",
    "                pass\n",
    "            else:\n",
    "                #pass\n",
    "                try:\n",
    "                    overwrite_move(f\"{default_path}/{folder}/{speaker_id}_{speaker_names[speaker_id-1]}_{file_id}.{endwith[ide]}\", f\"{default_path.replace('train', 'test')}/{folder}/\")\n",
    "                \n",
    "                except Exception as e:\n",
    "                    print(f\"(test) ({e}) in move: {default_path}/{folder}/{speaker_id}_{speaker_names[speaker_id-1]}_{file_id}.{endwith[ide]}\")\n"
   ]
  },
  {
   "cell_type": "code",
   "execution_count": 12,
   "metadata": {},
   "outputs": [],
   "source": [
    "import glob\n",
    "import shutil\n",
    "import os\n",
    "pose_files = sorted(glob.glob(\"./datasets/beat_cache/beat_4english_15_141/test/wave16k/*.npy\"), key=str,)\n",
    "for pose_file in pose_files:\n",
    "    pose_file = pose_file.split('/')[-1][:-4]\n",
    "    pose_id = pose_file.split('_')[0]\n",
    "    wav_file = \"./datasets/beat_rawdata_english/\" + pose_id + \"/\" + pose_file + \".wav\"\n",
    "    move_target_path = \"../../DiffSHEG-main/audios/BEAT_2468speakers\"\n",
    "    overwrite_move(wav_file, move_target_path)\n"
   ]
  },
  {
   "cell_type": "code",
   "execution_count": 13,
   "metadata": {},
   "outputs": [
    {
     "name": "stdout",
     "output_type": "stream",
     "text": [
      "[[ 0  1]\n",
      " [ 1  2]\n",
      " [ 0 25]\n",
      " [25 26]\n",
      " [26 27]\n",
      " [27 28]\n",
      " [28 29]\n",
      " [29 30]\n",
      " [30 31]\n",
      " [28 32]\n",
      " [32 33]\n",
      " [33 34]\n",
      " [34 35]\n",
      " [32 36]\n",
      " [36 37]\n",
      " [37 38]\n",
      " [38 39]\n",
      " [28 40]\n",
      " [40 41]\n",
      " [41 42]\n",
      " [42 43]\n",
      " [40 44]\n",
      " [44 45]\n",
      " [45 46]\n",
      " [ 0  3]\n",
      " [ 3  4]\n",
      " [ 4  5]\n",
      " [ 5  6]\n",
      " [ 6  7]\n",
      " [ 7  8]\n",
      " [ 8  9]\n",
      " [ 6 10]\n",
      " [10 11]\n",
      " [11 12]\n",
      " [12 13]\n",
      " [10 14]\n",
      " [14 15]\n",
      " [15 16]\n",
      " [16 17]\n",
      " [ 6 18]\n",
      " [18 19]\n",
      " [19 20]\n",
      " [20 21]\n",
      " [18 22]\n",
      " [22 23]\n",
      " [23 24]]\n"
     ]
    }
   ],
   "source": [
    "import numpy as np\n",
    "\n",
    "target_list = joint_list[\"beat_141\"]\n",
    "def getBoneId(bone_name):\n",
    "    index = 0\n",
    "    for key, value in joint_list[\"beat_141\"].items():\n",
    "        if bone_name == key:\n",
    "            return index\n",
    "        index += 1\n",
    "    #return joint_list[\"beat_141\"].index(bone_name)  # 如果找不到返回-1，或者你可以抛出异常\n",
    "\n",
    "def readBoneStructure(path):\n",
    "    # 初始化一个空列表来存储父子关系对\n",
    "    bone_pairs = []\n",
    "\n",
    "    # 读取文件\n",
    "    with open(path, 'r') as file:\n",
    "        for line in file:\n",
    "            # 去除行尾的换行符和空格，并分割成父子关节名\n",
    "            parent, child = line.strip().split(',')\n",
    "            # 使用getBoneId函数将关节名转换为ID\n",
    "            parent_id = getBoneId(parent)\n",
    "            child_id = getBoneId(child)\n",
    "            # 如果转换成功（即ID不是-1），则添加到列表中\n",
    "            if parent_id != -1 and child_id != -1:\n",
    "                bone_pairs.append((parent_id, child_id))\n",
    "            else:\n",
    "                # 如果转换失败，可以选择打印错误消息或抛出异常\n",
    "                print(f\"Error: Unable to convert bone names to IDs for line: {line.strip()}\")\n",
    "\n",
    "    # 将列表转换为N*2的numpy数组\n",
    "    bone_structure_array = np.array(bone_pairs)\n",
    "    return bone_structure_array\n",
    "\n",
    "print(readBoneStructure(f\"../spine_neck_141_boneid_structure\"))"
   ]
  },
  {
   "cell_type": "code",
   "execution_count": 11,
   "metadata": {},
   "outputs": [
    {
     "name": "stdout",
     "output_type": "stream",
     "text": [
      "Found 'LHandT3' in list at 46.\n"
     ]
    }
   ],
   "source": [
    "index = 0\n",
    "for key, value in joint_list[\"beat_141\"].items():\n",
    "    if 'LHandT3' == key:\n",
    "        print(f\"Found 'LHandT3' in list at {index}.\")\n",
    "    index += 1"
   ]
  }
 ],
 "metadata": {
  "kernelspec": {
   "display_name": "newbeat",
   "language": "python",
   "name": "python3"
  },
  "language_info": {
   "codemirror_mode": {
    "name": "ipython",
    "version": 3
   },
   "file_extension": ".py",
   "mimetype": "text/x-python",
   "name": "python",
   "nbconvert_exporter": "python",
   "pygments_lexer": "ipython3",
   "version": "3.8.19"
  }
 },
 "nbformat": 4,
 "nbformat_minor": 4
}
